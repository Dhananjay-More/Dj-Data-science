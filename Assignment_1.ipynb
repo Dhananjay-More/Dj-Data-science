{
 "cells": [
  {
   "cell_type": "markdown",
   "id": "cd50da73",
   "metadata": {},
   "source": [
    "# Assignment_1"
   ]
  },
  {
   "cell_type": "raw",
   "id": "f8de42a2",
   "metadata": {},
   "source": [
    "1. In the below elements which of them are values or an expression? eg:- values can be\n",
    "integer or string and expressions will be mathematical operators.\n",
    "Ans:-\n",
    "*         -expression\n",
    "'hello'   -string value\n",
    "-87.8     -Float value\n",
    "-         -expression\n",
    "/         -expression\n",
    "+         -expression\n",
    "6         -integer value"
   ]
  },
  {
   "cell_type": "raw",
   "id": "cd98455c",
   "metadata": {},
   "source": [
    "2. What is the difference between string and variable?\n",
    "Ans:-\n",
    "String is collection of multiple character,numbers and symbols.\n",
    "variable is memory which can hold some value. value may be of any type int,float,bool or string."
   ]
  },
  {
   "cell_type": "raw",
   "id": "3e23d786",
   "metadata": {},
   "source": [
    "3. Describe three different data types.\n",
    "Ans:- Following are some data types used in python\n",
    "Int- contain int number value that is without point value. eg. 1,1010,-2\n",
    "Float- contain Numaric value with decimal point. eg. 3.14\n",
    "Coplex- contain real and imagenary part. eg. 2+3j\n",
    "String- collection of multiple character,numbers and symbols.eg. 'abc',\"pqr\""
   ]
  },
  {
   "cell_type": "raw",
   "id": "6a73fd76",
   "metadata": {},
   "source": [
    "4. What is an expression made up of? What do all expressions do?\n",
    "Ans:-\n",
    "Expression made up of variables,oprators and function calls.eg. a=b+c.\n",
    "All expressions evaluates to a single value."
   ]
  },
  {
   "cell_type": "raw",
   "id": "7dca0081",
   "metadata": {},
   "source": [
    "5. This assignment statements, like spam = 10. What is the difference between an\n",
    "expression and a statement?\n",
    "Ans:-\n",
    "The assignment statement assign value (single value or value come from evaluating expression) of right side to left side variable. spam=10 here 10 is value assign to variable spam.\n",
    "Expression create new value after evaluation while statement does note create any new value."
   ]
  },
  {
   "cell_type": "raw",
   "id": "03227868",
   "metadata": {},
   "source": [
    "6. After running the following code, what does the variable bacon contain?\n",
    "bacon = 22\n",
    "bacon + 1\n",
    "Ans:- bacon contain value 22\n",
    "bacon = 22  this statement assign value 22 to variable bacon\n",
    "bacon + 1   this statement increase value of variable bacon by 1 but it is not assign to bacon so contain of bacon does not change\n"
   ]
  },
  {
   "cell_type": "raw",
   "id": "e6894b7a",
   "metadata": {},
   "source": [
    "7. What should the values of the following two terms be?\n",
    "'spam' + 'spamspam'\n",
    "'spam' * 3\n",
    "Ans:-\n",
    "    1 'spam' + 'spamspam' gives output 'spamspamspam' here is concatination of string.\n",
    "    2 'spam' * 3 gives output 'spamspamspam' here repetation is done because of *."
   ]
  },
  {
   "cell_type": "raw",
   "id": "e3416fff",
   "metadata": {},
   "source": [
    "8. Why is eggs a valid variable name while 100 is invalid?\n",
    "Ans:-\n",
    "    eggs is valid variable name because it start with character and it is not keyword.\n",
    "    100 is invalid because variable name can not start with number."
   ]
  },
  {
   "cell_type": "raw",
   "id": "44782131",
   "metadata": {},
   "source": [
    "9. What three functions can be used to get the integer, floating-point number, or string\n",
    "version of a value?\n",
    "Ans:-\n",
    "    for integer function is int()\n",
    "    for floating-point number function is float()\n",
    "    for string function is str().\n",
    "    eg. value is 123.456   \n",
    "       int(123.456) gives 123\n",
    "       float(123.123) gives 123.456\n",
    "       str(123.456)  gives '123.456'\n",
    "        "
   ]
  },
  {
   "cell_type": "raw",
   "id": "49840f27",
   "metadata": {},
   "source": [
    "10. Why does this expression cause an error? How can you fix it?\n",
    "'I have eaten' + 99 + 'burritos.'\n",
    "Ans:-\n",
    " yes this expression cause error because string can not concate with int value 99.\n",
    " TypeError: can only concatenate str (not \"int\") to str\n",
    " to solve this we have to convert 99 into string by type casting. str(99) then it will be executed.\n",
    " 'I have eaten ' + str(99) + ' burritos.' gives output 'I have eaten 99 burritos.' "
   ]
  }
 ],
 "metadata": {
  "kernelspec": {
   "display_name": "Python 3 (ipykernel)",
   "language": "python",
   "name": "python3"
  },
  "language_info": {
   "codemirror_mode": {
    "name": "ipython",
    "version": 3
   },
   "file_extension": ".py",
   "mimetype": "text/x-python",
   "name": "python",
   "nbconvert_exporter": "python",
   "pygments_lexer": "ipython3",
   "version": "3.9.12"
  }
 },
 "nbformat": 4,
 "nbformat_minor": 5
}
