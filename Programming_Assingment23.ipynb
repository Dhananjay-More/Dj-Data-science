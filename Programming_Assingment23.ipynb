{
 "cells": [
  {
   "cell_type": "raw",
   "id": "0fa92240",
   "metadata": {},
   "source": [
    "Question 1\n",
    "Create a function that takes a number as an argument and returns True or False depending on whether the number is symmetrical or not. A number is symmetrical when it is the same as its reverse.\n",
    "Examples\n",
    "is_symmetrical(7227) ➞ True\n",
    "is_symmetrical(12567) ➞ False\n",
    "is_symmetrical(44444444) ➞ True\n",
    "is_symmetrical(9939) ➞ False\n",
    "is_symmetrical(1112111) ➞ True"
   ]
  },
  {
   "cell_type": "raw",
   "id": "93319a6d",
   "metadata": {},
   "source": [
    "Ans:-\n",
    "def is_symmetrical(num):\n",
    "    snum=str(num)\n",
    "    if snum == snum[::-1]:\n",
    "        return True\n",
    "    return False\n",
    "num=int(input(\"Enter Number:\"))\n",
    "is_symmetrical(num)"
   ]
  },
  {
   "cell_type": "raw",
   "id": "f33197d5",
   "metadata": {},
   "source": [
    "Question 2\n",
    "Given a string of numbers separated by a comma and space, return the product of the numbers.\n",
    "Examples\n",
    "multiply_nums(\"2, 3\") ➞ 6\n",
    "multiply_nums(\"1, 2, 3, 4\") ➞ 24\n",
    "multiply_nums(\"54, 75, 453, 0\") ➞ 0\n",
    "multiply_nums(\"10, -2\") ➞ -20"
   ]
  },
  {
   "cell_type": "raw",
   "id": "a962b73f",
   "metadata": {},
   "source": [
    "Ans:-\n",
    "def multiply_nums(s):\n",
    "    sl=s.split(\", \")\n",
    "    sln=[int(i) for i in sl]\n",
    "    p=1\n",
    "    for i in sln:\n",
    "        p=p*i\n",
    "    return p\n",
    "multiply_nums(\"1, 2, 3, 4\")"
   ]
  },
  {
   "cell_type": "raw",
   "id": "ca8db436",
   "metadata": {},
   "source": [
    "Question 3\n",
    "Create a function that squares every digit of a number.\n",
    "Examples\n",
    "square_digits(9119) ➞ 811181\n",
    "square_digits(2483) ➞ 416649\n",
    "square_digits(3212) ➞ 9414\n",
    "Notes\n",
    "The function receives an integer and must return an integer."
   ]
  },
  {
   "cell_type": "raw",
   "id": "8ebc987b",
   "metadata": {},
   "source": [
    "Ans:-\n",
    "def square_digits(num):\n",
    "    z = ''.join(str(int(i)**2) for i in str(num))\n",
    "    return int(z)\n",
    "square_digits(9119)"
   ]
  },
  {
   "cell_type": "raw",
   "id": "4ecba8aa",
   "metadata": {},
   "source": [
    "Question 4\n",
    "Create a function that sorts a list and removes all duplicate items from it.\n",
    "Examples\n",
    "setify([1, 3, 3, 5, 5]) ➞ [1, 3, 5]\n",
    "setify([4, 4, 4, 4]) ➞ [4]\n",
    "setify([5, 7, 8, 9, 10, 15]) ➞ [5, 7, 8, 9, 10, 15]\n",
    "setify([3, 3, 3, 2, 1]) ➞ [1, 2, 3]"
   ]
  },
  {
   "cell_type": "raw",
   "id": "db1440b8",
   "metadata": {},
   "source": [
    "Ans:-\n",
    "def setify(lst):\n",
    "    return list(set(lst))\n",
    "\n",
    "setify([1, 3, 3, 5, 5])"
   ]
  },
  {
   "cell_type": "raw",
   "id": "4590e568",
   "metadata": {},
   "source": [
    "Question 5\n",
    "Create a function that returns the mean of all digits.\n",
    "Examples\n",
    "mean(42) ➞ 3\n",
    "mean(12345) ➞ 3\n",
    "mean(666) ➞ 6\n",
    "Notes\n",
    "•\tThe mean of all digits is the sum of digits / how many digits there are (e.g. mean of digits in 512 is (5+1+2)/3(number of digits) = 8/3=2).\n",
    "•\tThe mean will always be an integer."
   ]
  },
  {
   "cell_type": "raw",
   "id": "dc9d7228",
   "metadata": {},
   "source": [
    "Ans:-\n",
    "def mean(n): \n",
    "    N = len(str(n)) \n",
    "    sum = mean = 0\n",
    "    \n",
    "    for digit in str(n):\n",
    "        sum += int(digit)       \n",
    "    return int(sum/N)\n",
    "\n",
    "mean(12345)"
   ]
  }
 ],
 "metadata": {
  "kernelspec": {
   "display_name": "Python 3 (ipykernel)",
   "language": "python",
   "name": "python3"
  },
  "language_info": {
   "codemirror_mode": {
    "name": "ipython",
    "version": 3
   },
   "file_extension": ".py",
   "mimetype": "text/x-python",
   "name": "python",
   "nbconvert_exporter": "python",
   "pygments_lexer": "ipython3",
   "version": "3.9.12"
  }
 },
 "nbformat": 4,
 "nbformat_minor": 5
}
