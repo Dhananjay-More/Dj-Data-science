{
 "cells": [
  {
   "cell_type": "raw",
   "id": "55ec73a2",
   "metadata": {},
   "source": [
    "1. Create a list called years_list, starting with the year of your birth, and each year thereafter until the year of your fifth birthday. For example, if you were born in 1980. the list would be years_list = [1980, 1981, 1982, 1983, 1984, 1985]."
   ]
  },
  {
   "cell_type": "raw",
   "id": "e5e7ecd3",
   "metadata": {},
   "source": [
    "Ans:-\n",
    "    years_list = [i for i in range(1990,1990+6)]\n",
    "    years_list"
   ]
  },
  {
   "cell_type": "raw",
   "id": "ff078c6f",
   "metadata": {},
   "source": [
    "2. In which year in years_list was your third birthday? Remember, you were 0 years of age for your first year."
   ]
  },
  {
   "cell_type": "raw",
   "id": "0e5c3de0",
   "metadata": {},
   "source": [
    "Ans:-\n",
    "    years_list[3]"
   ]
  },
  {
   "cell_type": "raw",
   "id": "a5dccc92",
   "metadata": {},
   "source": [
    "3.In the years list, which year were you the oldest?"
   ]
  },
  {
   "cell_type": "raw",
   "id": "6abf2007",
   "metadata": {},
   "source": [
    "Ans:-\n",
    "    max(years_list)"
   ]
  },
  {
   "cell_type": "raw",
   "id": "3361453f",
   "metadata": {},
   "source": [
    "4. Make a list called things with these three strings as elements: \"mozzarella\", \"cinderella\", \"salmonella\"."
   ]
  },
  {
   "cell_type": "raw",
   "id": "b88ff36d",
   "metadata": {},
   "source": [
    "Ans:-\n",
    "    things = list(['mozzarella', 'cinderella','salmonella'])\n",
    "    things"
   ]
  },
  {
   "cell_type": "raw",
   "id": "6454d658",
   "metadata": {},
   "source": [
    "5. Capitalize the element in things that refers to a person and then print the list. Did it change the element in the list?"
   ]
  },
  {
   "cell_type": "raw",
   "id": "63934c83",
   "metadata": {},
   "source": [
    "Ans:-\n",
    "    for i in things:\n",
    "        print(i.capitalize())\n",
    "    things\n",
    "    Capitalize() will not update the list original values."
   ]
  },
  {
   "cell_type": "raw",
   "id": "c8e43bb8",
   "metadata": {},
   "source": [
    "6. Make a surprise list with the elements \"Groucho,\" \"Chico,\" and \"Harpo.\""
   ]
  },
  {
   "cell_type": "raw",
   "id": "8364812d",
   "metadata": {},
   "source": [
    "Ans:-\n",
    "    surprise_list = [\"Groucho\", \"Chico\", \"Harpo\"]\n",
    "    surprise_list"
   ]
  },
  {
   "cell_type": "raw",
   "id": "0f1612f4",
   "metadata": {},
   "source": [
    "7. Lowercase the last element of the surprise list, reverse it, and then capitalize it."
   ]
  },
  {
   "cell_type": "raw",
   "id": "6a8cbdee",
   "metadata": {},
   "source": [
    "Ans:-\n",
    "    surprise_list[-1].lower()\n",
    "    surprise_list[-1][::-1]\n",
    "    surprise_list[-1][::-1].upper()"
   ]
  },
  {
   "cell_type": "raw",
   "id": "7804314d",
   "metadata": {},
   "source": [
    "8. Make an English-to-French dictionary called e2f and print it. Here are your starter words: dog is chien, cat is chat, and walrus is morse."
   ]
  },
  {
   "cell_type": "raw",
   "id": "c6e09d9a",
   "metadata": {},
   "source": [
    "Ans:-\n",
    "    e2f = {'dog':'chien','cat':'chat','walrus':'morse'}"
   ]
  },
  {
   "cell_type": "raw",
   "id": "6a0511f2",
   "metadata": {},
   "source": [
    "9. Write the French word for walrus in your three-word dictionary e2f."
   ]
  },
  {
   "cell_type": "raw",
   "id": "b98fa453",
   "metadata": {},
   "source": [
    "Ans:-\n",
    "    e2f['walrus']"
   ]
  },
  {
   "cell_type": "raw",
   "id": "54107484",
   "metadata": {},
   "source": [
    "10. Make a French-to-English dictionary called f2e from e2f. Use the items method."
   ]
  },
  {
   "cell_type": "raw",
   "id": "822369e9",
   "metadata": {},
   "source": [
    "Ans:-\n",
    "    f2e = dict((key,value) for value,key in e2f.items())\n",
    "    f2e"
   ]
  },
  {
   "cell_type": "raw",
   "id": "29001518",
   "metadata": {},
   "source": [
    "11. Print the English version of the French word chien using f2e."
   ]
  },
  {
   "cell_type": "raw",
   "id": "662f03e5",
   "metadata": {},
   "source": [
    "Ans:-\n",
    "    f2e['chien']"
   ]
  },
  {
   "cell_type": "raw",
   "id": "9227503a",
   "metadata": {},
   "source": [
    "12. Make and print a set of English words from the keys in e2f."
   ]
  },
  {
   "cell_type": "raw",
   "id": "e22d82ed",
   "metadata": {},
   "source": [
    "Ans:-\n",
    "    e2f.keys()"
   ]
  },
  {
   "cell_type": "raw",
   "id": "48632e39",
   "metadata": {},
   "source": [
    "13. Make a multilevel dictionary called life. Use these strings for the topmost keys: 'animals', 'plants', and 'other'. Make the 'animals' key refer to another dictionary with the keys 'cats', 'octopi', and 'emus'. Make the 'cats' key refer to a list of strings with the values 'Henri', 'Grumpy', and 'Lucy'. Make all the other keys refer to empty dictionaries."
   ]
  },
  {
   "cell_type": "raw",
   "id": "011c9644",
   "metadata": {},
   "source": [
    "Ans:-\n",
    "    life ={'animals':{'cat':['Henri', 'Grumpy', 'Lucy'], 'octopi':'', 'emus':''},\n",
    "       'plants' :'',\n",
    "       'other' :'' }\n",
    "    life"
   ]
  },
  {
   "cell_type": "raw",
   "id": "574d54fd",
   "metadata": {},
   "source": [
    "14. Print the top-level keys of life."
   ]
  },
  {
   "cell_type": "raw",
   "id": "6bd575a0",
   "metadata": {},
   "source": [
    "Ans:-\n",
    "    life.keys()"
   ]
  },
  {
   "cell_type": "raw",
   "id": "d59878af",
   "metadata": {},
   "source": [
    "15. Print the keys for life['animals']."
   ]
  },
  {
   "cell_type": "raw",
   "id": "4be4ed94",
   "metadata": {},
   "source": [
    "Ans:-\n",
    "    life['animals'].keys()"
   ]
  },
  {
   "cell_type": "raw",
   "id": "96773d44",
   "metadata": {},
   "source": [
    "16. Print the values for life['animals']['cats']"
   ]
  },
  {
   "cell_type": "raw",
   "id": "a80429f0",
   "metadata": {},
   "source": [
    "Ans:-\n",
    "    life['animals']['cat']"
   ]
  }
 ],
 "metadata": {
  "kernelspec": {
   "display_name": "Python 3 (ipykernel)",
   "language": "python",
   "name": "python3"
  },
  "language_info": {
   "codemirror_mode": {
    "name": "ipython",
    "version": 3
   },
   "file_extension": ".py",
   "mimetype": "text/x-python",
   "name": "python",
   "nbconvert_exporter": "python",
   "pygments_lexer": "ipython3",
   "version": "3.9.12"
  }
 },
 "nbformat": 4,
 "nbformat_minor": 5
}
