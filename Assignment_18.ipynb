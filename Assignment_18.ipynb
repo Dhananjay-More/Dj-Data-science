{
 "cells": [
  {
   "cell_type": "raw",
   "id": "9adbf611",
   "metadata": {},
   "source": [
    "1. Create a zoo.pyfile first. Define the hours() function, which prints the string 'Open 9-5 daily'. Then, use the interactive interpreter to import the zoo module and call its hours() function."
   ]
  },
  {
   "cell_type": "raw",
   "id": "f7f15707",
   "metadata": {},
   "source": [
    "Ans:-\n",
    "from google.colab import files\n",
    "uploaded = files.upload()\n",
    "import zoo\n",
    "from importlib import reload\n",
    "reload(zoo)\n",
    "\n",
    "zoo.hours()"
   ]
  },
  {
   "cell_type": "raw",
   "id": "4fc38c1e",
   "metadata": {},
   "source": [
    "2. In the interactive interpreter, import the zoo module as menagerie and call its hours() function."
   ]
  },
  {
   "cell_type": "raw",
   "id": "fe398851",
   "metadata": {},
   "source": [
    "Ans:-\n",
    "import zoo as menagerie\n",
    "menagerie.hours()"
   ]
  },
  {
   "cell_type": "raw",
   "id": "0c304a18",
   "metadata": {},
   "source": [
    "3. Using the interpreter, explicitly import and call the hours() function from zoo."
   ]
  },
  {
   "cell_type": "raw",
   "id": "d58a3ab7",
   "metadata": {},
   "source": [
    "Ans:-\n",
    "from zoo import hours\n",
    "hours()"
   ]
  },
  {
   "cell_type": "raw",
   "id": "30facf1d",
   "metadata": {},
   "source": [
    "4. Import the hours() function as info and call it."
   ]
  },
  {
   "cell_type": "raw",
   "id": "0f4218a8",
   "metadata": {},
   "source": [
    "Ans:-\n",
    "from zoo import hours as info\n",
    "info()"
   ]
  },
  {
   "cell_type": "raw",
   "id": "cc91a227",
   "metadata": {},
   "source": [
    "5. Create a plain dictionary with the key-value pairs 'a': 1, 'b': 2, and 'c': 3, and print it out."
   ]
  },
  {
   "cell_type": "raw",
   "id": "aae90af5",
   "metadata": {},
   "source": [
    "Ans:-\n",
    "plain = {'a': 1, 'b': 2, 'c': 3}\n",
    "plain"
   ]
  },
  {
   "cell_type": "raw",
   "id": "b1fc60d2",
   "metadata": {},
   "source": [
    "6.Make an OrderedDict called fancy from the same pairs listed in 5 and print it. Did it print in the same order as plain?"
   ]
  },
  {
   "cell_type": "raw",
   "id": "1d8e5000",
   "metadata": {},
   "source": [
    "Ans:- yes.\n",
    "from collections import OrderedDict\n",
    "fancy = OrderedDict([('a', 1), ('b', 2), ('c', 3)])\n",
    "fancy"
   ]
  },
  {
   "cell_type": "raw",
   "id": "cccbc577",
   "metadata": {},
   "source": [
    "7. Make a default dictionary called dict_of_lists and pass it the argument list. Make the list dict_of_lists['a'] and append the value 'something for a' to it in one assignment. Print dict_of_lists['a']."
   ]
  },
  {
   "cell_type": "raw",
   "id": "d733443d",
   "metadata": {},
   "source": [
    "Ans:-\n",
    "from collections import defaultdict\n",
    "dict_of_lists = defaultdict(list)\n",
    "dict_of_lists['a'].append('something for a')\n",
    "dict_of_lists['a']"
   ]
  }
 ],
 "metadata": {
  "kernelspec": {
   "display_name": "Python 3 (ipykernel)",
   "language": "python",
   "name": "python3"
  },
  "language_info": {
   "codemirror_mode": {
    "name": "ipython",
    "version": 3
   },
   "file_extension": ".py",
   "mimetype": "text/x-python",
   "name": "python",
   "nbconvert_exporter": "python",
   "pygments_lexer": "ipython3",
   "version": "3.9.12"
  }
 },
 "nbformat": 4,
 "nbformat_minor": 5
}
