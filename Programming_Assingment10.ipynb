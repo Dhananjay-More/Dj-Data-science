{
 "cells": [
  {
   "cell_type": "raw",
   "id": "83ad66db",
   "metadata": {},
   "source": [
    "1.\tWrite a Python program to find sum of elements in list?\n",
    "Ans:-\n",
    "def sumofall(l):\n",
    "    sum=0\n",
    "    for n in l:\n",
    "        sum = sum + n\n",
    "    return sum\n",
    "l=[2,4,6,1,3,7,5,10,9,8]\n",
    "print(\"sum of all element in list=\",sumofall(l))"
   ]
  },
  {
   "cell_type": "raw",
   "id": "41f544ab",
   "metadata": {},
   "source": [
    "2.\tWrite a Python program to  Multiply all numbers in the list?\n",
    "Ans:-\n",
    "def mulofall(l):\n",
    "    mul=1\n",
    "    for n in l:\n",
    "        mul = mul * n\n",
    "    return mul\n",
    "l=[2,4,6,1,3,7,5,10,9,8]\n",
    "print(\"Multiplication of all element in list=\",mulofall(l))"
   ]
  },
  {
   "cell_type": "raw",
   "id": "f32264f3",
   "metadata": {},
   "source": [
    "3.\tWrite a Python program to find smallest number in a list?\n",
    "Ans:-\n",
    "def smallinlist(l):\n",
    "    s=l[0]\n",
    "    for n in l:\n",
    "        if n < s:\n",
    "            s=n\n",
    "    return s\n",
    "l=[2,4,6,1,3,7,5,10,9,8]\n",
    "print(\"Smallest element in list=\",smallinlist(l))"
   ]
  },
  {
   "cell_type": "raw",
   "id": "6618144e",
   "metadata": {},
   "source": [
    "4.\tWrite a Python program to find largest number in a list?\n",
    "Ans:-\n",
    "def largeinlist(l):\n",
    "    le=l[0]\n",
    "    for n in l:\n",
    "        if n > le:\n",
    "            le=n\n",
    "    return le\n",
    "l=[2,4,6,1,3,7,5,10,9,8]\n",
    "print(\"Largest element in list=\",largeinlist(l))"
   ]
  },
  {
   "cell_type": "raw",
   "id": "1b71b2de",
   "metadata": {},
   "source": [
    "5.\tWrite a Python program to find second largest number in a list?\n",
    "Ans:-\n",
    "def secondlarge(l):\n",
    "    try:\n",
    "        l.sort()\n",
    "        return(l[len(l)-2])\n",
    "    except Exception as e:\n",
    "        print(\"Error:\",e)\n",
    "\n",
    "l=[2,4,6,1,3,7,5,10,9,8]\n",
    "print(\"Second largest element in list:\",secondlarge(l))"
   ]
  },
  {
   "cell_type": "raw",
   "id": "9a9cce3e",
   "metadata": {},
   "source": [
    "6.\tWrite a Python program to find N largest elements from a list?\n",
    "Ans:-\n",
    "def nlarge(l,n):\n",
    "    try:\n",
    "        l.sort()\n",
    "        return(l[len(l)-n])\n",
    "    except Exception as e:\n",
    "        print(\"Error:\",e)\n",
    "\n",
    "l=[2,4,6,1,3,7,5,10,9,8]\n",
    "pos=int(input(\"Enter N for largest element in list:\"))\n",
    "print(nlarge(l,pos))"
   ]
  },
  {
   "cell_type": "raw",
   "id": "5a0cb9c2",
   "metadata": {},
   "source": [
    "7.\tWrite a Python program to print even numbers in a list?\n",
    "Ans:-\n",
    "def leven(l):\n",
    "    le=[]\n",
    "    try:\n",
    "        for n in l:\n",
    "            if n%2==0:\n",
    "                le.append(n)\n",
    "        return(le)\n",
    "    except Exception as e:\n",
    "        print(\"Error:\",e)\n",
    "\n",
    "l=[2,4,6,1,3,7,5,10,9,8]\n",
    "print(\"All even no from list=\", leven(l))"
   ]
  },
  {
   "cell_type": "raw",
   "id": "77656e3c",
   "metadata": {},
   "source": [
    "8.\tWrite a Python program to print odd numbers in a List?\n",
    "Ans:-\n",
    "def lodd(l):\n",
    "    lo=[]\n",
    "    try:\n",
    "        for n in l:\n",
    "            if n%2==0:\n",
    "                pass\n",
    "            else:\n",
    "                lo.append(n)\n",
    "        return(lo)\n",
    "    except Exception as e:\n",
    "        print(\"Error:\",e)\n",
    "\n",
    "l=[2,4,6,1,3,7,5,10,9,8]\n",
    "print(\"All odd no from list=\", lodd(l))"
   ]
  },
  {
   "cell_type": "raw",
   "id": "6c4e7d38",
   "metadata": {},
   "source": [
    "9.\tWrite a Python program to Remove empty List from List?\n",
    "Ans:-\n",
    "def remptyl(l):\n",
    "    try:\n",
    "        nl=[]\n",
    "        for n in range(0,len(l)):\n",
    "            if type(l[n])== list and len(l[n])==0 :\n",
    "                pass\n",
    "            else:\n",
    "                nl.append(l[n])\n",
    "        return(nl)\n",
    "    except Exception as e:\n",
    "        print(\"Error:\",e)\n",
    "\n",
    "l=[2,4,6,1,3,7,5,10,9,8,[],11,[12]]\n",
    "print(\"List After removing empty list=\",remptyl(l))"
   ]
  },
  {
   "cell_type": "raw",
   "id": "aba93a23",
   "metadata": {},
   "source": [
    "10.\tWrite a Python program to Cloning or Copying a list?\n",
    "Ans:-\n",
    "def lcopy(l):\n",
    "    try:\n",
    "        nl=[]\n",
    "        for n in l:\n",
    "            nl.append(n)\n",
    "        return(nl)\n",
    "    except Exception as e:\n",
    "        print(\"Error:\",e)\n",
    "\n",
    "l=[2,4,6,1,3,7,5,10,9,8,[],11,[12]]\n",
    "print(\"New List After copy list=\",lcopy(l))"
   ]
  },
  {
   "cell_type": "raw",
   "id": "ec047a7d",
   "metadata": {},
   "source": [
    "11.\tWrite a Python program to Count occurrences of an element in a list?\n",
    "Ans:-\n",
    "def countocc(l,ele):\n",
    "    try:\n",
    "        cnt=0\n",
    "        for n in l:\n",
    "            if n==ele :\n",
    "                cnt+=1\n",
    "        return(cnt)\n",
    "    except Exception as e:\n",
    "        print(\"Error:\",e)\n",
    "\n",
    "l=[2,4,6,1,3,7,5,10,9,8,2,4,2,5]\n",
    "sele=int(input(\"Enter Element to search occurrences:\"))\n",
    "print(\"Number of occurrences of \",sele,\" in list=\",countocc(l,sele))"
   ]
  },
  {
   "cell_type": "code",
   "execution_count": null,
   "id": "85279019",
   "metadata": {},
   "outputs": [],
   "source": []
  }
 ],
 "metadata": {
  "kernelspec": {
   "display_name": "Python 3 (ipykernel)",
   "language": "python",
   "name": "python3"
  },
  "language_info": {
   "codemirror_mode": {
    "name": "ipython",
    "version": 3
   },
   "file_extension": ".py",
   "mimetype": "text/x-python",
   "name": "python",
   "nbconvert_exporter": "python",
   "pygments_lexer": "ipython3",
   "version": "3.9.12"
  }
 },
 "nbformat": 4,
 "nbformat_minor": 5
}
