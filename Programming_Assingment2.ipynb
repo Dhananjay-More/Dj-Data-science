{
 "cells": [
  {
   "cell_type": "raw",
   "id": "64919d88",
   "metadata": {},
   "source": [
    "1.\tWrite a Python program to convert kilometers to miles?\n",
    "Ans:-\n",
    "km=float(input(\"Enter kilometres to convert into miles:\"))\n",
    "miles= km * 0.621371\n",
    "print(km,\" kilometres in miles=\",miles)"
   ]
  },
  {
   "cell_type": "raw",
   "id": "4fef2329",
   "metadata": {},
   "source": [
    "2.\tWrite a Python program to convert Celsius to Fahrenheit?\n",
    "Ans:-\n",
    "c=float(input(\"Enter Temperature in Celsius to convert into Fahrenheit:\"))\n",
    "f= c * 1.8 +32\n",
    "print(c,\" Celsius = \",f,\"  Fahrenheit\")"
   ]
  },
  {
   "cell_type": "raw",
   "id": "2d3923ed",
   "metadata": {},
   "source": [
    "3.\tWrite a Python program to display calendar?\n",
    "Ans:-\n",
    "import calendar\n",
    "year=int(input(\"Enter year:\"))\n",
    "mm=int(input(\"Enter Month\"))\n",
    "d=calendar.month(year,mm)\n",
    "print(d)"
   ]
  },
  {
   "cell_type": "raw",
   "id": "2c7b52ce",
   "metadata": {},
   "source": [
    "4.\tWrite a Python program to solve quadratic equation?\n",
    "Ans:-\n",
    "import cmath  \n",
    "a = float(input('Enter value of a:'))  \n",
    "b = float(input('Enter value of b:'))  \n",
    "c = float(input('Enter value of c:'))  \n",
    "d = (b*b) - (4*a*c)  \n",
    "first = (-b-cmath.sqrt(d))/(2*a)  \n",
    "second = (-b+cmath.sqrt(d))/(2*a)  \n",
    "print(\"First solution=\",first,\" Second solution=\",second)"
   ]
  },
  {
   "cell_type": "raw",
   "id": "5044c99e",
   "metadata": {},
   "source": [
    "5.\tWrite a Python program to swap two variables without temp variable?\n",
    "Ans:-\n",
    "a=int(input(\"Enter First Number:\"))\n",
    "b=int(input(\"Enter Second Number:\"))\n",
    "print(\"Befor swapping a=\",a ,\" b=\",b)\n",
    "a=a+b\n",
    "b=a-b\n",
    "a=a-b\n",
    "print(\"After swapping a=\",a ,\" b=\",b)"
   ]
  }
 ],
 "metadata": {
  "kernelspec": {
   "display_name": "Python 3 (ipykernel)",
   "language": "python",
   "name": "python3"
  },
  "language_info": {
   "codemirror_mode": {
    "name": "ipython",
    "version": 3
   },
   "file_extension": ".py",
   "mimetype": "text/x-python",
   "name": "python",
   "nbconvert_exporter": "python",
   "pygments_lexer": "ipython3",
   "version": "3.9.12"
  }
 },
 "nbformat": 4,
 "nbformat_minor": 5
}
