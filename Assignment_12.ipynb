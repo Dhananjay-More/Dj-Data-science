{
 "cells": [
  {
   "cell_type": "raw",
   "id": "801b9167",
   "metadata": {},
   "source": [
    "1. In what modes should the PdfFileReader() and PdfFileWriter() File objects will be opened?"
   ]
  },
  {
   "cell_type": "raw",
   "id": "e28820a6",
   "metadata": {},
   "source": [
    "Ans:-\n",
    "    These files will be opened in binary mode., read binary (rb) for PdfFileREader() and write binary (wb) \n",
    "    PdfFileWriter()."
   ]
  },
  {
   "cell_type": "raw",
   "id": "206d8605",
   "metadata": {},
   "source": [
    "2. From a PdfFileReader object, how do you get a Page object for page 5?"
   ]
  },
  {
   "cell_type": "raw",
   "id": "a20725b4",
   "metadata": {},
   "source": [
    "Ans:-\n",
    "    Calling getPage(4) will return a Page object for page 5 since page 0 is the first page.\n",
    "    import PyPDF2 as pdf\n",
    "    pdfFileObj = open(\"cardealer.pdf\",'rb')\n",
    "    pdfReader = pdf.PdfFileReader(pdfFileObj)\n",
    "    pageObj = pdfReader.getPage(4)\n",
    "    pageObj.extractText()"
   ]
  },
  {
   "cell_type": "raw",
   "id": "cf158166",
   "metadata": {},
   "source": [
    "3. What PdfFileReader variable stores the number of pages in the PDF document?"
   ]
  },
  {
   "cell_type": "raw",
   "id": "bbc45051",
   "metadata": {},
   "source": [
    "Ans:-\n",
    "    import PyPDF2 as pdf\n",
    "    pdfFileObj = open(\"cardealer.pdf\",'rb')\n",
    "    pdfReader = pdf.PdfFileReader(pdfFileObj)\n",
    "    pdfReader.numPages"
   ]
  },
  {
   "cell_type": "raw",
   "id": "b3b5dbad",
   "metadata": {},
   "source": [
    "4. If a PdfFileReader object’s PDF is encrypted with the password swordfish, what must you do before you can \n",
    "    obtain Page objects from it?"
   ]
  },
  {
   "cell_type": "raw",
   "id": "84d4950c",
   "metadata": {},
   "source": [
    "Ans:-\n",
    "    Before we obtain the page object, the pdf has to be decrypted by calling .decrypt('swordfish')."
   ]
  },
  {
   "cell_type": "raw",
   "id": "973104a3",
   "metadata": {},
   "source": [
    "5. What methods do you use to rotate a page?"
   ]
  },
  {
   "cell_type": "raw",
   "id": "18c90b2f",
   "metadata": {},
   "source": [
    "Ans:-\n",
    "    The rotateClockwise() and rotateCounterClockwise() methods."
   ]
  },
  {
   "cell_type": "raw",
   "id": "875cadc2",
   "metadata": {},
   "source": [
    "6. What is the difference between a Run object and a Paragraph object?"
   ]
  },
  {
   "cell_type": "raw",
   "id": "de4439f6",
   "metadata": {},
   "source": [
    "Ans:-\n",
    "    Run Objects : Runs are contiguous groups of characters within a paragraph with the same style.\n",
    "    Paragraph Object : A document contains multiple paragraphs. A paragraph begins on a new line and contains \n",
    "    multiple runs. The Document object contains a list of Paragraph objects for the paragraphs in the document."
   ]
  },
  {
   "cell_type": "raw",
   "id": "931480f4",
   "metadata": {},
   "source": [
    "7. How do you obtain a list of Paragraph objects for a Document object that’s stored in a variable named doc?"
   ]
  },
  {
   "cell_type": "raw",
   "id": "4591b2f0",
   "metadata": {},
   "source": [
    "Ans:-\n",
    "    import docx\n",
    "    doc = docx.Document('abc.docx')\n",
    "    doc.paragraphs"
   ]
  },
  {
   "cell_type": "raw",
   "id": "3d2885f0",
   "metadata": {},
   "source": [
    "8. What type of object has bold, underline, italic, strike, and outline variables?"
   ]
  },
  {
   "cell_type": "raw",
   "id": "d1d49cc6",
   "metadata": {},
   "source": [
    "Ans:-\n",
    "    A Run object has bold, underline,italic,strike and outline variables."
   ]
  },
  {
   "cell_type": "raw",
   "id": "ab90a120",
   "metadata": {},
   "source": [
    "9. What is the difference between False, True, and None for the bold variable?"
   ]
  },
  {
   "cell_type": "raw",
   "id": "3c890b2b",
   "metadata": {},
   "source": [
    "Ans:-\n",
    "    True (the attribute is always enabled, no matter what other styles are applied to the run),\n",
    "    False (the attribute is always disabled),\n",
    "    None (defaults to whatever the run’s style is set to).\n",
    "    True always makes the Run object bolded and False makes it always not bolded, no matter what the style’s \n",
    "    bold setting is. None will make the Run object just use the style’s bold setting"
   ]
  },
  {
   "cell_type": "raw",
   "id": "1b09fa96",
   "metadata": {},
   "source": [
    "10. How do you create a Document object for a new Word document?"
   ]
  },
  {
   "cell_type": "raw",
   "id": "ccc62021",
   "metadata": {},
   "source": [
    "Ans:-\n",
    "    By Calling the docx.Document() function."
   ]
  },
  {
   "cell_type": "raw",
   "id": "acbfa0c4",
   "metadata": {},
   "source": [
    "11. How do you add a paragraph with the text 'Hello, there!' to a Document object stored in a variable named doc?"
   ]
  },
  {
   "cell_type": "raw",
   "id": "37321c19",
   "metadata": {},
   "source": [
    "Ans:-\n",
    "    import docx\n",
    "    doc = docx.Document()\n",
    "    doc.add_paragraph('Hello there!')\n",
    "    doc.save('hellothere.docx')"
   ]
  },
  {
   "cell_type": "raw",
   "id": "0bd10132",
   "metadata": {},
   "source": [
    "12. What integers represent the levels of headings available in Word documents?"
   ]
  },
  {
   "cell_type": "raw",
   "id": "95e4679a",
   "metadata": {},
   "source": [
    "Ans:-\n",
    "    integer from 0 to 4\n",
    "    The arguments to add_heading() are a string of the heading text and an integer from 0 to 4. \n",
    "    The integer 0 makes the heading the Title style, which is used for the top of the document. \n",
    "    Integers 1 to 4 are for various heading levels, with 1 being the main heading and 4 the lowest subheading."
   ]
  }
 ],
 "metadata": {
  "kernelspec": {
   "display_name": "Python 3 (ipykernel)",
   "language": "python",
   "name": "python3"
  },
  "language_info": {
   "codemirror_mode": {
    "name": "ipython",
    "version": 3
   },
   "file_extension": ".py",
   "mimetype": "text/x-python",
   "name": "python",
   "nbconvert_exporter": "python",
   "pygments_lexer": "ipython3",
   "version": "3.9.12"
  }
 },
 "nbformat": 4,
 "nbformat_minor": 5
}
