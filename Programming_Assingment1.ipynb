{
 "cells": [
  {
   "cell_type": "raw",
   "id": "6c498987",
   "metadata": {},
   "source": [
    "1.\tWrite a Python program to print \"Hello Python\"?\n",
    "Ans:-\n",
    "\tprint(\"Hello Python\")\n"
   ]
  },
  {
   "cell_type": "raw",
   "id": "d3557616",
   "metadata": {},
   "source": [
    "2.\tWrite a Python program to do arithmetical operations addition and division.?\n",
    "Ans:-\n",
    "a=10\n",
    "b=5\n",
    "add=a+b\n",
    "print(\"addition=\",add)\n",
    "div=a/b\n",
    "print(\"Division=\",div)\n"
   ]
  },
  {
   "cell_type": "raw",
   "id": "c970db6d",
   "metadata": {},
   "source": [
    "3.\tWrite a Python program to find the area of a triangle?\n",
    "Ans:-\n",
    "h=10\n",
    "b=4\n",
    "area=0.5 * h * b\n",
    "print(\"Area of triangle=\",area)\n"
   ]
  },
  {
   "cell_type": "raw",
   "id": "3441968a",
   "metadata": {},
   "source": [
    "4.\tWrite a Python program to swap two variables?\n",
    "Ans:-\n",
    "a=5\n",
    "b=10\n",
    "print(\"Befor swapping a=\",a ,\" b=\",b)\n",
    "c=a\n",
    "a=b\n",
    "b=c\n",
    "print(\"After swapping a=\",a ,\" b=\",b)\n"
   ]
  },
  {
   "cell_type": "raw",
   "id": "198b8e88",
   "metadata": {},
   "source": [
    "5.Write a Python program to generate a random number?\n",
    "Ans:-\n",
    "import random\n",
    "num=random.random()\n",
    "print(\"Random Number=\",num)\n"
   ]
  }
 ],
 "metadata": {
  "kernelspec": {
   "display_name": "Python 3 (ipykernel)",
   "language": "python",
   "name": "python3"
  },
  "language_info": {
   "codemirror_mode": {
    "name": "ipython",
    "version": 3
   },
   "file_extension": ".py",
   "mimetype": "text/x-python",
   "name": "python",
   "nbconvert_exporter": "python",
   "pygments_lexer": "ipython3",
   "version": "3.9.12"
  }
 },
 "nbformat": 4,
 "nbformat_minor": 5
}
