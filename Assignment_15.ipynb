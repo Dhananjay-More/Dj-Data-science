{
 "cells": [
  {
   "cell_type": "raw",
   "id": "edc519b1",
   "metadata": {},
   "source": [
    "1.How many seconds are in an hour? Use the interactive interpreter as a calculator and multiply the number of seconds in a minute (60) by the number of minutes in an hour (also 60).\n",
    "sol. 60 "
   ]
  },
  {
   "cell_type": "raw",
   "id": "db573b43",
   "metadata": {},
   "source": [
    "Ans:-\n",
    "    60*60"
   ]
  },
  {
   "cell_type": "raw",
   "id": "04e6f94f",
   "metadata": {},
   "source": [
    "2. Assign the result from the previous task (seconds in an hour) to a variable called seconds_per_hour."
   ]
  },
  {
   "cell_type": "raw",
   "id": "de39ce06",
   "metadata": {},
   "source": [
    "Ans:-\n",
    "    seconds_per_hour = 60 * 60\n",
    "    seconds_per_hour"
   ]
  },
  {
   "cell_type": "raw",
   "id": "e8c0e289",
   "metadata": {},
   "source": [
    "3. How many seconds do you think there are in a day? Make use of the variables seconds per hour and minutes per hour."
   ]
  },
  {
   "cell_type": "raw",
   "id": "8b5877ea",
   "metadata": {},
   "source": [
    "Ans:-\n",
    "    one_day  = 24\n",
    "    second_in_a_day = 24 * seconds_per_hour\n",
    "    second_in_a_day"
   ]
  },
  {
   "cell_type": "raw",
   "id": "91603d92",
   "metadata": {},
   "source": [
    "4. Calculate seconds per day again, but this time save the result in a variable called seconds_per_day"
   ]
  },
  {
   "cell_type": "raw",
   "id": "a0460e2c",
   "metadata": {},
   "source": [
    "Ans:-\n",
    "    seconds_per_day =  24 * seconds_per_hour\n",
    "    seconds_per_day"
   ]
  },
  {
   "cell_type": "raw",
   "id": "0cdf6e2b",
   "metadata": {},
   "source": [
    "5. Divide seconds_per_day by seconds_per_hour. Use floating-point (/) division."
   ]
  },
  {
   "cell_type": "raw",
   "id": "37287a4e",
   "metadata": {},
   "source": [
    "Ans:-\n",
    "    seconds_per_day/seconds_per_hour"
   ]
  },
  {
   "cell_type": "raw",
   "id": "2e57aa13",
   "metadata": {},
   "source": [
    "6. Divide seconds_per_day by seconds_per_hour, using integer (//) division. Did this number agree with the floating-point value from the previous question, aside from the final .0?"
   ]
  },
  {
   "cell_type": "raw",
   "id": "b071c1b4",
   "metadata": {},
   "source": [
    "Ans:-\n",
    "    seconds_per_day // seconds_per_hour"
   ]
  },
  {
   "cell_type": "raw",
   "id": "0b646a21",
   "metadata": {},
   "source": [
    "7. Write a generator, genPrimes, that returns the sequence of prime numbers on successive calls to its next() method: 2, 3, 5, 7, 11, ..."
   ]
  },
  {
   "cell_type": "raw",
   "id": "712de0fe",
   "metadata": {},
   "source": [
    "Ans:-\n",
    "def genPrimes():\n",
    "    n = 2\n",
    "    primes = []\n",
    "    while True:\n",
    "        for p in primes:\n",
    "            if n % p == 0:\n",
    "                break\n",
    "        else:\n",
    "            primes.append(n)\n",
    "            yield n\n",
    "        n += 1\n",
    "a=genPrimes()\n",
    "for i in a:\n",
    "    print(i)"
   ]
  }
 ],
 "metadata": {
  "kernelspec": {
   "display_name": "Python 3 (ipykernel)",
   "language": "python",
   "name": "python3"
  },
  "language_info": {
   "codemirror_mode": {
    "name": "ipython",
    "version": 3
   },
   "file_extension": ".py",
   "mimetype": "text/x-python",
   "name": "python",
   "nbconvert_exporter": "python",
   "pygments_lexer": "ipython3",
   "version": "3.9.12"
  }
 },
 "nbformat": 4,
 "nbformat_minor": 5
}
