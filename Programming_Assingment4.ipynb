{
 "cells": [
  {
   "cell_type": "raw",
   "id": "2ecb168b",
   "metadata": {},
   "source": [
    "1.\tWrite a Python Program to Find the Factorial of a Number?\n",
    "Ans:-\n",
    "n=int(input(\"Enter number to find the Factorial:\"))\n",
    "f=1\n",
    "for i in range(1,n+1):\n",
    "    f=f*i\n",
    "print(\"Factorial of \",n,\" is =\",f)\n"
   ]
  },
  {
   "cell_type": "raw",
   "id": "8da253e3",
   "metadata": {},
   "source": [
    "2.\tWrite a Python Program to Display the multiplication Table?\n",
    "Ans:-\n",
    "n=int(input(\"Enter number to print Multiplication table:\"))\n",
    "f=1\n",
    "for i in range(1,11):\n",
    "    f=n*i\n",
    "    print(f)\n"
   ]
  },
  {
   "cell_type": "raw",
   "id": "d15a93c8",
   "metadata": {},
   "source": [
    "3.\tWrite a Python Program to Print the Fibonacci sequence?\n",
    "Ans:-\n",
    "n=int(input(\"How many term of  Fibonacci sequence you want :\"))\n",
    "a=0\n",
    "b=1\n",
    "print(\" Fibonacci sequence=\",a,\",\",b,end=\",\")\n",
    "for i in range(3,n+1):\n",
    "    c=a+b\n",
    "    print(c,end=\" ,\")\n",
    "    a=b\n",
    "    b=c\n"
   ]
  },
  {
   "cell_type": "raw",
   "id": "b696d416",
   "metadata": {},
   "source": [
    "4.\tWrite a Python Program to Check Armstrong Number?\n",
    "Ans:-\n",
    "n=int(input(\"Enter number to Check Armstrong Number:\"))\n",
    "a=n\n",
    "total=0\n",
    "while a>0:\n",
    "    d=a%10\n",
    "    total=total+d ** 3\n",
    "    a=int(a/10)\n",
    "if n==total:\n",
    "    print(n,\" is Armstrong Number\")\n",
    "else:\n",
    "    print(n,\" is Not Armstrong Number\")\n"
   ]
  },
  {
   "cell_type": "raw",
   "id": "0f033350",
   "metadata": {},
   "source": [
    "5.\tWrite a Python Program to Find Armstrong Number in an Interval?\n",
    "Ans:-\n",
    "s=int(input(\"Enter starting of Interval\"))\n",
    "e=int(input(\"Enter ending of Interval\"))\n",
    "print(\"Armstrong Number between \",s,\"and\",e,end=\"=\")\n",
    "for i in range(s,e+1):\n",
    "    a=i\n",
    "    total=0\n",
    "    while a>0:\n",
    "        d=a%10\n",
    "        total=total+d ** 3\n",
    "        a=int(a/10)\n",
    "    if i==total:\n",
    "        print(i,end=\",\")\n"
   ]
  },
  {
   "cell_type": "raw",
   "id": "5f9e4f38",
   "metadata": {},
   "source": [
    "6.\tWrite a Python Program to Find the Sum of Natural Numbers?\n",
    "Ans:-\n",
    "n=int(input(\"Enter number upto which you want sum of natural numbers:\"))\n",
    "s=0\n",
    "for i in range(1,n+1):\n",
    "    s=s+i\n",
    "print(\"Sum of first \",n,\"Natural Numbers=\",s)\n"
   ]
  }
 ],
 "metadata": {
  "kernelspec": {
   "display_name": "Python 3 (ipykernel)",
   "language": "python",
   "name": "python3"
  },
  "language_info": {
   "codemirror_mode": {
    "name": "ipython",
    "version": 3
   },
   "file_extension": ".py",
   "mimetype": "text/x-python",
   "name": "python",
   "nbconvert_exporter": "python",
   "pygments_lexer": "ipython3",
   "version": "3.9.12"
  }
 },
 "nbformat": 4,
 "nbformat_minor": 5
}
