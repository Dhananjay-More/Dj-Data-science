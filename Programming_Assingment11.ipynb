{
 "cells": [
  {
   "cell_type": "markdown",
   "id": "a0454a23",
   "metadata": {},
   "source": [
    "1.\tWrite a Python program to find words which are greater than given length k?"
   ]
  },
  {
   "cell_type": "code",
   "execution_count": 2,
   "id": "d43acd64",
   "metadata": {},
   "outputs": [
    {
     "name": "stdout",
     "output_type": "stream",
     "text": [
      "Enter String:my name is dhananjay prakash more\n",
      "Enter value of k:4\n",
      "['dhananjay', 'prakash']\n"
     ]
    }
   ],
   "source": [
    "def string_greter_k(str,k):\n",
    "    string = []\n",
    "    text = str.split(\" \")\n",
    "    for x in text:\n",
    "        if len(x) > k:\n",
    "            string.append(x)\n",
    "    return string\n",
    " \n",
    "# Driver Program\n",
    "str = input(\"Enter String:\")\n",
    "k = int(input(\"Enter value of k:\"))\n",
    "print(string_greter_k(str,k))"
   ]
  },
  {
   "cell_type": "markdown",
   "id": "74395458",
   "metadata": {},
   "source": [
    "2.\tWrite a Python program for removing i-th character from a string?"
   ]
  },
  {
   "cell_type": "code",
   "execution_count": 3,
   "id": "5cb8dcd8",
   "metadata": {},
   "outputs": [
    {
     "name": "stdout",
     "output_type": "stream",
     "text": [
      "Enter String:Dhhananjay\n",
      "Enter Position i:2\n",
      "Dhananjay\n"
     ]
    }
   ],
   "source": [
    "def remove_ith(str,i):\n",
    "    str1=str[:i]\n",
    "    str2=str[i+1:]\n",
    "    return str1+str2\n",
    "# Driver Program\n",
    "str=input(\"Enter String:\")\n",
    "i=int(input(\"Enter Position i:\"))\n",
    "print(remove_ith(str,i))"
   ]
  },
  {
   "cell_type": "markdown",
   "id": "aaca318d",
   "metadata": {},
   "source": [
    "3.\tWrite a Python program to split and join a string?"
   ]
  },
  {
   "cell_type": "code",
   "execution_count": 5,
   "id": "84601512",
   "metadata": {},
   "outputs": [
    {
     "name": "stdout",
     "output_type": "stream",
     "text": [
      "Enter String:Dhananjay Prakash More\n",
      "Enter Deliminater to split string: \n",
      "Enter glu to join string:-\n",
      "Split output:['Dhananjay', 'Prakash', 'More']\n",
      "Join output:Dhananjay-Prakash-More\n"
     ]
    }
   ],
   "source": [
    "def split_and_join(str,s,j):\n",
    "    slist=str.split(s)\n",
    "    print(f\"Split output:{slist}\")\n",
    "    jstr=j.join(slist)\n",
    "    print(f\"Join output:{jstr}\")\n",
    "\n",
    "# Driver Program\n",
    "str=input(\"Enter String:\")\n",
    "s=input(\"Enter Deliminater to split string:\")\n",
    "j=input(\"Enter glu to join string:\")\n",
    "split_and_join(str,s,j)"
   ]
  },
  {
   "cell_type": "markdown",
   "id": "a5f1c513",
   "metadata": {},
   "source": [
    "4.\tWrite a Python to check if a given string is binary string or not?"
   ]
  },
  {
   "cell_type": "code",
   "execution_count": 9,
   "id": "966c3258",
   "metadata": {},
   "outputs": [
    {
     "name": "stdout",
     "output_type": "stream",
     "text": [
      "Enter String:101011\n",
      "Given String is Binary String\n"
     ]
    }
   ],
   "source": [
    "def is_binary_string(str):\n",
    "    s={'0','1'}\n",
    "    set_str=set(str)\n",
    "    if s==set_str or set_str=={'0'} or set_str=={'1'} :\n",
    "        return True\n",
    "    return False\n",
    "    \n",
    "# Driver Program\n",
    "str=input(\"Enter String:\")\n",
    "if is_binary_string(str):\n",
    "    print(\"Given String is Binary String\")\n",
    "else:\n",
    "    print(f\"{str} is not Binary String\")"
   ]
  },
  {
   "cell_type": "markdown",
   "id": "a8475d61",
   "metadata": {},
   "source": [
    "5.\tWrite a Python program to find uncommon words from two Strings?"
   ]
  },
  {
   "cell_type": "code",
   "execution_count": 12,
   "id": "a7727e0f",
   "metadata": {},
   "outputs": [
    {
     "name": "stdout",
     "output_type": "stream",
     "text": [
      "Enter First String:my name is dhananjay\n",
      "Enter Second String:my aim is data Science\n",
      "Uncommon Words from Strings are: ['name', 'dhananjay', 'aim', 'data', 'Science']\n"
     ]
    }
   ],
   "source": [
    "def uncomman_words(str1,str2):\n",
    "    ulist=[]\n",
    "    l1=str1.split(' ')\n",
    "    l2=str2.split(' ')\n",
    "    for item in l1:\n",
    "        if item not in l2:\n",
    "            ulist.append(item)\n",
    "    for item in l2:\n",
    "        if item not in l1:\n",
    "            ulist.append(item)\n",
    "    return ulist\n",
    "\n",
    "# Driver Program\n",
    "str1=input(\"Enter First String:\")\n",
    "str2=input(\"Enter Second String:\")\n",
    "print(f\"Uncommon Words from Strings are: {uncomman_words(str1,str2)}\")"
   ]
  },
  {
   "cell_type": "markdown",
   "id": "4305de20",
   "metadata": {},
   "source": [
    "6.\tWrite a Python to find all duplicate characters in string?"
   ]
  },
  {
   "cell_type": "code",
   "execution_count": 17,
   "id": "6a76658d",
   "metadata": {},
   "outputs": [
    {
     "name": "stdout",
     "output_type": "stream",
     "text": [
      "Enter String:Dhananjay\n",
      "Duplicate characters in String:['a', 'n']\n"
     ]
    }
   ],
   "source": [
    "from collections import Counter\n",
    "def duplicate_characters(str):\n",
    "    duplicate=[]\n",
    "    count=Counter(str)\n",
    "    #print(count.items())\n",
    "    for alpha,c in count.items():\n",
    "        if c > 1:\n",
    "            duplicate.append(alpha)\n",
    "    return duplicate\n",
    "    \n",
    "# Driver Program\n",
    "str=input(\"Enter String:\")\n",
    "print(f\"Duplicate characters in String:{duplicate_characters(str)}\")"
   ]
  },
  {
   "cell_type": "markdown",
   "id": "09480873",
   "metadata": {},
   "source": [
    "7.\tWrite a Python Program to check if a string contains any special character?"
   ]
  },
  {
   "cell_type": "code",
   "execution_count": 21,
   "id": "6c6886c4",
   "metadata": {},
   "outputs": [
    {
     "name": "stdout",
     "output_type": "stream",
     "text": [
      "Enter String:dhanumore@gmail.com\n",
      "String contains special character\n"
     ]
    }
   ],
   "source": [
    "def special_character(str):\n",
    "    for i in str:\n",
    "        if not (i.isalpha() or i.isdigit() or i== ' '):\n",
    "            return True\n",
    "    return False\n",
    "\n",
    "# Driver Program\n",
    "str=input(\"Enter String:\")\n",
    "if special_character(str):\n",
    "    print(\"String contains special character\")\n",
    "else:\n",
    "    print(\"String does not contains any special character\")"
   ]
  },
  {
   "cell_type": "code",
   "execution_count": null,
   "id": "bf22160d",
   "metadata": {},
   "outputs": [],
   "source": []
  }
 ],
 "metadata": {
  "kernelspec": {
   "display_name": "Python 3 (ipykernel)",
   "language": "python",
   "name": "python3"
  },
  "language_info": {
   "codemirror_mode": {
    "name": "ipython",
    "version": 3
   },
   "file_extension": ".py",
   "mimetype": "text/x-python",
   "name": "python",
   "nbconvert_exporter": "python",
   "pygments_lexer": "ipython3",
   "version": "3.9.12"
  }
 },
 "nbformat": 4,
 "nbformat_minor": 5
}
