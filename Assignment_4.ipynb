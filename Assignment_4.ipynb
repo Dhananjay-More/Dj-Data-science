{
 "cells": [
  {
   "cell_type": "raw",
   "id": "e7b71de6",
   "metadata": {},
   "source": [
    "1. What exactly is []?\n",
    "Ans:- Is a List Type in Python"
   ]
  },
  {
   "cell_type": "raw",
   "id": "5dc2ec61",
   "metadata": {},
   "source": [
    "2. In a list of values stored in a variable called spam, how would you assign the value 'hello' as the third value? (Assume [2, 4, 6, 8, 10] are in spam.)\n",
    "Ans:-To assign 'hello' as third value we can use following statement\n",
    "    spam[2]='hello'\n",
    "    As list index start from 0 above statement assign thied vale in spam as 'hello'"
   ]
  },
  {
   "cell_type": "raw",
   "id": "c90daab8",
   "metadata": {},
   "source": [
    "Let's pretend the spam includes the list ['a', 'b', 'c', 'd'] for the next three queries.\n",
    "3. What is the value of spam[int(int('3' * 2) / 11)]?\n",
    "Ans:- value of spam[int(int('3' * 2) / 11)] is d."
   ]
  },
  {
   "cell_type": "raw",
   "id": "f4610999",
   "metadata": {},
   "source": [
    "4. What is the value of spam[-1]\n",
    "Ans:- value of spam[-1] is d."
   ]
  },
  {
   "cell_type": "raw",
   "id": "9c75237c",
   "metadata": {},
   "source": [
    "5. What is the value of spam[:2]\n",
    "Ans:- It will return list from spam in which element from beginig to 2ed position i.e.['a', 'b']"
   ]
  },
  {
   "cell_type": "raw",
   "id": "15e36ace",
   "metadata": {},
   "source": [
    "Let's pretend bacon has the list [3.14, 'cat,' 11, 'cat,' True] for the next three questions.\n",
    "6. What is the value of bacon.index('cat')?\n",
    "Ans:- index function return index of element found in first occurance.\n",
    "      bacon.index('cat') will give output as 1"
   ]
  },
  {
   "cell_type": "raw",
   "id": "0fa346cf",
   "metadata": {},
   "source": [
    "7. How does bacon.append(99) change the look of the list value in bacon?\n",
    "Ans:- append function insert element in list in last position so bacon.append(99) add element 99 at last in bacon list.\n",
    "      bacon become [3.14, 'cat', 11, 'cat', True, 99]"
   ]
  },
  {
   "cell_type": "raw",
   "id": "04eb41c9",
   "metadata": {},
   "source": [
    "8. How does bacon.remove('cat') change the look of the list in bacon?\n",
    "Ans:- bacon.remove('cat') remove first occurance of element 'cat' from bacon list.\n",
    "      bacon become [3.14, 11, 'cat', True, 99]"
   ]
  },
  {
   "cell_type": "raw",
   "id": "5f1b247c",
   "metadata": {},
   "source": [
    "9. What are the list concatenation and list replication operators?\n",
    "Ans:- + is list concatenation operator which concate two list\n",
    "      * is list replication operator which replicate i.e repete list element given number of time."
   ]
  },
  {
   "cell_type": "raw",
   "id": "891d0453",
   "metadata": {},
   "source": [
    "10. What is difference between the list methods append() and insert()?\n",
    "Ans:- append() function Append given object to the end of the list while insert() function take two argument first is index and second is object and insert object before index."
   ]
  },
  {
   "cell_type": "raw",
   "id": "aa9a1017",
   "metadata": {},
   "source": [
    "11. What are the two methods for removing items from a list?\n",
    "Ans:- Their are two methods used in python to remove items from list.\n",
    "        1. remove() method which remove first occurance of item in list\n",
    "        2. pop() method which remove item based on index. "
   ]
  },
  {
   "cell_type": "raw",
   "id": "d382c574",
   "metadata": {},
   "source": [
    "12. Describe how list values and string values are identical.\n",
    "Ans:- In python list and string both are sequences."
   ]
  },
  {
   "cell_type": "raw",
   "id": "9da40177",
   "metadata": {},
   "source": [
    "13. What's the difference between tuples and lists?\n",
    "Ans:- tuples are immutable in python while list are mutable i.e. we can change list element after defining them."
   ]
  },
  {
   "cell_type": "raw",
   "id": "8c4124f4",
   "metadata": {},
   "source": [
    "14. How do you type a tuple value that only contains the integer 42?\n",
    "Ans:- a=(42,) thats how we can define type tuple which contain the integer 42 only. here type of a is tuple."
   ]
  },
  {
   "cell_type": "raw",
   "id": "0f3ea23b",
   "metadata": {},
   "source": [
    "15. How do you get a list value's tuple form? How do you get a tuple value's list form?\n",
    "Ans:- function list() convert seq into list.\n",
    "      function tuple() convert seq into tuple."
   ]
  },
  {
   "cell_type": "raw",
   "id": "bf2fdec9",
   "metadata": {},
   "source": [
    "16. Variables that \"contain\" list values are not necessarily lists themselves. Instead, what do they contain?\n",
    "Ans:- Variables that \"contain\" list values are not necessarily lists themselves instead they contain refrance to list values."
   ]
  },
  {
   "cell_type": "raw",
   "id": "9d73b0f3",
   "metadata": {},
   "source": [
    "17. How do you distinguish between copy.copy() and copy.deepcopy()?\n",
    "Ans:- deepcopy store copies of object value and copy.copy() store refrance to original object memory location."
   ]
  }
 ],
 "metadata": {
  "kernelspec": {
   "display_name": "Python 3 (ipykernel)",
   "language": "python",
   "name": "python3"
  },
  "language_info": {
   "codemirror_mode": {
    "name": "ipython",
    "version": 3
   },
   "file_extension": ".py",
   "mimetype": "text/x-python",
   "name": "python",
   "nbconvert_exporter": "python",
   "pygments_lexer": "ipython3",
   "version": "3.9.12"
  }
 },
 "nbformat": 4,
 "nbformat_minor": 5
}
