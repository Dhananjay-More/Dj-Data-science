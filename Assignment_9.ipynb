{
 "cells": [
  {
   "cell_type": "raw",
   "id": "4fbef1c1",
   "metadata": {},
   "source": [
    "1. To what does a relative path refer?"
   ]
  },
  {
   "cell_type": "raw",
   "id": "e8e854eb",
   "metadata": {},
   "source": [
    "Ans:- \n",
    "    A relative path describes the location of a file relative to the current (working) directory"
   ]
  },
  {
   "cell_type": "raw",
   "id": "0f722bcc",
   "metadata": {},
   "source": [
    "2. What does an absolute path start with your operating system?"
   ]
  },
  {
   "cell_type": "raw",
   "id": "1e993c63",
   "metadata": {},
   "source": [
    "Ans:-\n",
    "    An absolute path always begins from the absolute start of your hard drive.\n",
    "    its- 'C:\\\\Users\\\\HP\\\\Chat.txt' for Chat.text file"
   ]
  },
  {
   "cell_type": "raw",
   "id": "f1d752be",
   "metadata": {},
   "source": [
    "3. What do the functions os.getcwd() and os.chdir() do?"
   ]
  },
  {
   "cell_type": "raw",
   "id": "800ea61d",
   "metadata": {},
   "source": [
    "Ans:-\n",
    "    getcwd(): CWD stands for Current Working Directory. This function allows you to see what your \n",
    "    current working directory is.\n",
    "    chdir(\"path-to-dir\"): stands for CHange DIRectory, this function allows you to set the current\n",
    "    working directory to a path of your choice."
   ]
  },
  {
   "cell_type": "raw",
   "id": "80de845f",
   "metadata": {},
   "source": [
    "4. What are the . and .. folders?"
   ]
  },
  {
   "cell_type": "raw",
   "id": "4be0cb94",
   "metadata": {},
   "source": [
    "Ans:-\n",
    "    . refer to current folder\n",
    "    .. ref to parent folder"
   ]
  },
  {
   "cell_type": "raw",
   "id": "de4ce6ec",
   "metadata": {},
   "source": [
    "5. In C:\\bacon\\eggs\\spam.txt, which part is the dir name, and which part is the base name?"
   ]
  },
  {
   "cell_type": "raw",
   "id": "6f2d92dd",
   "metadata": {},
   "source": [
    "Ans:-\n",
    "    dir name- C:\\bacon\\eggs\n",
    "    base name- spam. txt"
   ]
  },
  {
   "cell_type": "raw",
   "id": "f0e1b7a4",
   "metadata": {},
   "source": [
    "6. What are the three “mode” arguments that can be passed to the open() function?"
   ]
  },
  {
   "cell_type": "raw",
   "id": "5e92d0fb",
   "metadata": {},
   "source": [
    "Ans:-\n",
    "    reading- 'r'\n",
    "    writing- 'w'\n",
    "    exclusive creation- 'x'"
   ]
  },
  {
   "cell_type": "raw",
   "id": "e4b54df1",
   "metadata": {},
   "source": [
    "7. What happens if an existing file is opened in write mode?"
   ]
  },
  {
   "cell_type": "raw",
   "id": "6ea55ef2",
   "metadata": {},
   "source": [
    "Ans:-\n",
    "    Its contents are discarded and the file is treated as a new empty file."
   ]
  },
  {
   "cell_type": "raw",
   "id": "0c8de703",
   "metadata": {},
   "source": [
    "8. How do you tell the difference between read() and readlines()?"
   ]
  },
  {
   "cell_type": "raw",
   "id": "c7d6c733",
   "metadata": {},
   "source": [
    "Ans:-\n",
    "    read() function treat each character in the file separately,\n",
    "    readline() function only reads a single line of the file."
   ]
  },
  {
   "cell_type": "raw",
   "id": "03ee204b",
   "metadata": {},
   "source": [
    "9. What data structure does a shelf value resemble?"
   ]
  },
  {
   "cell_type": "raw",
   "id": "c672ba2a",
   "metadata": {},
   "source": [
    "Ans:-\n",
    "    A shelf value resembles a dictionary value; it has keys and values, along with keys() and values() methods\n",
    "    that work similarly to the dictionary methods of the same names."
   ]
  }
 ],
 "metadata": {
  "kernelspec": {
   "display_name": "Python 3 (ipykernel)",
   "language": "python",
   "name": "python3"
  },
  "language_info": {
   "codemirror_mode": {
    "name": "ipython",
    "version": 3
   },
   "file_extension": ".py",
   "mimetype": "text/x-python",
   "name": "python",
   "nbconvert_exporter": "python",
   "pygments_lexer": "ipython3",
   "version": "3.9.12"
  }
 },
 "nbformat": 4,
 "nbformat_minor": 5
}
