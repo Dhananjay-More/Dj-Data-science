{
 "cells": [
  {
   "cell_type": "raw",
   "id": "4e2c867b",
   "metadata": {},
   "source": [
    "1. How do you distinguish between shutil.copy() and shutil.copytree()?"
   ]
  },
  {
   "cell_type": "raw",
   "id": "9fe0cc87",
   "metadata": {},
   "source": [
    "Ans:-\n",
    "    shutil.copy : Copies a single file.\n",
    "    shutil.copytree() : will copy an entire folder and every folder and file contained in it."
   ]
  },
  {
   "cell_type": "raw",
   "id": "f6d166d8",
   "metadata": {},
   "source": [
    "2. What function is used to rename files??"
   ]
  },
  {
   "cell_type": "raw",
   "id": "1b1755ab",
   "metadata": {},
   "source": [
    "Ans:- rename()\n",
    "    import os\n",
    "    os.rename(\"text.txt\",\"testnew.txt\")"
   ]
  },
  {
   "cell_type": "raw",
   "id": "d44e988e",
   "metadata": {},
   "source": [
    "3. What is the difference between the delete functions in the send2trash and shutil modules?"
   ]
  },
  {
   "cell_type": "raw",
   "id": "43fcaca8",
   "metadata": {},
   "source": [
    "Ans:-\n",
    "    shutil.retree(): The shutil module’s rmtree() function can be used to delete files or folders.\n",
    "        But, this function delete the files permanently. The operations cannot be undone if there \n",
    "        were any accidental deletions performed.\n",
    "    send2trash.send2trash() : Using send2trash, we can send files to the Trash or Recycle Bin instead \n",
    "        of permanently deleting them. If the directory contains files or other folders, those are also deleted.\n",
    "        A TrashPermissionError exception is raised, in case a file could not be deleted due to permission error \n",
    "        or any other unexpected reason."
   ]
  },
  {
   "cell_type": "raw",
   "id": "5ec6ee6d",
   "metadata": {},
   "source": [
    "4.ZipFile objects have a close() method just like File objects’ close() method. What ZipFile method is \n",
    "  equivalent to File objects’ open() method?"
   ]
  },
  {
   "cell_type": "raw",
   "id": "ba4b7047",
   "metadata": {},
   "source": [
    "Ans:-\n",
    "    from zipfile import Zipfile\n",
    "    with ZipFile(file_name, 'r') as zip \n",
    "    this code will open specified zipfile for us. we can use zip object to preform other operation the ziplife. \n",
    "    like zip.read()"
   ]
  },
  {
   "cell_type": "raw",
   "id": "63c191c9",
   "metadata": {},
   "source": [
    "5. Create a programme that searches a folder tree for files with a certain file extension (such as .pdf or .jpg).\n",
    "   Copy these files from whatever location they are in to a new folder."
   ]
  },
  {
   "cell_type": "raw",
   "id": "bdd5521b",
   "metadata": {},
   "source": [
    "Ans:-\n",
    "    import os, shutil\n",
    "\n",
    "def selectiveCopy(source, extensions, destination):\n",
    "    folder = os.path.abspath(source)\n",
    "    destination = os.path.abspath(destination)\n",
    "    print('Looking in', source, 'for files with extensions of', ', '.join(extensions))\n",
    "    for foldername, subfolders, filenames in os.walk(source):\n",
    "        for filename in filenames:\n",
    "            name, extension = os.path.splitext(filename)\n",
    "            if extension in extensions:\n",
    "                fileAbsPath = foldername + os.path.sep + filename\n",
    "                print('Coping', fileAbsPath, 'to', destination)\n",
    "                shutil.copy(fileAbsPath, destination)\n",
    "\n",
    "extensions = ['.mp4', '.pdf','.jpg']\n",
    "source = \"C:\\Users\\HP\\Desktop\"\n",
    "destination = \"C:\\Users\\HP\\Desktop\\abc\"\n",
    "selectiveCopy(source, extensions, destination)"
   ]
  }
 ],
 "metadata": {
  "kernelspec": {
   "display_name": "Python 3 (ipykernel)",
   "language": "python",
   "name": "python3"
  },
  "language_info": {
   "codemirror_mode": {
    "name": "ipython",
    "version": 3
   },
   "file_extension": ".py",
   "mimetype": "text/x-python",
   "name": "python",
   "nbconvert_exporter": "python",
   "pygments_lexer": "ipython3",
   "version": "3.9.12"
  }
 },
 "nbformat": 4,
 "nbformat_minor": 5
}
