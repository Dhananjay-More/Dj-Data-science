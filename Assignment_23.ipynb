{
 "cells": [
  {
   "cell_type": "raw",
   "id": "6363a32b",
   "metadata": {},
   "source": [
    "1. What is the result of the code, and why?\n",
    ">>> def func(a, b=6, c=8):\n",
    "print(a, b, c)\n",
    ">>> func(1, 2)"
   ]
  },
  {
   "cell_type": "raw",
   "id": "0600f52d",
   "metadata": {},
   "source": [
    "Ans:-\n",
    "def func(a, b=6, c=8):\n",
    "    print(a, b, c)\n",
    "func(1, 2)\n",
    "\n",
    "This funtion is taking a positional argument and 2 keyward argument. When function call m=is made, parameter passed \n",
    "are a=1,b=2. When the function is executed , parameter c=8 will be taken by default as its a keyword argument.\n",
    "O/p = 1,2,8"
   ]
  },
  {
   "cell_type": "raw",
   "id": "ba3611d1",
   "metadata": {},
   "source": [
    "2. What is the result of this code, and why?\n",
    ">>> def func(a, b, c=5):\n",
    "print(a, b, c)\n",
    ">>> func(1, c=3, b=2)"
   ]
  },
  {
   "cell_type": "raw",
   "id": "425f9403",
   "metadata": {},
   "source": [
    "Ans:-\n",
    "def func(a, b, c=5):\n",
    "    print(a, b, c)\n",
    "func(1, c=3, b=2)\n",
    "\n",
    "When we make function call, order will be positional argument and then keywords arguments. we can pass the keyword arguments in any order we want.\n",
    "O/p = 1,2,3"
   ]
  },
  {
   "cell_type": "raw",
   "id": "5974f6a8",
   "metadata": {},
   "source": [
    "3. How about this code: what is its result, and why?\n",
    ">>> def func(a, *pargs):\n",
    "print(a, pargs)\n",
    ">>> func(1, 2, 3)"
   ]
  },
  {
   "cell_type": "raw",
   "id": "2c3c3b31",
   "metadata": {},
   "source": [
    "Ans:-\n",
    "def func(a, *pargs):\n",
    "    print(a, pargs)\n",
    "func(1, 2, 3)\n",
    "\n",
    "The return type of *args parameter is tuple, where as **kargs will be dictionary\n",
    "O/p = 1,(2,3)"
   ]
  },
  {
   "cell_type": "raw",
   "id": "bbc260ad",
   "metadata": {},
   "source": [
    "4. What does this code print, and why?\n",
    ">>> def func(a, **kargs):\n",
    "print(a, kargs)\n",
    ">>> func(a=1, c=3, b=2)"
   ]
  },
  {
   "cell_type": "raw",
   "id": "5a7eeaa8",
   "metadata": {},
   "source": [
    "Ans:-\n",
    "def func(a, **kargs):\n",
    "    print(a, kargs)\n",
    "func(a=1, c=3, b=2)\n",
    "\n",
    "The return type of  **kargs is  dictionary\n",
    "O/p = 1,{'c':3,'b':2}"
   ]
  },
  {
   "cell_type": "raw",
   "id": "91814bff",
   "metadata": {},
   "source": [
    "5. What gets printed by this, and explain?\n",
    ">>> def func(a, b, c=8, d=5): print(a, b, c, d)\n",
    ">>> func(1, *(5, 6))"
   ]
  },
  {
   "cell_type": "raw",
   "id": "d7b2b379",
   "metadata": {},
   "source": [
    "Ans:-\n",
    "def func(a, b, c=8, d=5): \n",
    "    print(a, b, c, d)\n",
    "func(1, *(5, 6))\n",
    "\n",
    "'*' is the unpacking operator and are operators that unpack the values from iterable objects in Python. The single \n",
    "asterisk operator * can be used on any iterable that Python provides, while the double asterisk operator ** can only \n",
    "be used on dictionaries. In the example the value *(5,6) will be unpacked and will be assigned to b and c and passed \n",
    "as arguments, d =5 will taken by defaults are keyword arguments.\n",
    "O/p = 1,5,6,5"
   ]
  },
  {
   "cell_type": "raw",
   "id": "a5fff181",
   "metadata": {},
   "source": [
    "6. what is the result of this, and explain?\n",
    ">>> def func(a, b, c): a = 2; b[0] = 'x'; c['a'] = 'y'\n",
    ">>> l=1; m=[1]; n={'a':0}\n",
    ">>> func(l, m, n)\n",
    ">>> l, m, n"
   ]
  },
  {
   "cell_type": "raw",
   "id": "650d3fec",
   "metadata": {},
   "source": [
    "Ans:-\n",
    "def func(a, b, c): \n",
    "    a = 2; b[0] = 'x'; c['a'] = 'y'\n",
    "    \n",
    "l=1; m=[1]; n={'a':0}\n",
    "func(l, m, n)\n",
    "\n",
    "l, m, n\n",
    "\n",
    "Here in the code, the list and dict are passed as argument, and those are mutable. Here the list l and parameter b point to the same list in the memory location where as dict n and c point to the same memory location. Any updates to this list will update in the memory location.\n",
    "l = 1 , integer values, immutable, m is list, mutable, n is dict, mutable.\n",
    "O/p = 1,['x'],{'a':'y'}"
   ]
  }
 ],
 "metadata": {
  "kernelspec": {
   "display_name": "Python 3 (ipykernel)",
   "language": "python",
   "name": "python3"
  },
  "language_info": {
   "codemirror_mode": {
    "name": "ipython",
    "version": 3
   },
   "file_extension": ".py",
   "mimetype": "text/x-python",
   "name": "python",
   "nbconvert_exporter": "python",
   "pygments_lexer": "ipython3",
   "version": "3.9.12"
  }
 },
 "nbformat": 4,
 "nbformat_minor": 5
}
