{
 "cells": [
  {
   "cell_type": "raw",
   "id": "f101bf6c",
   "metadata": {},
   "source": [
    "1.\tWrite a Python Program to find sum of array?\n",
    "arr=[1,2,3,4,5,6,7,8,9,10]\n",
    "sum_arr=0\n",
    "for i in arr:\n",
    "    sum_arr=sum_arr + i\n",
    "print(\"Sum of array=\",sum_arr)"
   ]
  },
  {
   "cell_type": "raw",
   "id": "4b25a655",
   "metadata": {},
   "source": [
    "2.\tWrite a Python Program to find largest element in an array?\n",
    "arr=[1,2,3,4,5,6,7,8,9,10]\n",
    "arr_larg=arr[0]\n",
    "for i in arr:\n",
    "    if i>arr_larg:\n",
    "        arr_larg=i\n",
    "print(\"Largest elememt in array=\",arr_larg)"
   ]
  },
  {
   "cell_type": "raw",
   "id": "82b4973e",
   "metadata": {},
   "source": [
    "3.\tWrite a Python Program for array rotation?\n",
    "def array_rotation(a,d,n):\n",
    "    '''this fuction rotate array a of size n by position d'''\n",
    "    temp=[]\n",
    "    i=0\n",
    "    while i < d:\n",
    "        temp.append(a[i])\n",
    "        i=i+1\n",
    "    i=0\n",
    "    while d < n:\n",
    "        a[i]=a[d]\n",
    "        i=i+1\n",
    "        d=d+1\n",
    "    a[:]=a[:i]+temp\n",
    "    print(a)\n",
    "arr=[1,2,3,4,5,6,7,8,9,10]\n",
    "array_rotation(arr,2,len(arr))"
   ]
  },
  {
   "cell_type": "raw",
   "id": "7d4c6191",
   "metadata": {},
   "source": [
    "4.\tWrite a Python Program to Split the array and add the first part to the end?\n",
    "import numpy as np\n",
    "arr=[1,2,3,4,5,6,7,8,9,10]\n",
    "a,b=np.array_split(arr,2)\n",
    "newarr=np.append(b,a)\n",
    "newarr"
   ]
  },
  {
   "cell_type": "raw",
   "id": "4b1fb368",
   "metadata": {},
   "source": [
    "5.\tWrite a Python Program to check if given array is Monotonic?\n",
    "arr=[6,5,4,1]\n",
    "monoinc=False\n",
    "monodec=False\n",
    "try: \n",
    "    for i in range(0,len(arr)):\n",
    "        if arr[i+1] < arr[i]:\n",
    "            monoinc=True\n",
    "        if arr[i+1] > arr[i]:\n",
    "            monodec=True\n",
    "except Exception as e:    \n",
    "    if monoinc==False:\n",
    "        print(\"Array is Monotonic Increasing\")\n",
    "    elif monodec==False :\n",
    "        print(\"Array is Monotonic Decresing\")\n",
    "    else:\n",
    "        print(\"Array is Not Monotonic\")"
   ]
  }
 ],
 "metadata": {
  "kernelspec": {
   "display_name": "Python 3 (ipykernel)",
   "language": "python",
   "name": "python3"
  },
  "language_info": {
   "codemirror_mode": {
    "name": "ipython",
    "version": 3
   },
   "file_extension": ".py",
   "mimetype": "text/x-python",
   "name": "python",
   "nbconvert_exporter": "python",
   "pygments_lexer": "ipython3",
   "version": "3.9.12"
  }
 },
 "nbformat": 4,
 "nbformat_minor": 5
}
