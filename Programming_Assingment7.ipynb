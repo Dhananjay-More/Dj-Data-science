{
 "cells": [
  {
   "cell_type": "raw",
   "id": "7aeb9e49",
   "metadata": {},
   "source": [
    "1.\tWrite a Python Program to find sum of array?"
   ]
  },
  {
   "cell_type": "code",
   "execution_count": 1,
   "id": "07ac1dcb",
   "metadata": {},
   "outputs": [
    {
     "name": "stdout",
     "output_type": "stream",
     "text": [
      "Sum of array= 55\n"
     ]
    }
   ],
   "source": [
    "arr=[1,2,3,4,5,6,7,8,9,10]\n",
    "sum_arr=0\n",
    "for i in arr:\n",
    "    sum_arr=sum_arr + i\n",
    "print(\"Sum of array=\",sum_arr)"
   ]
  },
  {
   "cell_type": "raw",
   "id": "c9822fd3",
   "metadata": {},
   "source": [
    "2.\tWrite a Python Program to find largest element in an array?"
   ]
  },
  {
   "cell_type": "code",
   "execution_count": 5,
   "id": "519899fd",
   "metadata": {},
   "outputs": [
    {
     "name": "stdout",
     "output_type": "stream",
     "text": [
      "Largest elememt in array= 10\n"
     ]
    }
   ],
   "source": [
    "arr=[1,2,3,4,5,6,7,8,9,10]\n",
    "arr_larg=arr[0]\n",
    "for i in arr:\n",
    "    if i>arr_larg:\n",
    "        arr_larg=i\n",
    "print(\"Largest elememt in array=\",arr_larg)"
   ]
  },
  {
   "cell_type": "raw",
   "id": "bac66fe3",
   "metadata": {},
   "source": [
    "3.\tWrite a Python Program for array rotation?"
   ]
  },
  {
   "cell_type": "code",
   "execution_count": 10,
   "id": "3becdc98",
   "metadata": {},
   "outputs": [],
   "source": [
    "def array_rotation(a,d,n):\n",
    "    '''this fuction rotate array a of size n by position d'''\n",
    "    temp=[]\n",
    "    i=0\n",
    "    while i < d:\n",
    "        temp.append(a[i])\n",
    "        i=i+1\n",
    "    i=0\n",
    "    while d < n:\n",
    "        a[i]=a[d]\n",
    "        i=i+1\n",
    "        d=d+1\n",
    "    a[:]=a[:i]+temp\n",
    "    print(a)\n",
    "arr=[1,2,3,4,5,6,7,8,9,10]\n",
    "array_rotation(arr,2,len(arr))"
   ]
  },
  {
   "cell_type": "code",
   "execution_count": 11,
   "id": "69e0412c",
   "metadata": {},
   "outputs": [
    {
     "name": "stdout",
     "output_type": "stream",
     "text": [
      "[3, 4, 5, 6, 7, 8, 9, 10, 1, 2]\n"
     ]
    }
   ],
   "source": [
    "arr=[1,2,3,4,5,6,7,8,9,10]\n",
    "array_rotation(arr,2,len(arr))"
   ]
  },
  {
   "cell_type": "raw",
   "id": "7697c4cc",
   "metadata": {},
   "source": [
    "4.\tWrite a Python Program to Split the array and add the first part to the end?"
   ]
  },
  {
   "cell_type": "code",
   "execution_count": 19,
   "id": "2b408641",
   "metadata": {},
   "outputs": [
    {
     "data": {
      "text/plain": [
       "array([ 6,  7,  8,  9, 10,  1,  2,  3,  4,  5])"
      ]
     },
     "execution_count": 19,
     "metadata": {},
     "output_type": "execute_result"
    }
   ],
   "source": [
    "import numpy as np\n",
    "arr=[1,2,3,4,5,6,7,8,9,10]\n",
    "a,b=np.array_split(arr,2)\n",
    "newarr=np.append(b,a)\n",
    "newarr"
   ]
  },
  {
   "cell_type": "raw",
   "id": "b672019e",
   "metadata": {},
   "source": [
    "5.\tWrite a Python Program to check if given array is Monotonic?"
   ]
  },
  {
   "cell_type": "code",
   "execution_count": 18,
   "id": "a1024686",
   "metadata": {},
   "outputs": [
    {
     "name": "stdout",
     "output_type": "stream",
     "text": [
      "Array is Monotonic Decresing\n"
     ]
    }
   ],
   "source": [
    "arr=[6,5,4,1]\n",
    "monoinc=False\n",
    "monodec=False\n",
    "try: \n",
    "    for i in range(0,len(arr)):\n",
    "        if arr[i+1] < arr[i]:\n",
    "            monoinc=True\n",
    "        if arr[i+1] > arr[i]:\n",
    "            monodec=True\n",
    "except Exception as e:    \n",
    "    if monoinc==False:\n",
    "        print(\"Array is Monotonic Increasing\")\n",
    "    elif monodec==False :\n",
    "        print(\"Array is Monotonic Decresing\")\n",
    "    else:\n",
    "        print(\"Array is Not Monotonic\")"
   ]
  },
  {
   "cell_type": "code",
   "execution_count": null,
   "id": "b55cf455",
   "metadata": {},
   "outputs": [],
   "source": []
  }
 ],
 "metadata": {
  "kernelspec": {
   "display_name": "Python 3 (ipykernel)",
   "language": "python",
   "name": "python3"
  },
  "language_info": {
   "codemirror_mode": {
    "name": "ipython",
    "version": 3
   },
   "file_extension": ".py",
   "mimetype": "text/x-python",
   "name": "python",
   "nbconvert_exporter": "python",
   "pygments_lexer": "ipython3",
   "version": "3.9.12"
  }
 },
 "nbformat": 4,
 "nbformat_minor": 5
}
