{
 "cells": [
  {
   "cell_type": "raw",
   "id": "3a4425d1",
   "metadata": {},
   "source": [
    "Q1. Can you create a programme or function that employs both positive and negative indexing? Is there any repercussion if you do so?"
   ]
  },
  {
   "cell_type": "raw",
   "id": "d79a898c",
   "metadata": {},
   "source": [
    "Ans:-\n",
    "my_list = [1,2,3,4,5,6,6,7,8,9,10]\n",
    "def bi_index(in_list,position):\n",
    "    return in_list[position]\n",
    "print('Positive Indexing ->',bi_index(my_list,5))\n",
    "print('Negative Indexing ->',bi_index(my_list,-1))"
   ]
  },
  {
   "cell_type": "raw",
   "id": "e5744c28",
   "metadata": {},
   "source": [
    "Q2. What is the most effective way of starting with 1,000 elements in a Python list? Assume that all elements should be set to the same value."
   ]
  },
  {
   "cell_type": "raw",
   "id": "9f9e48de",
   "metadata": {},
   "source": [
    "Ans:-\n",
    "start_list = [1 for x in range(1001)] # Quick Way to Create a List Using List Comprehension\n",
    "print(start_list)"
   ]
  },
  {
   "cell_type": "raw",
   "id": "6d6ed7d8",
   "metadata": {},
   "source": [
    "Q3. How do you slice a list to get any other part while missing the rest? (For example, suppose you want to make a new list with the elements first, third, fifth, seventh, and so on.)"
   ]
  },
  {
   "cell_type": "raw",
   "id": "51d6e514",
   "metadata": {},
   "source": [
    "Ans:-\n",
    "my_list = [x for x in range(1,15)]\n",
    "print(f'my_list -> {my_list}')\n",
    "sliced_list = my_list[::2]\n",
    "print(f'sliced_list -> {sliced_list}')"
   ]
  },
  {
   "cell_type": "raw",
   "id": "43e6c92f",
   "metadata": {},
   "source": [
    "Q4. Explain the distinctions between indexing and slicing."
   ]
  },
  {
   "cell_type": "raw",
   "id": "a6494b4e",
   "metadata": {},
   "source": [
    "Ans:-\n",
    "     Indexing is used when we have to work on index level. While slicing are used over a range of items.\n",
    "my_list = [x for x in range(1,15)]\n",
    "print(f'my_list -> {my_list}')\n",
    "print(f'Example of indexing -> {my_list[1], my_list[5]}')\n",
    "print(f'Example of slicing -> {my_list[1:5]}')"
   ]
  },
  {
   "cell_type": "raw",
   "id": "f6e4d4ae",
   "metadata": {},
   "source": [
    "Q5. What happens if one of the slicing expression's indexes is out of range?"
   ]
  },
  {
   "cell_type": "raw",
   "id": "10a6c0a8",
   "metadata": {},
   "source": [
    "Ans:-\n",
    "    If start index is out of range then it will return empty entity."
   ]
  },
  {
   "cell_type": "raw",
   "id": "c9b910fb",
   "metadata": {},
   "source": [
    "Q6. If you pass a list to a function, and if you want the function to be able to change the values of the list—so that the list is different after the function returns—what action should you avoid?"
   ]
  },
  {
   "cell_type": "raw",
   "id": "99bd3c63",
   "metadata": {},
   "source": [
    "Ans:-\n",
    "    Always use return statement, if we want the see the changes in the input list.\n",
    "    Because python parameter is passed by object reference, and list is a mutable object, once you pass a list into function and change its element, the original one would be change too. "
   ]
  },
  {
   "cell_type": "raw",
   "id": "9b3af69e",
   "metadata": {},
   "source": [
    "Q7. What is the concept of an unbalanced matrix?"
   ]
  },
  {
   "cell_type": "raw",
   "id": "06d2b46b",
   "metadata": {},
   "source": [
    "Ans:-\n",
    "    In Unbalanced Matrix number of rows is not same as number of columns."
   ]
  },
  {
   "cell_type": "raw",
   "id": "f824e1c7",
   "metadata": {},
   "source": [
    "Q8. Why is it necessary to use either list comprehension or a loop to create arbitrarily large matrices?"
   ]
  },
  {
   "cell_type": "raw",
   "id": "93c150bf",
   "metadata": {},
   "source": [
    "Ans:-\n",
    "    List comprehension or a Loop helps creation of large matrices easy. it also helps to implemeent and avoid manual errors. it also makes reading code easy. Also lot of time for manual feeding is reduced."
   ]
  }
 ],
 "metadata": {
  "kernelspec": {
   "display_name": "Python 3 (ipykernel)",
   "language": "python",
   "name": "python3"
  },
  "language_info": {
   "codemirror_mode": {
    "name": "ipython",
    "version": 3
   },
   "file_extension": ".py",
   "mimetype": "text/x-python",
   "name": "python",
   "nbconvert_exporter": "python",
   "pygments_lexer": "ipython3",
   "version": "3.9.12"
  }
 },
 "nbformat": 4,
 "nbformat_minor": 5
}
