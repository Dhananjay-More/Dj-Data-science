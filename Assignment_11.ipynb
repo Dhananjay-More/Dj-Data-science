{
 "cells": [
  {
   "cell_type": "raw",
   "id": "2aad56a9",
   "metadata": {},
   "source": [
    "1. Create an assert statement that throws an AssertionError if the variable spam is a negative integer."
   ]
  },
  {
   "cell_type": "raw",
   "id": "e35e5c50",
   "metadata": {},
   "source": [
    "Ans:-\n",
    "    The assert statement is used to continue the execute if the given condition evaluates to True. If the assert\n",
    "    condition evaluates to False, then it raises the AssertionError exception with the specified error message.\n",
    "    \n",
    "    import pyinputplus as pyip\n",
    "    spam = pyip.inputNum(\" Enter a positive number :\")\n",
    "    assert spam > 0\n",
    "    print(spam,'is a positive number')"
   ]
  },
  {
   "cell_type": "raw",
   "id": "e736b189",
   "metadata": {},
   "source": [
    "2. Write an assert statement that triggers an AssertionError if the variables eggs and bacon contain strings that \n",
    "   are the same as each other, even if their cases are different (that is, 'hello' and 'hello' are considered the \n",
    "   same, and 'goodbye' and 'GOODbye' are also considered the same)."
   ]
  },
  {
   "cell_type": "raw",
   "id": "12aac652",
   "metadata": {},
   "source": [
    "Ans:-\n",
    "    eggs='Hello'\n",
    "    bacon ='hello'\n",
    "    assert eggs.lower() != bacon.lower() or eggs.upper() != bacon.upper()\n",
    "    print('The eggs and bacon variables are not the same!')"
   ]
  },
  {
   "cell_type": "raw",
   "id": "0ff024b6",
   "metadata": {},
   "source": [
    "3. Create an assert statement that throws an AssertionError every time."
   ]
  },
  {
   "cell_type": "raw",
   "id": "c249ca77",
   "metadata": {},
   "source": [
    "Ans:-\n",
    "    assert False - this always triggers an exception"
   ]
  },
  {
   "cell_type": "raw",
   "id": "77a3cfb5",
   "metadata": {},
   "source": [
    "4. What are the two lines that must be present in your software in order to call logging.debug()?"
   ]
  },
  {
   "cell_type": "raw",
   "id": "2288012b",
   "metadata": {},
   "source": [
    "Ans:-\n",
    "    import logging as lg\n",
    "    lg.basicConfig(level=lg.DEBUG, format=' %(asctime)s - %(levelname)s - %(message)s')"
   ]
  },
  {
   "cell_type": "raw",
   "id": "c58b7599",
   "metadata": {},
   "source": [
    "5. What are the two lines that your program must have in order to have logging.debug() send a logging message\n",
    "    to a file named programLog.txt?"
   ]
  },
  {
   "cell_type": "raw",
   "id": "3fe67a33",
   "metadata": {},
   "source": [
    "Ans:-\n",
    "    import logging as lg\n",
    "    lg.basicConfig(filename='programLog.txt', level=lg.DEBUG, format=' %(asctime)s - %(levelname)s - %(message)s')"
   ]
  },
  {
   "cell_type": "raw",
   "id": "6b2caa49",
   "metadata": {},
   "source": [
    "6. What are the five levels of logging?"
   ]
  },
  {
   "cell_type": "raw",
   "id": "8026c0b3",
   "metadata": {},
   "source": [
    "Ans:-\n",
    "    Five level of loggins are DEBUG, INFO, WARNING, ERROR, and CRITICAL.\n",
    "\n",
    "    logging.debug() - variable's state and small details.\n",
    "\n",
    "    logging.info() - general events, confirm a program is working.\n",
    "\n",
    "    logging.warning() - potiental problem to work on in the future.\n",
    "\n",
    "    logging.error() - record an error that caused program to fail to do something.\n",
    "\n",
    "    logging.critical() - fatal error that has caused."
   ]
  },
  {
   "cell_type": "raw",
   "id": "0f257106",
   "metadata": {},
   "source": [
    "7. What line of code would you add to your software to disable all logging messages?"
   ]
  },
  {
   "cell_type": "raw",
   "id": "5653b070",
   "metadata": {},
   "source": [
    "Ans:-\n",
    "    import logging as lg\n",
    "    lg.disable(lg.CRITICAL)"
   ]
  },
  {
   "cell_type": "raw",
   "id": "5de94e64",
   "metadata": {},
   "source": [
    "8.Why is using logging messages better than using print() to display the same message?"
   ]
  },
  {
   "cell_type": "raw",
   "id": "512de694",
   "metadata": {},
   "source": [
    "Ans:-\n",
    "    You can disable logging messages without removing the logging function calls.\n",
    "    You can selectively disable lower-level logging messages.\n",
    "    You can create logging messages. Logging messages provides a timestamp."
   ]
  },
  {
   "cell_type": "raw",
   "id": "e16bf72e",
   "metadata": {},
   "source": [
    "9. What are the differences between the Step Over, Step In, and Step Out buttons in the debugger?"
   ]
  },
  {
   "cell_type": "raw",
   "id": "2c24c540",
   "metadata": {},
   "source": [
    "Ans:-\n",
    "    The Step in button will move the debugger into a function call.\n",
    "    The Over button will quickly execute the function call without stepping into it.\n",
    "    The Out button will quickly execute the rest of the code until it steps out of the function it currently is in."
   ]
  },
  {
   "cell_type": "raw",
   "id": "f28c6316",
   "metadata": {},
   "source": [
    "10.After you click Continue, when will the debugger stop ?"
   ]
  },
  {
   "cell_type": "raw",
   "id": "81e0c4c2",
   "metadata": {},
   "source": [
    "Ans:-\n",
    "    It will stops at next breakpoint, if there are no further breakpoints program will be fully executed."
   ]
  },
  {
   "cell_type": "raw",
   "id": "8f0f0d08",
   "metadata": {},
   "source": [
    "11. What is the concept of a breakpoint?"
   ]
  },
  {
   "cell_type": "raw",
   "id": "cc060d9b",
   "metadata": {},
   "source": [
    "Ans:-\n",
    "    A breakpoint is an intentional stopping point or pause put into a program for debugging purposes."
   ]
  }
 ],
 "metadata": {
  "kernelspec": {
   "display_name": "Python 3 (ipykernel)",
   "language": "python",
   "name": "python3"
  },
  "language_info": {
   "codemirror_mode": {
    "name": "ipython",
    "version": 3
   },
   "file_extension": ".py",
   "mimetype": "text/x-python",
   "name": "python",
   "nbconvert_exporter": "python",
   "pygments_lexer": "ipython3",
   "version": "3.9.12"
  }
 },
 "nbformat": 4,
 "nbformat_minor": 5
}
