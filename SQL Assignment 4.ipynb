{
 "cells": [
  {
   "cell_type": "code",
   "execution_count": null,
   "id": "e4468e64",
   "metadata": {},
   "outputs": [],
   "source": [
    "1. Explain different types of views. Demonstrate with suitable examples."
   ]
  },
  {
   "cell_type": "code",
   "execution_count": null,
   "id": "bcf542fa",
   "metadata": {},
   "outputs": [],
   "source": [
    "There are 2 types of Views in SQL\n",
    "1.Simple View\n",
    "        Simple views can only contain a single base table.\n",
    "2.Complex View\n",
    "        Complex views can be constructed on more than one base table.\n",
    "E.g of Simple View\n",
    "CREATE VIEW Employee AS\n",
    "SELECT Empid, Empname\n",
    "FROM Employee\n",
    "WHERE Empid > 10;\n",
    "E.g of Complex View\n",
    "CREATE VIEW Emp_Dept AS\n",
    "SELECT e.emp_id, d.dept_id, e.emp_name FROM Employee e, Department d WHERE e.dept_id=d.dept_id;"
   ]
  },
  {
   "cell_type": "code",
   "execution_count": null,
   "id": "e66ec937",
   "metadata": {},
   "outputs": [],
   "source": [
    "2. What is the difference between function and stored procedure? Write syntax for creating functions and stored procedures."
   ]
  },
  {
   "cell_type": "code",
   "execution_count": null,
   "id": "87a62099",
   "metadata": {},
   "outputs": [],
   "source": [
    "1. Return value - The function must return a value but in Stored Procedure it is optional. Even a procedure can return zero or n values.\n",
    "2. Calling - Functions can be called from Procedure where as Procedures cannot be called from a Function.\n",
    "3. Select - The procedure allows SELECT as well as DML(INSERT/UPDATE/DELETE) statement in it whereas Function allows only SELECT statement in it.\n",
    "Syntax For Function\n",
    "\n",
    "DELIMITER $$\n",
    "CREATE function function_name( argument datatype) returns return_datatype\n",
    "BEGIN\n",
    " body of function\n",
    "END; $$\n",
    "DELIMITER ;\n",
    "\n",
    "Syntax For Stored procedure\n",
    "    \n",
    "DELIMITER //\n",
    "CREATE PROCEDURE procedure_name(IN/OUT variable_name datatype)\n",
    "BEGIN\n",
    "  Procedure body....\n",
    "END//\n",
    "DELIMITER ;"
   ]
  },
  {
   "cell_type": "code",
   "execution_count": null,
   "id": "88534c77",
   "metadata": {},
   "outputs": [],
   "source": [
    "3. What is an index in SQL? What are the different types of indexes in SQL? "
   ]
  },
  {
   "cell_type": "code",
   "execution_count": null,
   "id": "d4a2b4d5",
   "metadata": {},
   "outputs": [],
   "source": [
    "Index:- Indexes are special lookup tables that need to be used by the database search engine to speed up data \n",
    "        retrieval. An index is simply a reference to data in a table.\n",
    "Types of indexes:\n",
    "1.Unique Indexes\n",
    "2.Composite Index\n",
    "3.Implicit Indexes"
   ]
  },
  {
   "cell_type": "code",
   "execution_count": null,
   "id": "82c74fff",
   "metadata": {},
   "outputs": [],
   "source": [
    "4.Showcase an example of exception handling in SQL stored procedure."
   ]
  },
  {
   "cell_type": "code",
   "execution_count": null,
   "id": "c8fc129a",
   "metadata": {},
   "outputs": [],
   "source": [
    "DELIMITER $$\n",
    "\n",
    "CREATE PROCEDURE TestProc()\n",
    "BEGIN\n",
    "\n",
    "    DECLARE EXIT HANDLER FOR 1146 \n",
    "    SELECT 'Please create table abc first' Message; \n",
    "        \n",
    "    SELECT * FROM abc;\n",
    "END$$\n",
    "\n",
    "DELIMITER ;\n",
    "call TestProc();"
   ]
  },
  {
   "cell_type": "code",
   "execution_count": null,
   "id": "e264926e",
   "metadata": {},
   "outputs": [],
   "source": [
    "5.Create a SQL function to split strings into rows on a given character? \n",
    "Input String: Stephen;peter;berry;Olivier;caroline;"
   ]
  },
  {
   "cell_type": "code",
   "execution_count": null,
   "id": "4f2b9b67",
   "metadata": {},
   "outputs": [],
   "source": [
    "CREATE DEFINER=`root`@`localhost` PROCEDURE `string_split`(str varchar(50), deli varchar(10))\n",
    "BEGIN\n",
    "\tdeclare s_min int default 1;\n",
    "    declare s_max int;\n",
    "    declare n_str varchar(50) default '';\n",
    "    \n",
    "\tset s_max= length(str)-length(replace(str,deli,''));\n",
    "    set str= (case when right(str,1)=deli then str else concat(str,deli) end);\n",
    "    \n",
    "    drop temporary table if exists temp;\n",
    "    create temporary table temp(id int auto_increment primary key, item varchar(15));\n",
    "    \n",
    "    while (s_min <= s_max) do\n",
    "\t\tbegin\n",
    "\t\t\tset n_str = substring(str,1,instr(str,deli)-1);\n",
    "            insert into temp(item) values(n_str);\n",
    "\t\t\tset str= substring(str,instr(str,deli)+1);\n",
    "            set s_min = s_min + 1;\n",
    "        end;\n",
    "\tend while;\n",
    "    select * from temp;\n",
    "    \n",
    "END\n",
    "\n",
    "call string_split('Stephen;peter;berry;Olivier;caroline;',';');"
   ]
  }
 ],
 "metadata": {
  "kernelspec": {
   "display_name": "Python 3 (ipykernel)",
   "language": "python",
   "name": "python3"
  },
  "language_info": {
   "codemirror_mode": {
    "name": "ipython",
    "version": 3
   },
   "file_extension": ".py",
   "mimetype": "text/x-python",
   "name": "python",
   "nbconvert_exporter": "python",
   "pygments_lexer": "ipython3",
   "version": "3.9.12"
  }
 },
 "nbformat": 4,
 "nbformat_minor": 5
}
