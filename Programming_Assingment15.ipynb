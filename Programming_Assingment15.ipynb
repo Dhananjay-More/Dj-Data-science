{
 "cells": [
  {
   "cell_type": "raw",
   "id": "5d858311",
   "metadata": {},
   "source": [
    "Question 1:\n",
    "Please write a program using generator to print the numbers which can be divisible by 5 and 7 between 0 and n in comma separated form while n is input by console.\n",
    "Example:\n",
    "If the following n is given as input to the program:\n",
    "100\n",
    "Then, the output of the program should be:\n",
    "0,35,70"
   ]
  },
  {
   "cell_type": "raw",
   "id": "1d61a279",
   "metadata": {},
   "source": [
    "Ans:-\n",
    "def getno(n): \n",
    "    for i in range(0,n):\n",
    "        if i % 7 == 0 and i % 5 == 0:\n",
    "            yield i\n",
    "n = int(input('Enter No : '))\n",
    "num =[]\n",
    "for i in getno(n): \n",
    "    num.append(str(i))\n",
    "    \n",
    "print(','.join(num))"
   ]
  },
  {
   "cell_type": "raw",
   "id": "ed4c743d",
   "metadata": {},
   "source": [
    "Question 2:\n",
    "Please write a program using generator to print the even numbers between 0 and n in comma separated form while n is input by console.\n",
    "Example:\n",
    "If the following n is given as input to the program:\n",
    "10\n",
    "Then, the output of the program should be:\n",
    "0,2,4,6,8,10"
   ]
  },
  {
   "cell_type": "raw",
   "id": "5aadaa4f",
   "metadata": {},
   "source": [
    "Ans:-\n",
    "def getno(n): \n",
    "    for i in range(0,n+1):\n",
    "        if i % 2 == 0:\n",
    "            yield i\n",
    "n = int(input('enter n : '))\n",
    "num =[]\n",
    "for i in getno(n): \n",
    "    num.append(str(i))\n",
    "    \n",
    "print(','.join(num))"
   ]
  },
  {
   "cell_type": "raw",
   "id": "de6260fd",
   "metadata": {},
   "source": [
    "Question 3:\n",
    "The Fibonacci Sequence is computed based on the following formula:\n",
    "f(n)=0 if n=0\n",
    "f(n)=1 if n=1\n",
    "f(n)=f(n-1)+f(n-2) if n>1\n",
    "Please write a program using list comprehension to print the Fibonacci Sequence in comma separated form with a given n input by console.\n",
    "Example:\n",
    "If the following n is given as input to the program:\n",
    "7\n",
    "Then, the output of the program should be:\n",
    "0,1,1,2,3,5,8,13"
   ]
  },
  {
   "cell_type": "raw",
   "id": "d77834e7",
   "metadata": {},
   "source": [
    "Ans:-\n",
    "def fib(n):    \n",
    "    if n == 0: \n",
    "            return 0    \n",
    "    elif n == 1: \n",
    "            return 1    \n",
    "    else: \n",
    "            return fib(n-1)+fib(n-2)\n",
    "n=int(input('Enter a number :')) \n",
    "values = [str(fib(x)) for x in range(0, n+1)] \n",
    "print(\",\".join(values))"
   ]
  },
  {
   "cell_type": "raw",
   "id": "5eb29191",
   "metadata": {},
   "source": [
    "Question 4:\n",
    "Assuming that we have some email addresses in the \"username@companyname.com\" format, please write program to print the user name of a given email address. Both user names and company names are composed of letters only.\n",
    "Example:\n",
    "If the following email address is given as input to the program:\n",
    "john@google.com\n",
    "Then, the output of the program should be:\n",
    "john"
   ]
  },
  {
   "cell_type": "raw",
   "id": "9e24f563",
   "metadata": {},
   "source": [
    "Ans:-\n",
    "email = input(\"Enter the email address : \").split('@')\n",
    "company = str(email[1]).split('.')\n",
    "print(\"User name : \",email[0])\n",
    "print(\"Company name : \",company[0])"
   ]
  },
  {
   "cell_type": "raw",
   "id": "236775dc",
   "metadata": {},
   "source": [
    "Question 5:\n",
    "Define a class named Shape and its subclass Square. The Square class has an init function which takes a length as argument. Both classes have a area function which can print the area of the shape where Shape's area is 0 by default."
   ]
  },
  {
   "cell_type": "raw",
   "id": "c8b1cf1c",
   "metadata": {},
   "source": [
    "Ans:-\n",
    "class Shape(object):\n",
    "  def __init__(self):\n",
    "    pass\n",
    "\n",
    "  def area(self):\n",
    "     return 0\n",
    "\n",
    "class Square(Shape):\n",
    "  def __init__(self,l):\n",
    "    self.length = l\n",
    "\n",
    "  def area(self):\n",
    "    return self.length*self.length\n",
    "    \n",
    "obsquare = Square(9)\n",
    "obsquare.area()"
   ]
  },
  {
   "cell_type": "raw",
   "id": "775eee74",
   "metadata": {},
   "source": []
  }
 ],
 "metadata": {
  "kernelspec": {
   "display_name": "Python 3 (ipykernel)",
   "language": "python",
   "name": "python3"
  },
  "language_info": {
   "codemirror_mode": {
    "name": "ipython",
    "version": 3
   },
   "file_extension": ".py",
   "mimetype": "text/x-python",
   "name": "python",
   "nbconvert_exporter": "python",
   "pygments_lexer": "ipython3",
   "version": "3.9.12"
  }
 },
 "nbformat": 4,
 "nbformat_minor": 5
}
