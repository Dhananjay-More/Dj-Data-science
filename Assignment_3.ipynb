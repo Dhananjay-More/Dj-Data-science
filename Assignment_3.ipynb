{
 "cells": [
  {
   "cell_type": "raw",
   "id": "27c52e0c",
   "metadata": {},
   "source": [
    "1.\tWhy are functions advantageous to have in your programs?\n",
    "Ans:-\n",
    "Because function reduces code size and it increase code reusability.\n"
   ]
  },
  {
   "cell_type": "raw",
   "id": "2d5f29d3",
   "metadata": {},
   "source": [
    "2.\tWhen does the code in a function run: when it's specified or when it's called?\n",
    "Ans:-\n",
    "Function code get executed only when it get called. \n"
   ]
  },
  {
   "cell_type": "raw",
   "id": "76c73c36",
   "metadata": {},
   "source": [
    "3.\tWhat statement creates a function?\n",
    "Ans:-\n",
    "Statement  ‘def’ create function.\n"
   ]
  },
  {
   "cell_type": "raw",
   "id": "42a2414b",
   "metadata": {},
   "source": [
    "4.\tWhat is the difference between a function and a function call?\n",
    "Ans:-\n",
    "Function is block of statement that perform specific task while function call is statement witch call function.\n"
   ]
  },
  {
   "cell_type": "raw",
   "id": "40548cec",
   "metadata": {},
   "source": [
    "5.\tHow many global scopes are there in a Python program? How many local scopes?\n",
    "Ans:-\n",
    "There are only single global scope per program in python.\n",
    "There is only one local scope in python\n"
   ]
  },
  {
   "cell_type": "raw",
   "id": "19a84734",
   "metadata": {},
   "source": [
    "6.\tWhat happens to variables in a local scope when the function call returns?\n",
    "Ans:-\n",
    "When function call returns all local variables get destroyed.\n"
   ]
  },
  {
   "cell_type": "raw",
   "id": "9a23c02f",
   "metadata": {},
   "source": [
    "7.\tWhat is the concept of a return value? Is it possible to have a return value in an expression?\n",
    "Ans:-\n",
    "Function has at list one return value which will get pass to calling function when called function complete its execution. If we do not return any value in python function python itself implicitly return value. \n",
    "We cannot return value in expression.\n"
   ]
  },
  {
   "cell_type": "raw",
   "id": "41df199e",
   "metadata": {},
   "source": [
    "8.\tIf a function does not have a return statement, what is the return value of a call to that function?\n",
    "Ans:-\n",
    "If a function does not have a return statement then python implicitly return  ‘None’ as default value.\n"
   ]
  },
  {
   "cell_type": "raw",
   "id": "21d1a0db",
   "metadata": {},
   "source": [
    "9.\tHow do you make a function variable refer to the global variable?\n",
    "Ans:-\n",
    "Using ‘global’ key word we can make function variable as global variable.\n"
   ]
  },
  {
   "cell_type": "raw",
   "id": "bc081f17",
   "metadata": {},
   "source": [
    "10.\tWhat is the data type of None?\n",
    "Ans:-\n",
    "Data type of None is NoneType.\n"
   ]
  },
  {
   "cell_type": "raw",
   "id": "554c2e8c",
   "metadata": {},
   "source": [
    "11.\tWhat does the sentence import areallyourpetsnamederic do?\n",
    "Ans:-\n",
    "This import statement will import areallyourpetsnamederic module in a program.\n"
   ]
  },
  {
   "cell_type": "raw",
   "id": "0daf2b78",
   "metadata": {},
   "source": [
    "12.\tIf you had a bacon() feature in a spam module, what would you call it after importing spam?\n",
    "Ans:-\n",
    "To call bacon() function we have to use spam.becon() in program.\n"
   ]
  },
  {
   "cell_type": "raw",
   "id": "00b4431e",
   "metadata": {},
   "source": [
    "13.\tWhat can you do to save a programme from crashing if it encounters an error?\n",
    "Ans:-\n",
    "To save a programme from crashing due to error encounters we have to implement error handling using try and except block. \n"
   ]
  },
  {
   "cell_type": "raw",
   "id": "a759ec22",
   "metadata": {},
   "source": [
    "14.\tWhat is the purpose of the try clause? What is the purpose of the except clause?\n",
    "Ans:-\n",
    "In try block we insert code which will cause error during execution of programme. That is it tests error code.\n",
    "Except block handle error occurred in try block. \n"
   ]
  }
 ],
 "metadata": {
  "kernelspec": {
   "display_name": "Python 3 (ipykernel)",
   "language": "python",
   "name": "python3"
  },
  "language_info": {
   "codemirror_mode": {
    "name": "ipython",
    "version": 3
   },
   "file_extension": ".py",
   "mimetype": "text/x-python",
   "name": "python",
   "nbconvert_exporter": "python",
   "pygments_lexer": "ipython3",
   "version": "3.9.12"
  }
 },
 "nbformat": 4,
 "nbformat_minor": 5
}
