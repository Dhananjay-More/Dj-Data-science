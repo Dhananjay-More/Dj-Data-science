{
 "cells": [
  {
   "cell_type": "raw",
   "id": "98491b8b",
   "metadata": {},
   "source": [
    "1.\tWrite a Python Program to Check if a Number is Positive, Negative or Zero?\n",
    "Ans:-\n",
    "n=int(input(\"Enter number:\"))\n",
    "if n==0:\n",
    "    print(\"Number is Zero\")\n",
    "elif n < 0:\n",
    "    print(\"Number Is Negative\")\n",
    "else :\n",
    "    print(\"Number is Positive\")"
   ]
  },
  {
   "cell_type": "raw",
   "id": "cec31539",
   "metadata": {},
   "source": [
    "2.\tWrite a Python Program to Check if a Number is Odd or Even?\n",
    "Ans:-\n",
    "n=int(input(\"Enter number:\"))\n",
    "if n%2==0:\n",
    "    print(n,\" Is Even Number\")\n",
    "else :\n",
    "    print(n,\" Is Odd Number\")\n"
   ]
  },
  {
   "cell_type": "raw",
   "id": "e723b675",
   "metadata": {},
   "source": [
    "3.\tWrite a Python Program to Check Leap Year?\n",
    "Ans:-\n",
    "y=int(input(\"Enter Year to Check:\"))\n",
    "if y%100==0 and y%400==0:\n",
    "    print(y,\" Is Leap Year\")\n",
    "elif y%4==0 and y%100!=0:\n",
    "    print(y,\" Is Leap Year\")\n",
    "else:\n",
    "    print(y,\" Is Not Leap Year\")\n"
   ]
  },
  {
   "cell_type": "raw",
   "id": "f0cbda7f",
   "metadata": {},
   "source": [
    "4.\tWrite a Python Program to Check Prime Number?\n",
    "Ans:-\n",
    "n=int(input(\"Enter number:\"))\n",
    "if n==1:\n",
    "    print(n,\" is Not prime Number\")\n",
    "else:\n",
    "    for i in range(2,n):\n",
    "        if n%i==0:\n",
    "            print(n,\" is Not prime Number\")\n",
    "            break\n",
    "    else:\n",
    "        print(n,\" is Prime Number\")\n"
   ]
  },
  {
   "cell_type": "raw",
   "id": "e257f72a",
   "metadata": {},
   "source": [
    "5.\tWrite a Python Program to Print all Prime Numbers in an Interval of 1-10000?\n",
    "Ans:-\n",
    "for i in range(2,10000):\n",
    "    for j in range(2,i):\n",
    "        if i%j==0:\n",
    "            break\n",
    "    else:\n",
    "        print(i,end=\" \")\n"
   ]
  }
 ],
 "metadata": {
  "kernelspec": {
   "display_name": "Python 3 (ipykernel)",
   "language": "python",
   "name": "python3"
  },
  "language_info": {
   "codemirror_mode": {
    "name": "ipython",
    "version": 3
   },
   "file_extension": ".py",
   "mimetype": "text/x-python",
   "name": "python",
   "nbconvert_exporter": "python",
   "pygments_lexer": "ipython3",
   "version": "3.9.12"
  }
 },
 "nbformat": 4,
 "nbformat_minor": 5
}
