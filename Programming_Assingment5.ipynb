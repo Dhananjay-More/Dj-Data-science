{
 "cells": [
  {
   "cell_type": "raw",
   "id": "e0378f44",
   "metadata": {},
   "source": [
    "1.\tWrite a Python Program to Find LCM?\n",
    "Ans:-\n",
    "a=int(input(\"Enter first no:\"))\n",
    "b=int(input(\"Enter Second no:\"))\n",
    "flag=True\n",
    "if a>b  :\n",
    "    lcm=b\n",
    "else:\n",
    "    lcm=a\n",
    "i=lcm\n",
    "while(i<=a*b):\n",
    "    if i%a==0 and i%b==0:\n",
    "        lcm=i\n",
    "        flag=False\n",
    "        break\n",
    "    i+=1\n",
    "if flag==False:\n",
    "    print(f\"LCM of {a} and {b} is ={lcm}\")\n",
    "else:\n",
    "    print(f\"LCM of {a} and {b} is ={a*b}\")\n"
   ]
  },
  {
   "cell_type": "raw",
   "id": "28712115",
   "metadata": {},
   "source": [
    "2.\tWrite a Python Program to Find HCF?\n",
    "Ans:-\n",
    "a=int(input(\"Enter first no:\"))\n",
    "b=int(input(\"Enter Second no:\"))\n",
    "hcf=1\n",
    "i=2\n",
    "while(i<=a and i<=b):\n",
    "    if a%i==0 and b%i==0:\n",
    "        hcf=i\n",
    "    i+=1\n",
    "print(f\"HCF of {a} and {b} is ={hcf}\")\n"
   ]
  },
  {
   "cell_type": "raw",
   "id": "cc3ceb5c",
   "metadata": {},
   "source": [
    "3.\tWrite a Python Program to Convert Decimal to Binary, Octal and Hexadecimal?\n",
    "Ans:-\n",
    "no=int(input(\"Enter Number Decimal to convert:\"))\n",
    "print(f\"Binary value of {no} is=\",bin(no))\n",
    "print(f\"Octal value of {no} is=\",oct(no))\n",
    "print(f\"Hexadecimal value of {no} is=\",hex(no))\n"
   ]
  },
  {
   "cell_type": "raw",
   "id": "d6436679",
   "metadata": {},
   "source": [
    "4.\tWrite a Python Program To Find ASCII value of a character?\n",
    "Ans:-\n",
    "ch=input(\"Enter Character to see ASCII value:\")\n",
    "print(f\"ASCII value of {ch}=\",ord(ch))\n"
   ]
  },
  {
   "cell_type": "raw",
   "id": "586bab0c",
   "metadata": {},
   "source": [
    "5.\tWrite a Python Program to Make a Simple Calculator with 4 basic mathematical operations?\n",
    "Ans:-\n",
    "while(True):\n",
    "    print(\"1.ADD\\n2.SUB\\n3.MUL\\n4.DIV\\n5.Exit\")\n",
    "    ch=int(input(\"Enter Your Choice:\"))\n",
    "    if ch in [1,2,3,4,5]:\n",
    "        if ch==5:\n",
    "            break\n",
    "        no1=float(input(\"Enter First Number:\"))\n",
    "        no2=float(input(\"Enter First Number:\"))\n",
    "        if ch==1:\n",
    "            print(\"Addition=\",no1+no2)\n",
    "        elif ch==2:\n",
    "            print(\"Substraction=\",no1-no2)\n",
    "        elif ch==3:\n",
    "            print(\"Multiplication=\",no1*no2)\n",
    "        elif ch==4:\n",
    "            print(\"Division=\",no1/no2)\n",
    "    else:\n",
    "        print(\"Invalide Input\")\n",
    "        break\n"
   ]
  }
 ],
 "metadata": {
  "kernelspec": {
   "display_name": "Python 3 (ipykernel)",
   "language": "python",
   "name": "python3"
  },
  "language_info": {
   "codemirror_mode": {
    "name": "ipython",
    "version": 3
   },
   "file_extension": ".py",
   "mimetype": "text/x-python",
   "name": "python",
   "nbconvert_exporter": "python",
   "pygments_lexer": "ipython3",
   "version": "3.9.12"
  }
 },
 "nbformat": 4,
 "nbformat_minor": 5
}
