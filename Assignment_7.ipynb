{
 "cells": [
  {
   "cell_type": "raw",
   "id": "3372abd7",
   "metadata": {},
   "source": [
    "1. What is the name of the feature responsible for generating Regex objects?"
   ]
  },
  {
   "cell_type": "raw",
   "id": "3ba2b4fa",
   "metadata": {},
   "source": [
    "Ans:- \n",
    "    The re.compile() function returns Regex objects.\n",
    "    import re\n",
    "    re.compile(\"string\")"
   ]
  },
  {
   "cell_type": "raw",
   "id": "9aac2151",
   "metadata": {},
   "source": [
    "2. Why do raw strings often appear in Regex objects?"
   ]
  },
  {
   "cell_type": "raw",
   "id": "0c725da5",
   "metadata": {},
   "source": [
    "Ans:- Raw strings are used so that backslashes do not have to be escaped."
   ]
  },
  {
   "cell_type": "raw",
   "id": "2dd2b622",
   "metadata": {},
   "source": [
    "3. What is the return value of the search() method?"
   ]
  },
  {
   "cell_type": "raw",
   "id": "e19715ae",
   "metadata": {},
   "source": [
    "Ans:- The search() method searches a string for a specified value, and returns the position of the match.\n",
    "\n",
    "The search value can be string or a regular expression. This method returns -1 if no match is found"
   ]
  },
  {
   "cell_type": "raw",
   "id": "5a8e3b00",
   "metadata": {},
   "source": [
    "4. From a Match item, how do you get the actual strings that match the pattern?"
   ]
  },
  {
   "cell_type": "raw",
   "id": "7c45aad4",
   "metadata": {},
   "source": [
    "Ans:- Calling matchingObject.group() will return the string.\n",
    "    e.g:-phoneNumRegex = re.compile(r'\\d\\d\\d-\\d\\d\\d-\\d\\d\\d\\d')\n",
    "        mo = phoneNumRegex.search('My number is 345-444-4542.')\n",
    "        print('Phone number is: ' + mo.group())"
   ]
  },
  {
   "cell_type": "raw",
   "id": "03a5d788",
   "metadata": {},
   "source": [
    "5. In the regex which created from the r'(\\d\\d\\d)-(\\d\\d\\d-\\d\\d\\d\\d)', what does group zero cover? Group 2? Group 1?"
   ]
  },
  {
   "cell_type": "raw",
   "id": "9f9c4f04",
   "metadata": {},
   "source": [
    "Ans:-\n",
    "    phoneNumRegex = re.compile(r'(\\d\\d\\d)-(\\d\\d\\d-\\d\\d\\d\\d)')\n",
    "    mo = phoneNumRegex.search('My number is 345-444-4542.')\n",
    "    \n",
    "    mo.group(0) Gives-'345-444-4542'\n",
    "    mo.group(1) Gives-'345'\n",
    "    mo.group(2) Gives-'444-4542'"
   ]
  },
  {
   "cell_type": "raw",
   "id": "df003442",
   "metadata": {},
   "source": [
    "6. In standard expression syntax, parentheses and intervals have distinct meanings. How can you tell a regex \n",
    "    that you want it to fit real parentheses and periods?"
   ]
  },
  {
   "cell_type": "raw",
   "id": "f6f5786f",
   "metadata": {},
   "source": [
    "Ans:-  Periods and parentheses can be escaped with a backslash: ., (, and )."
   ]
  },
  {
   "cell_type": "raw",
   "id": "5a929afa",
   "metadata": {},
   "source": [
    "7. The findall() method returns a string list or a list of string tuples. What causes it to return one of \n",
    "    the two options?"
   ]
  },
  {
   "cell_type": "raw",
   "id": "2909708c",
   "metadata": {},
   "source": [
    "Ans:-If the regex has no groups, a list of strings is returned. If the regex has groups, \n",
    "    a list of tuples of strings is returned."
   ]
  },
  {
   "cell_type": "raw",
   "id": "9b42001d",
   "metadata": {},
   "source": [
    "8. In standard expressions, what does the | character mean?"
   ]
  },
  {
   "cell_type": "raw",
   "id": "4e67f351",
   "metadata": {},
   "source": [
    "Ans:- The | character is called a pipe. You can use it anywhere you want to match one of many expressions.\n",
    "        The | character signifies matching “either, or” between two groups."
   ]
  },
  {
   "cell_type": "raw",
   "id": "9565217b",
   "metadata": {},
   "source": [
    "9. In regular expressions, what does the character '?' stand for?"
   ]
  },
  {
   "cell_type": "raw",
   "id": "dfbd1afe",
   "metadata": {},
   "source": [
    "Ans:- The ? character can either mean “match zero or one of the preceding group”."
   ]
  },
  {
   "cell_type": "raw",
   "id": "5d9c658c",
   "metadata": {},
   "source": [
    "10.In regular expressions, what is the difference between the + and * characters?"
   ]
  },
  {
   "cell_type": "raw",
   "id": "62265ec2",
   "metadata": {},
   "source": [
    "Ans:- The + matches one or more. The * matches zero or more."
   ]
  },
  {
   "cell_type": "raw",
   "id": "d6d03452",
   "metadata": {},
   "source": [
    "11. What is the difference between {4} and {4,5} in regular expression?"
   ]
  },
  {
   "cell_type": "raw",
   "id": "9e82c25b",
   "metadata": {},
   "source": [
    "Ans:- The {4} matches exactly four instances of the preceding group.\n",
    "      The {4,5} matches between four and five instances"
   ]
  },
  {
   "cell_type": "raw",
   "id": "07c08e18",
   "metadata": {},
   "source": [
    "12. What do you mean by the \\d, \\w, and \\s shorthand character classes signify in regular expressions?"
   ]
  },
  {
   "cell_type": "raw",
   "id": "81f82098",
   "metadata": {},
   "source": [
    "Ans:- The \\d, stands for single digit, Any numeric digit from 0 to 9.\n",
    "      The \\w, stands for single word, Any letter, numeric digit, or the underscore character. \n",
    "      The \\s, stands for single space character, Any space, tab, or newline character."
   ]
  },
  {
   "cell_type": "raw",
   "id": "dcb85dca",
   "metadata": {},
   "source": [
    "13. What do means by \\D, \\W, and \\S shorthand character classes signify in regular expressions?"
   ]
  },
  {
   "cell_type": "raw",
   "id": "887c1b04",
   "metadata": {},
   "source": [
    "Ans:- \\D , stands for Any character that is not a numeric digit from 0 to 9.\n",
    "      \\W , stands for Any character that is not a letter, numeric digit, or the underscore character.\n",
    "      \\S , stands for Any character that is not a space, tab, or newline."
   ]
  },
  {
   "cell_type": "raw",
   "id": "82542e31",
   "metadata": {},
   "source": [
    "14. What is the difference between .*? and .*?"
   ]
  },
  {
   "cell_type": "raw",
   "id": "227496ce",
   "metadata": {},
   "source": [
    "Ans:- .* - The dot-star uses greedy mode: It will always try to match as much text as possible.\n",
    "      .? - To match any and all text in a non-greedy fashion, use the dot, star, and question mark (.?).\n",
    "      Like with braces, the question mark tells Python to match in a non-greedy way."
   ]
  },
  {
   "cell_type": "raw",
   "id": "1f4f0a6f",
   "metadata": {},
   "source": [
    "15. What is the syntax for matching both numbers and lowercase letters with a character class?"
   ]
  },
  {
   "cell_type": "raw",
   "id": "3c60e8e2",
   "metadata": {},
   "source": [
    "Ans:-  Either [0-9a-z] or [a-z0-9]"
   ]
  },
  {
   "cell_type": "raw",
   "id": "6608273f",
   "metadata": {},
   "source": [
    "16. What is the procedure for making a normal expression in regax case insensitive?"
   ]
  },
  {
   "cell_type": "raw",
   "id": "cfc4be33",
   "metadata": {},
   "source": [
    "Ans:- Passing re.I or re.IGNORECASE as the second argument to re.compile() will make the matching case insensitive."
   ]
  },
  {
   "cell_type": "raw",
   "id": "15d0c059",
   "metadata": {},
   "source": [
    "17. What does the . character normally match? What does it match if re.DOTALL is passed as 2nd argument in\n",
    "    re.compile()?"
   ]
  },
  {
   "cell_type": "raw",
   "id": "4536166f",
   "metadata": {},
   "source": [
    "Ans:- \n",
    "    The . character normally matches any character except the newline character.\n",
    "    If re.DOTALL is passed as the second argument to re.compile(), then the dot will also match newline characters.\n"
   ]
  },
  {
   "cell_type": "raw",
   "id": "eade7a3c",
   "metadata": {},
   "source": [
    "18. If numReg = re.compile(r'\\d+'), what will numRegex.sub('X', '11 drummers, 10 pipers, five rings, 4 hen') return?"
   ]
  },
  {
   "cell_type": "raw",
   "id": "f86af567",
   "metadata": {},
   "source": [
    "Ans:-\n",
    "    It will return 'X drummers, X pipers, five rings, X hen'."
   ]
  },
  {
   "cell_type": "raw",
   "id": "085a8817",
   "metadata": {},
   "source": [
    "19. What does passing re.VERBOSE as the 2nd argument to re.compile() allow to do?"
   ]
  },
  {
   "cell_type": "raw",
   "id": "1a7d0d15",
   "metadata": {},
   "source": [
    "Ans:- The re.VERBOSE argument allows you to add whitespace and comments to the string passed to re.compile()"
   ]
  },
  {
   "cell_type": "raw",
   "id": "a579289b",
   "metadata": {},
   "source": [
    "20. How would you write a regex that match a number with comma for every three digits? \n",
    "    It must match the given following:\n",
    "'42'\n",
    "'1,234'\n",
    "'6,368,745'\n",
    "but not the following:\n",
    "'12,34,567' (which has only two digits between the commas)\n",
    "'1234' (which lacks commas)"
   ]
  },
  {
   "cell_type": "raw",
   "id": "9afc0f53",
   "metadata": {},
   "source": [
    "Ans:- reg1 = re.compile(r'^\\d{1,3}(,\\d{3})*$')"
   ]
  },
  {
   "cell_type": "raw",
   "id": "8188ba4f",
   "metadata": {},
   "source": [
    "21. How would you write a regex that matches the full name of someone whose last name is Watanabe?\n",
    "    You can assume that the first name that comes before it will always be one word that begins with a capital letter.\n",
    "    The regex must match the following:\n",
    "'Haruto Watanabe'\n",
    "'Alice Watanabe'\n",
    "'RoboCop Watanabe'\n",
    "but not the following:\n",
    "'haruto Watanabe' (where the first name is not capitalized)\n",
    "'Mr. Watanabe' (where the preceding word has a nonletter character)\n",
    "'Watanabe' (which has no first name)\n",
    "'Haruto watanabe' (where Watanabe is not capitalized)"
   ]
  },
  {
   "cell_type": "raw",
   "id": "58413d67",
   "metadata": {},
   "source": [
    "Ans:- \n",
    "    name = re.compile(r'[A-Z][a-z]*\\sWatanabe')\n",
    "    reg1 = re.compile(r'^\\d{1,3}(,\\d{3})*$')"
   ]
  },
  {
   "cell_type": "raw",
   "id": "09cead5f",
   "metadata": {},
   "source": [
    "22. How would you write a regex that matches a sentence where the first word is either Alice, Bob, or Carol; \n",
    "    the second word is either eats, pets, or throws; the third word is apples, cats, or baseballs; and the \n",
    "    sentence ends with a period? This regex should be case-insensitive. It must match the following:\n",
    "'Alice eats apples.'\n",
    "'Bob pets cats.'\n",
    "'Carol throws baseballs.'\n",
    "'Alice throws Apples.'\n",
    "'BOB EATS CATS.'\n",
    "but not the following:\n",
    "'RoboCop eats apples.'\n",
    "'ALICE THROWS FOOTBALLS.'\n",
    "'Carol eats 7 cats.'"
   ]
  },
  {
   "cell_type": "raw",
   "id": "1ae1458c",
   "metadata": {},
   "source": [
    "Ans:- re.compile(r'(Alice|Bob|Carol)\\s(eats|pets|throws)\\s(apples|cats|baseballs)\\.', re.IGNORECASE)"
   ]
  }
 ],
 "metadata": {
  "kernelspec": {
   "display_name": "Python 3 (ipykernel)",
   "language": "python",
   "name": "python3"
  },
  "language_info": {
   "codemirror_mode": {
    "name": "ipython",
    "version": 3
   },
   "file_extension": ".py",
   "mimetype": "text/x-python",
   "name": "python",
   "nbconvert_exporter": "python",
   "pygments_lexer": "ipython3",
   "version": "3.9.12"
  }
 },
 "nbformat": 4,
 "nbformat_minor": 5
}
