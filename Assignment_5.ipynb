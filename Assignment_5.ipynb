{
 "cells": [
  {
   "cell_type": "raw",
   "id": "6bfb703a",
   "metadata": {},
   "source": [
    "1.What does an empty dictionary's code look like?"
   ]
  },
  {
   "cell_type": "raw",
   "id": "7d72dda7",
   "metadata": {},
   "source": [
    "Ans- Like an empty pair of curly braces {}\n",
    "a={}\n",
    "type(a)"
   ]
  },
  {
   "cell_type": "raw",
   "id": "8cdbc949",
   "metadata": {},
   "source": [
    "2. What is the value of a dictionary value with the key 'foo' and the value 42?"
   ]
  },
  {
   "cell_type": "raw",
   "id": "3065bb83",
   "metadata": {},
   "source": [
    "Ans:- a={'foo':42}\n",
    "print(a['foo'])"
   ]
  },
  {
   "cell_type": "raw",
   "id": "49d849ed",
   "metadata": {},
   "source": [
    "3. What is the most significant distinction between a dictionary and a list?"
   ]
  },
  {
   "cell_type": "raw",
   "id": "5d4901f6",
   "metadata": {},
   "source": [
    "Ans- The items stored in a dictionary are unordered, while the items in a list are ordered."
   ]
  },
  {
   "cell_type": "raw",
   "id": "6035bf81",
   "metadata": {},
   "source": [
    "4. What happens if you try to access spam['foo'] if spam is {'bar': 100}?"
   ]
  },
  {
   "cell_type": "raw",
   "id": "2171f4c5",
   "metadata": {},
   "source": [
    "Ans-KeyError Occured\n",
    "spam={'bar': 100}\n",
    "spam['foo']"
   ]
  },
  {
   "cell_type": "raw",
   "id": "cf4ac3a4",
   "metadata": {},
   "source": [
    "5. If a dictionary is stored in spam, what is the difference between the expressions 'cat' in spam and \n",
    "'cat' in spam.keys()?"
   ]
  },
  {
   "cell_type": "raw",
   "id": "57ae9a41",
   "metadata": {},
   "source": [
    "Ans- There is no difference. The in operator checks whether a value exists as a key in the dictionary."
   ]
  },
  {
   "cell_type": "raw",
   "id": "6cd957bf",
   "metadata": {},
   "source": [
    "6. If a dictionary is stored in spam, what is the difference between the expressions 'cat' in spam and \n",
    "'cat' in spam.values()?"
   ]
  },
  {
   "cell_type": "raw",
   "id": "21e9367f",
   "metadata": {},
   "source": [
    "Ans- 'cat' in spam checks whether there is a 'cat' key in the dictionary, while 'cat' in spam.values()\n",
    "        checks whether there is a value 'cat' for one of the keys in spam."
   ]
  },
  {
   "cell_type": "raw",
   "id": "c7b5590b",
   "metadata": {},
   "source": [
    "7. What is a shortcut for the following code?\n",
    "if 'color' not in spam:\n",
    "spam['color'] = 'black'"
   ]
  },
  {
   "cell_type": "raw",
   "id": "70bfe804",
   "metadata": {},
   "source": [
    "Ans-\n",
    "spam.setdefault('color', 'black')"
   ]
  },
  {
   "cell_type": "raw",
   "id": "3120f774",
   "metadata": {},
   "source": [
    "8. How do you \"pretty print\" dictionary values using which module and function?"
   ]
  },
  {
   "cell_type": "code",
   "execution_count": null,
   "id": "e2b30b2a",
   "metadata": {},
   "outputs": [],
   "source": [
    "Ans- pprint.pprint()"
   ]
  }
 ],
 "metadata": {
  "kernelspec": {
   "display_name": "Python 3 (ipykernel)",
   "language": "python",
   "name": "python3"
  },
  "language_info": {
   "codemirror_mode": {
    "name": "ipython",
    "version": 3
   },
   "file_extension": ".py",
   "mimetype": "text/x-python",
   "name": "python",
   "nbconvert_exporter": "python",
   "pygments_lexer": "ipython3",
   "version": "3.9.12"
  }
 },
 "nbformat": 4,
 "nbformat_minor": 5
}
