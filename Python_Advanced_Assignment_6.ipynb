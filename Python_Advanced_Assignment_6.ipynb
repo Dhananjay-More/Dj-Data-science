{
 "cells": [
  {
   "cell_type": "raw",
   "id": "aa54e744",
   "metadata": {},
   "source": [
    "Q1. Describe three applications for exception processing."
   ]
  },
  {
   "cell_type": "raw",
   "id": "eb3d791f",
   "metadata": {},
   "source": [
    "Ans:-\n",
    "    Exception Processing is important to find exceptions that causes the runtime error. As runtime errors Halt the program execution when exception occurs.\n",
    "Exception Processing is used in Various Applications of which few examples are:\n",
    "    Checking Appropriate use of input in an application\n",
    "    Checking for Arithmetic exceptions in mathematical executions\n",
    "    Checking File I/O exceptions during File handling"
   ]
  },
  {
   "cell_type": "raw",
   "id": "3959cbe4",
   "metadata": {},
   "source": [
    "Q2. What happens if you don't do something extra to treat an exception?"
   ]
  },
  {
   "cell_type": "raw",
   "id": "f5bd393b",
   "metadata": {},
   "source": [
    "Ans:-\n",
    "    If Exceptions are not handled flow of program will be broken during the run time which might lead to a abnormal termination of the program. Inshort inability of program to handle exceptions will result in crashing of program."
   ]
  },
  {
   "cell_type": "raw",
   "id": "7bff5179",
   "metadata": {},
   "source": [
    "Q3. What are your options for recovering from an exception in your script?"
   ]
  },
  {
   "cell_type": "raw",
   "id": "e2214428",
   "metadata": {},
   "source": [
    "Ans:-\n",
    "    Python provides try and except statements for recovering from an exception in your script."
   ]
  },
  {
   "cell_type": "raw",
   "id": "dd37c486",
   "metadata": {},
   "source": [
    "Q4. Describe two methods for triggering exceptions in your script."
   ]
  },
  {
   "cell_type": "raw",
   "id": "947e02cd",
   "metadata": {},
   "source": [
    "Ans:-\n",
    "    raise and assert are two methods that can be used to trigger manual exceptions in your script.\n",
    "    raise method triggers an exception if condition provided to it turns out to be True.\n",
    "    assert will let the program to continue execution if condition provided to it turns out to be True else exception will be raised"
   ]
  },
  {
   "cell_type": "raw",
   "id": "02e0b941",
   "metadata": {},
   "source": [
    "Q5. Identify two methods for specifying actions to be executed at termination time, regardless of whether or not an exception exists."
   ]
  },
  {
   "cell_type": "raw",
   "id": "3ac71c06",
   "metadata": {},
   "source": [
    "Ans:-\n",
    "    Python Provides else and finally blocks for specifying actions to be executed at termination time, regardless of whether an exceptions exists or not."
   ]
  }
 ],
 "metadata": {
  "kernelspec": {
   "display_name": "Python 3 (ipykernel)",
   "language": "python",
   "name": "python3"
  },
  "language_info": {
   "codemirror_mode": {
    "name": "ipython",
    "version": 3
   },
   "file_extension": ".py",
   "mimetype": "text/x-python",
   "name": "python",
   "nbconvert_exporter": "python",
   "pygments_lexer": "ipython3",
   "version": "3.9.12"
  }
 },
 "nbformat": 4,
 "nbformat_minor": 5
}
