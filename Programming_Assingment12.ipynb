{
 "cells": [
  {
   "cell_type": "raw",
   "id": "0dab7e4c",
   "metadata": {},
   "source": [
    "1.\tWrite a Python program to Extract Unique values dictionary values?"
   ]
  },
  {
   "cell_type": "raw",
   "id": "0807d8fb",
   "metadata": {},
   "source": [
    "Ans:-\n",
    "dict1 = {'a' : [3, 64, 17, 66],\n",
    "             'b' : [1, 21, 47, 45],\n",
    "             'c' : [0, 17, 7, 81],\n",
    "             'd' : [3, 3, 4,8]}\n",
    "\n",
    "un_val = set([ele for val in dict1.values() for ele in val])\n",
    "print(\"unique values are: {}\".format(un_val))"
   ]
  },
  {
   "cell_type": "raw",
   "id": "f45f7a5a",
   "metadata": {},
   "source": [
    "2.\tWrite a Python program to find the sum of all items in a dictionary?"
   ]
  },
  {
   "cell_type": "raw",
   "id": "d6d1e031",
   "metadata": {},
   "source": [
    "Ans:-\n",
    "dict2 = {'a' : 22,\n",
    "             'b' :  21,\n",
    "             'c' : 52,\n",
    "             'd' : 56}\n",
    "sum = 0\n",
    "for i in dict2.values():\n",
    "    sum +=sum + i\n",
    "print(\"Sun of all items: {}\".format(sum))"
   ]
  },
  {
   "cell_type": "raw",
   "id": "f3d9ac84",
   "metadata": {},
   "source": [
    "3.\tWrite a Python program to Merging two Dictionaries?"
   ]
  },
  {
   "cell_type": "raw",
   "id": "07512d66",
   "metadata": {},
   "source": [
    "Ans:-\n",
    "one = { 'x': 2, 'y': 3}\n",
    "two = { 'y': 5, 'z': 6}\n",
    "both = one.copy()\n",
    "both.update(two)\n",
    "print(\"dict a : \", one)\n",
    "print(\"Dict b : \", two)\n",
    "print('updated dictionary : {}'.format(both))"
   ]
  },
  {
   "cell_type": "raw",
   "id": "0f9b4886",
   "metadata": {},
   "source": [
    "4.\tWrite a Python program to convert key-values list to flat dictionary?"
   ]
  },
  {
   "cell_type": "raw",
   "id": "e0b8b37e",
   "metadata": {},
   "source": [
    "Ans:-\n",
    "test_dict = {'month' : [1, 2, 3],\n",
    "             'name' : ['Jan', 'Feb', 'March']}\n",
    "print(\"The original dictionary is : \" + str(test_dict))\n",
    "res = dict(zip(test_dict['month'], test_dict['name']))\n",
    "print(\"Flattened dictionary : \" + str(res))"
   ]
  },
  {
   "cell_type": "raw",
   "id": "2f3337ca",
   "metadata": {},
   "source": [
    "5.\tWrite a Python program to insertion at the beginning in OrderedDict?"
   ]
  },
  {
   "cell_type": "raw",
   "id": "53e7486e",
   "metadata": {},
   "source": [
    "Ans:-\n",
    "from collections import OrderedDict\n",
    "iniordered_dict = OrderedDict([('Feb', '2'), ('Mar', '3')])\n",
    "iniordered_dict.update({'Jan':'1'})\n",
    "iniordered_dict.move_to_end('Jan', last = False)\n",
    "print (\"Ordered Dictionary  : \"+str(iniordered_dict))"
   ]
  },
  {
   "cell_type": "raw",
   "id": "723a0fde",
   "metadata": {},
   "source": [
    "6.\tWrite a Python program to check order of character in string using OrderedDict()?"
   ]
  },
  {
   "cell_type": "raw",
   "id": "1db329c6",
   "metadata": {},
   "source": [
    "Ans:-\n",
    "from collections import OrderedDict \n",
    "def checkOrderofString(str, pattern): \n",
    "    dict = OrderedDict.fromkeys(str) \n",
    "    print(dict)   \n",
    "    ptrlen = 0\n",
    "    for key,value in dict.items(): \n",
    "        if (key == pattern[ptrlen]): \n",
    "            ptrlen = ptrlen + 1\n",
    "        if (ptrlen == (len(pattern))):            \n",
    "            return 'true'\n",
    "    return 'false'\n",
    "  \n",
    "string = input(\"enter string : \")\n",
    "pattern = input(\"Enter Pattern : \")\n",
    "if checkOrderofString(string,pattern):\n",
    "    print(\"Pattern matched\")\n",
    "else:\n",
    "    print(\"Pattern not matched\")"
   ]
  },
  {
   "cell_type": "raw",
   "id": "a2c3297a",
   "metadata": {},
   "source": [
    "7.\tWrite a Python program to sort Python Dictionaries by Key or Value?"
   ]
  },
  {
   "cell_type": "raw",
   "id": "fa1aaffd",
   "metadata": {},
   "source": [
    "Ans:-\n",
    "dict= {4:5 ,7:8 ,4:3 ,6:9 ,9:5 ,4:2 }\n",
    "print(sorted(dict.keys()))\n",
    "print(sorted(dict.items()))"
   ]
  }
 ],
 "metadata": {
  "kernelspec": {
   "display_name": "Python 3 (ipykernel)",
   "language": "python",
   "name": "python3"
  },
  "language_info": {
   "codemirror_mode": {
    "name": "ipython",
    "version": 3
   },
   "file_extension": ".py",
   "mimetype": "text/x-python",
   "name": "python",
   "nbconvert_exporter": "python",
   "pygments_lexer": "ipython3",
   "version": "3.9.12"
  }
 },
 "nbformat": 4,
 "nbformat_minor": 5
}
