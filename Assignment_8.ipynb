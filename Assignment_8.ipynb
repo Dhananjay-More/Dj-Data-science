{
 "cells": [
  {
   "cell_type": "raw",
   "id": "8d0c5e9e",
   "metadata": {},
   "source": [
    "1. Is the Python Standard Library included with PyInputPlus?"
   ]
  },
  {
   "cell_type": "raw",
   "id": "45ae2a7d",
   "metadata": {},
   "source": [
    "Ans:-\n",
    "    PyInputPlus is not a part of the Python Standard Library, so you must install it separately using Pip."
   ]
  },
  {
   "cell_type": "raw",
   "id": "dfd23916",
   "metadata": {},
   "source": [
    "2. Why is PyInputPlus commonly imported with import pyinputplus as pypi?"
   ]
  },
  {
   "cell_type": "raw",
   "id": "388483ac",
   "metadata": {},
   "source": [
    "Ans:-\n",
    "    The as pyip code in the import statement saves us from typing pyinputplus each time we want to call \n",
    "    a PyInputPlus function. Instead we can use the shorter pyip name."
   ]
  },
  {
   "cell_type": "raw",
   "id": "65f47c9e",
   "metadata": {},
   "source": [
    "3. How do you distinguish between inputInt() and inputFloat()?"
   ]
  },
  {
   "cell_type": "raw",
   "id": "9f469ada",
   "metadata": {},
   "source": [
    "Ans:-\n",
    "        inputInt() : Accepts an integer value, and returns int value.\n",
    "        inputFloat() : Accepts integer/floating point value and returns float value."
   ]
  },
  {
   "cell_type": "raw",
   "id": "a6488786",
   "metadata": {},
   "source": [
    "4. Using PyInputPlus, how do you ensure that the user enters a whole number between 0 and 99?"
   ]
  },
  {
   "cell_type": "raw",
   "id": "d2de45d1",
   "metadata": {},
   "source": [
    "Ans:-\n",
    "    In the inputint function we can set the min = 0 and max =99 to ensure user enters number between 0 and 99.\n",
    "    pyip.inputInt(min = 0, max =99)."
   ]
  },
  {
   "cell_type": "raw",
   "id": "b9ed7f2a",
   "metadata": {},
   "source": [
    "5. What is transferred to the keyword arguments allowRegexes and blockRegexes?"
   ]
  },
  {
   "cell_type": "raw",
   "id": "46052399",
   "metadata": {},
   "source": [
    "Ans:-\n",
    "    We can also use regular expressions to specify whether an input is allowed or not.\n",
    "    The allowRegexes and blockRegexes keyword arguments take a list of regular expression strings\n",
    "    to determine what the PyInputPlus function will accept or reject as valid input."
   ]
  },
  {
   "cell_type": "raw",
   "id": "2b812591",
   "metadata": {},
   "source": [
    "6. If a blank input is entered three times, what does inputStr(limit=3) do?"
   ]
  },
  {
   "cell_type": "raw",
   "id": "9c5ec335",
   "metadata": {},
   "source": [
    "Ans:-\n",
    "    It will throw RetryLimitException exception."
   ]
  },
  {
   "cell_type": "raw",
   "id": "86005683",
   "metadata": {},
   "source": [
    "7. If blank input is entered three times, what does inputStr(limit=3, default='hello') do?"
   ]
  },
  {
   "cell_type": "raw",
   "id": "566154c4",
   "metadata": {},
   "source": [
    "Ans:-\n",
    "    When you use limit keyword arguments and also pass a default keyword argument, \n",
    "    the function returns the default value instead of raising an exception."
   ]
  }
 ],
 "metadata": {
  "kernelspec": {
   "display_name": "Python 3 (ipykernel)",
   "language": "python",
   "name": "python3"
  },
  "language_info": {
   "codemirror_mode": {
    "name": "ipython",
    "version": 3
   },
   "file_extension": ".py",
   "mimetype": "text/x-python",
   "name": "python",
   "nbconvert_exporter": "python",
   "pygments_lexer": "ipython3",
   "version": "3.9.12"
  }
 },
 "nbformat": 4,
 "nbformat_minor": 5
}
