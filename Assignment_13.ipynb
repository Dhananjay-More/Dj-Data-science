{
 "cells": [
  {
   "cell_type": "raw",
   "id": "02e2d3f7",
   "metadata": {},
   "source": [
    "1. What advantages do Excel spreadsheets have over CSV spreadsheets?"
   ]
  },
  {
   "cell_type": "raw",
   "id": "a5ecd12f",
   "metadata": {},
   "source": [
    "Ans:-\n",
    "    \n",
    "    1.It is a binary file that holds information about all the worksheets in a workbook.\n",
    "    2.An Excel not only stores data but can also do operations on the data.\n",
    "    3.Files saved in excel cannot be opened or edited by text editors.\n",
    "    4.large files user is much easier in Excel for the end user. Also, you can have additional functions like \n",
    "    selecting individual cells for import, convert dates and time automatically, reading formulas and their results,\n",
    "    filters, sorting, etc\n",
    "    5.Apart from text, data can also be stored in form of charts and graphs.\n",
    "    6.Excel can connect to external data sources to fetch data. You can use custom add-in in Excel to increase \n",
    "      its functionality.\n",
    "    7.Excel allows for Review of Data with detailed tracking and commenting feature\n",
    "    8.In Excel, spreadsheets can have values of data types other than strings; cells can have different \n",
    "      fonts, sizes, or color settings; cells can have varying widths and heights; adjacent cells can be merged\n"
   ]
  },
  {
   "cell_type": "raw",
   "id": "ab82fac4",
   "metadata": {},
   "source": [
    "2.What do you pass to csv.reader() and csv.writer() to create reader and writer objects?"
   ]
  },
  {
   "cell_type": "raw",
   "id": "7177b297",
   "metadata": {},
   "source": [
    "Ans:-\n",
    "    import csv\n",
    "    file_csv = open('abc.csv')\n",
    "    filereader = csv.reader(file_csv)\n",
    "    fileData = list(filereader)\n",
    "    fileData"
   ]
  },
  {
   "cell_type": "raw",
   "id": "abf66017",
   "metadata": {},
   "source": [
    "3. What modes do File objects for reader and writer objects need to be opened in?"
   ]
  },
  {
   "cell_type": "raw",
   "id": "9bd38aad",
   "metadata": {},
   "source": [
    "Ans:-\n",
    "    File objects need to be opened in read-binary ('rb') for Reader objects and write-binary ('wb') for Writer objects."
   ]
  },
  {
   "cell_type": "raw",
   "id": "66b8a32a",
   "metadata": {},
   "source": [
    "4. What method takes a list argument and writes it to a CSV file?"
   ]
  },
  {
   "cell_type": "raw",
   "id": "01d2df03",
   "metadata": {},
   "source": [
    "Ans:-\n",
    "    File_abc = open('abc.csv','w')\n",
    "    File_Writer = csv.writer(File_abc)\n",
    "    csv.writer(File_abc).writerow(['cat','fish','dog'])"
   ]
  },
  {
   "cell_type": "raw",
   "id": "69fb4175",
   "metadata": {},
   "source": [
    "5. What do the keyword arguments delimiter and line terminator do?"
   ]
  },
  {
   "cell_type": "raw",
   "id": "ed4cf2fa",
   "metadata": {},
   "source": [
    "Ans:-\n",
    "    1.The delimiter argument changes the string used to separate cells in a row.\n",
    "    2.The line terminator argument changes the string used to separate rows.\n"
   ]
  },
  {
   "cell_type": "raw",
   "id": "3af73513",
   "metadata": {},
   "source": [
    "6. What function takes a string of JSON data and returns a Python data structure?"
   ]
  },
  {
   "cell_type": "raw",
   "id": "9647a368",
   "metadata": {},
   "source": [
    "Ans:-\n",
    "     json.loads()"
   ]
  },
  {
   "cell_type": "raw",
   "id": "73dcc353",
   "metadata": {},
   "source": [
    "7. What function takes a Python data structure and returns a string of JSON data?"
   ]
  },
  {
   "cell_type": "raw",
   "id": "3de3b308",
   "metadata": {},
   "source": [
    "Ans:-\n",
    "    json.dumps()"
   ]
  }
 ],
 "metadata": {
  "kernelspec": {
   "display_name": "Python 3 (ipykernel)",
   "language": "python",
   "name": "python3"
  },
  "language_info": {
   "codemirror_mode": {
    "name": "ipython",
    "version": 3
   },
   "file_extension": ".py",
   "mimetype": "text/x-python",
   "name": "python",
   "nbconvert_exporter": "python",
   "pygments_lexer": "ipython3",
   "version": "3.9.12"
  }
 },
 "nbformat": 4,
 "nbformat_minor": 5
}
