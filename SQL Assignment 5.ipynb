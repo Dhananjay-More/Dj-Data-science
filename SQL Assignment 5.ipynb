{
 "cells": [
  {
   "cell_type": "markdown",
   "id": "336c4493",
   "metadata": {},
   "source": [
    "Q.1"
   ]
  },
  {
   "cell_type": "markdown",
   "id": "bcd0865b",
   "metadata": {},
   "source": [
    "create database ineuron;\n",
    "use ineuron;\n",
    "create table tech_info(id int , technology varchar(20));\n",
    "insert into tech_info values(1,'ds');\n",
    "\n",
    "insert into tech_info values(1,'tablue');\n",
    "insert into tech_info values(1,'sql');\n",
    "insert into tech_info values(2,'r');\n",
    "insert into tech_info values(2,'power bi');\n",
    "insert into tech_info values(1,'python');\n",
    "select * from tech_info;\n",
    "\n",
    "select distinct(id) from tech_info where technology in ('ds','tablue','sql','python');"
   ]
  },
  {
   "cell_type": "markdown",
   "id": "8c9e5bcb",
   "metadata": {},
   "source": [
    "Q.2"
   ]
  },
  {
   "cell_type": "markdown",
   "id": "43dcdd73",
   "metadata": {},
   "source": [
    "create table Product_info (pr_id int not null primary key,product_name varchar(20));\n",
    "\n",
    "insert into Product_info values(1001,'Blog');\n",
    "insert into Product_info values(1002,'YouTube');\n",
    "insert into Product_info values(1003,'Education');\n",
    "\n",
    "create table Product_info_like (user_id int, pr_id int, like_date date, foreign key (pr_id) references Product_info (pr_id));\n",
    "\n",
    "insert into Product_info_like values(1,1001,'2023-08-19');\n",
    "insert into Product_info_like values(1,1003,'2023-01-18');\n",
    "\n",
    "create view Likes as select p.pr_id,pl.user_id from Product_info p left join Product_info_like pl on p.pr_id=pl.pr_id;\n",
    "\n",
    "select * from Likes;\n",
    "\n",
    "select pr_id from Likes where user_id is null;"
   ]
  }
 ],
 "metadata": {
  "kernelspec": {
   "display_name": "Python 3 (ipykernel)",
   "language": "python",
   "name": "python3"
  },
  "language_info": {
   "codemirror_mode": {
    "name": "ipython",
    "version": 3
   },
   "file_extension": ".py",
   "mimetype": "text/x-python",
   "name": "python",
   "nbconvert_exporter": "python",
   "pygments_lexer": "ipython3",
   "version": "3.9.12"
  }
 },
 "nbformat": 4,
 "nbformat_minor": 5
}
