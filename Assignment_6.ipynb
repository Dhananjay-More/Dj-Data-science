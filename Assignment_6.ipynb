{
 "cells": [
  {
   "cell_type": "raw",
   "id": "034f3012",
   "metadata": {},
   "source": [
    "1. What are escape characters, and how do you use them?"
   ]
  },
  {
   "cell_type": "raw",
   "id": "fc000b1a",
   "metadata": {},
   "source": [
    "Ans:- In Python strings, the backslash \"\" is a special character, also called the \"escape\" character.\n",
    "        It is used in representing certain whitespace characters: \"\\t\" is a tab, \"\\n\" is a newline, \n",
    "        and \"\\r\" is a carriage return\n",
    "    e.g:-\n",
    "        print(\"my \\\n",
    "        name \\\n",
    "        is\")\n",
    "        o/p:- my name is"
   ]
  },
  {
   "cell_type": "raw",
   "id": "11e0b4ed",
   "metadata": {},
   "source": [
    "2. What do the escape characters n and t stand for?"
   ]
  },
  {
   "cell_type": "raw",
   "id": "36bee41b",
   "metadata": {},
   "source": [
    "Ans:- \"\\n\" is a newline and \"\\t\" is a tab"
   ]
  },
  {
   "cell_type": "raw",
   "id": "b85096d9",
   "metadata": {},
   "source": [
    "3. What is the way to include backslash characters in a string?"
   ]
  },
  {
   "cell_type": "raw",
   "id": "fa15e8b9",
   "metadata": {},
   "source": [
    "Ans:- print('its a back slash \\ in a line')"
   ]
  },
  {
   "cell_type": "raw",
   "id": "f2c02f2c",
   "metadata": {},
   "source": [
    "4. The string \"Howl's Moving Castle\" is a correct value. Why isn't the single quote character in the word Howl's\n",
    "    not escaped a problem?"
   ]
  },
  {
   "cell_type": "raw",
   "id": "11464332",
   "metadata": {},
   "source": [
    "Ans:- The single quote in Howl's is fine because you've used double quotes to mark the beginning and \n",
    "        end of the string. like wise we can use double quotes in with single quotes"
   ]
  },
  {
   "cell_type": "raw",
   "id": "18f89e43",
   "metadata": {},
   "source": [
    "5. How do you write a string of newlines if you don't want to use the n character?"
   ]
  },
  {
   "cell_type": "raw",
   "id": "7cd5854e",
   "metadata": {},
   "source": [
    "Ans:- Using end in print statement we can do it.\n",
    "    print(\"printing something in new line\",end = '\\n')\n",
    "    print(\"newline\")"
   ]
  },
  {
   "cell_type": "raw",
   "id": "93cb9065",
   "metadata": {},
   "source": [
    "6. What are the values of the given expressions?\n",
    "'Hello, world!'[1]\n",
    "'Hello, world!'[0:5]\n",
    "'Hello, world!'[:5]\n",
    "'Hello, world!'[3:]"
   ]
  },
  {
   "cell_type": "raw",
   "id": "d533bb54",
   "metadata": {},
   "source": [
    "Ans:- 'Hello, world!'[1]      Prints:- 'e'\n",
    "      'Hello, world!'[0:5]    Prints:- 'Hello'\n",
    "      'Hello, world!'[:5]     Prints:- 'Hello'\n",
    "      'Hello, world!'[3:]     Prints:- 'lo, world!'"
   ]
  },
  {
   "cell_type": "raw",
   "id": "25f0f25a",
   "metadata": {},
   "source": [
    "7. What are the values of the following expressions?\n",
    "'Hello'.upper()\n",
    "'Hello'.upper().isupper()\n",
    "'Hello'.upper().lower()"
   ]
  },
  {
   "cell_type": "raw",
   "id": "b19c6ef7",
   "metadata": {},
   "source": [
    "Ans:- 'Hello'.upper()            Prints:- 'HELLO'\n",
    "      'Hello'.upper().isupper()  Prints:- True\n",
    "      'Hello'.upper().lower()    Prints:- 'hello'"
   ]
  },
  {
   "cell_type": "raw",
   "id": "5a79c2d9",
   "metadata": {},
   "source": [
    "8. What are the values of the following expressions?\n",
    "'Remember, remember, the fifth of July.'.split()\n",
    "'-'.join('There can only one.'.split())"
   ]
  },
  {
   "cell_type": "raw",
   "id": "51847009",
   "metadata": {},
   "source": [
    "Ans:-\n",
    "    'Remember, remember, the fifth of July.'.split()\n",
    "    o/p:- ['Remember,', 'remember,', 'the', 'fifth', 'of', 'July.']\n",
    "    '-'.join('There can only one.'.split())\n",
    "    o/p:- 'There-can-only-one.'"
   ]
  },
  {
   "cell_type": "raw",
   "id": "826bfb6c",
   "metadata": {},
   "source": [
    "9. What are the methods for right-justifying, left-justifying, and centering a string?"
   ]
  },
  {
   "cell_type": "raw",
   "id": "f84ac9ed",
   "metadata": {},
   "source": [
    "Ans:-\n",
    "    Method for right-justifying is rjust()\n",
    "    Method for left-justifying is ljust()\n",
    "    Method for centering a string is center()"
   ]
  },
  {
   "cell_type": "raw",
   "id": "116b9723",
   "metadata": {},
   "source": [
    "10. What is the best way to remove whitespace characters from the start or end?"
   ]
  },
  {
   "cell_type": "code",
   "execution_count": null,
   "id": "f437cebe",
   "metadata": {},
   "outputs": [],
   "source": [
    "Ans:-\n",
    "    To use lstrip() and rstrip() Methods."
   ]
  }
 ],
 "metadata": {
  "kernelspec": {
   "display_name": "Python 3 (ipykernel)",
   "language": "python",
   "name": "python3"
  },
  "language_info": {
   "codemirror_mode": {
    "name": "ipython",
    "version": 3
   },
   "file_extension": ".py",
   "mimetype": "text/x-python",
   "name": "python",
   "nbconvert_exporter": "python",
   "pygments_lexer": "ipython3",
   "version": "3.9.12"
  }
 },
 "nbformat": 4,
 "nbformat_minor": 5
}
