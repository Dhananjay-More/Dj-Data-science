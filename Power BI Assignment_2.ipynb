{
 "cells": [
  {
   "cell_type": "raw",
   "id": "3f78b048",
   "metadata": {},
   "source": [
    "1.Explain the advantages of Natural Queries in PowerBi with an example?"
   ]
  },
  {
   "cell_type": "raw",
   "id": "14e094e1",
   "metadata": {},
   "source": [
    "Ans:-\n",
    "    1.Applying structure to unstructured data\n",
    "        NLP makes sense of that unstructured data, making it organized, queryable and searchable.\n",
    "    2.Reducing confusion about analytics results\n",
    "        NLG technology enables BI tools to create narratives from data so that trends, variances and \n",
    "        exceptions can be both visualized and described.\n",
    "    3.Driving deeper business insights\n",
    "        Natural language querying could help drive deeper insights by lowering the expertise required \n",
    "        to interact with BI and analytics tools.\n",
    "    4.Simplifying employee access to BI data\n",
    "        MicroStrategy has created NLP capabilities that can formulate a data visualization from a sentence \n",
    "        of text entered by a user. It also has added Alexa connectivity and chatbot support."
   ]
  },
  {
   "cell_type": "raw",
   "id": "646083af",
   "metadata": {},
   "source": [
    "2.Explain Web Front End(WFE) cluster from Power BI Service Architecture?"
   ]
  },
  {
   "cell_type": "raw",
   "id": "9ded08a1",
   "metadata": {},
   "source": [
    "Ans:-\n",
    "    The Web Front End (WFE) cluster. The WFE cluster manages the initial connection and authentication \n",
    "    to the Power BI service.\n",
    "        The WFE cluster uses Azure AD to authenticate clients, and provide tokens for subsequent client connections\n",
    "    to the Power BI service. Power BI uses the Azure Traffic Manager (Traffic Manager) to direct user traffic to\n",
    "    the nearest datacenter. Traffic Manager directs requests using the DNS record of the client attempting to \n",
    "    connect, authenticate, and to download static content and files. Power BI uses the Azure Content Delivery \n",
    "    Network (CDN) to efficiently distribute the necessary static content and files to users based on geographical\n",
    "    locale.\n"
   ]
  },
  {
   "cell_type": "raw",
   "id": "57264e4b",
   "metadata": {},
   "source": [
    "3.Explain Back End cluster from Power BI Service Architecture?"
   ]
  },
  {
   "cell_type": "raw",
   "id": "414caa95",
   "metadata": {},
   "source": [
    "Ans:-\n",
    "    The Back-End cluster. Once authenticated, the Back-End handles all subsequent user interactions. Power BI uses \n",
    "    Azure Active Directory (Azure AD) to store and manage user identities. Azure AD also manages data storage and \n",
    "    metadata using Azure BLOB and Azure SQL Database, respectively.\n",
    "        The Back-End cluster determines how authenticated clients interact with the Power BI service. The Back-End\n",
    "    cluster manages visualizations, user dashboards, datasets, reports, data storage, data connections, data \n",
    "    refresh, and other aspects of interacting with the Power BI service. The Gateway Role acts as a gateway\n",
    "    between user requests and the Power BI service. Users don't interact directly with any roles other than \n",
    "    the Gateway Role. Azure API Management eventually handles the Gateway Role."
   ]
  },
  {
   "cell_type": "raw",
   "id": "ac065045",
   "metadata": {},
   "source": [
    "4.What ASP.NET component does in Power BI Service Architecture?"
   ]
  },
  {
   "cell_type": "raw",
   "id": "1610af0c",
   "metadata": {},
   "source": [
    "Ans:-\n",
    "       1. Loading and execution of programs.\n",
    "       2. Verification of type-safety.\n",
    "       3. Compilation of IL into native executable code.\n",
    "       4. Providing metadata.\n",
    "       5. Memory management.\n",
    "       6. Security.\n",
    "       7. Cross-language interoperability.\n",
    "       8. Management of exceptions and errors.\n",
    "       9. Supports debugging and profiling.\n",
    "       10.Garbage collection."
   ]
  },
  {
   "cell_type": "raw",
   "id": "8e8c56d8",
   "metadata": {},
   "source": [
    "5.Compare Microsoft Excel and PowerBi Desktop on the following features:\n",
    "Data import\n",
    "Data transformation\n",
    "Modeling\n",
    "Reporting\n",
    "Server Deployment\n",
    "Convert Models\n",
    "Cost"
   ]
  },
  {
   "cell_type": "raw",
   "id": "7e6c2187",
   "metadata": {},
   "source": [
    "Ans:-\n",
    "    Data import:\n",
    "        Microsoft Excel-Excel can get data from everywhere with Power Query.\n",
    "        PowerBi Desktop-Power BI also has Power Query; it can fetch data from everywhere.\n",
    "    Data transformation:\n",
    "        Microsoft Excel-Excel is used to organize data, transform it and perform mathematical operations and calculations.\n",
    "        PowerBi Desktop-Power BI was conceived as a business intelligence and data visualization tool for businesses.\n",
    "    Modeling:\n",
    "        Microsoft Excel-Works with simple and structured data models.\n",
    "        PowerBi Desktop-Ideal for quickly creating complex data models.\n",
    "    Reporting:\n",
    "        Microsoft Excel-Reports are simpler and less appealing than those in Power BI.\n",
    "        PowerBi Desktop-More visually appealing, customized, appealing, and interactive reporting.\n",
    "    Server Deployment:\n",
    "        Microsoft Excel-Office Online Server (OOS)\n",
    "        PowerBi Desktop-Power BI Report Server can be deployed in Azure\n",
    "    Convert Models:\n",
    "        Microsoft Excel-Power Query\n",
    "        PowerBi Desktop-Power Query\n",
    "    Cost:\n",
    "        Microsoft Excel-Payment Tool.\n",
    "        PowerBi Desktop-It has a free version and a payment version.\n",
    "    "
   ]
  },
  {
   "cell_type": "raw",
   "id": "e8f0a426",
   "metadata": {},
   "source": [
    "6.List 20 data sources supported by Power Bi desktop."
   ]
  },
  {
   "cell_type": "raw",
   "id": "6bd8baf8",
   "metadata": {},
   "source": [
    "Ans:-\n",
    "    1.SQL Server database\n",
    "    2.Access database\n",
    "    3.SQL Server Analysis Services database\n",
    "    4.Oracle database\n",
    "    5.IBM Db2 database\n",
    "    6.IBM Informix database (Beta)\n",
    "    7.IBM Netezza\n",
    "    8.MySQL database\n",
    "    9.PostgreSQL database\n",
    "    10.Sybase database\n",
    "    11.Teradata database\n",
    "    12.SAP HANA database\n",
    "    13.SAP Business Warehouse Application Server\n",
    "    14.SAP Business Warehouse Message Server\n",
    "    15.Amazon Redshift\n",
    "    16.Impala\n",
    "    17.Google BigQuery\n",
    "    18.Google BigQuery (Azure AD)(Beta)\n",
    "    19.Vertica\n",
    "    20.Snowflake\n",
    "    21.Essbase\n",
    "    22.Actian (Beta)\n",
    "    23.Amazon Athena\n",
    "    24.AtScale cubes\n",
    "    25.BI Connector\n",
    "    26.Data Virtuality LDW\n",
    "    27.Denodo\n",
    "    28.Dremio Software\n",
    "    29.Dremio Cloud\n",
    "    30.Exasol\n",
    "    31.Indexima\n",
    "    32.InterSystems IRIS (Beta)\n",
    "    33.Jethro (Beta)\n",
    "    34.Kyligence\n",
    "    35.Linkar PICK Style / MultiValue Databases (Beta)\n",
    "    36.MariaDB\n",
    "    37.MarkLogic\n",
    "    38.MongoDB Atlas SQL (Beta)\n",
    "    39.TIBCO® Data Virtualization"
   ]
  }
 ],
 "metadata": {
  "kernelspec": {
   "display_name": "Python 3 (ipykernel)",
   "language": "python",
   "name": "python3"
  },
  "language_info": {
   "codemirror_mode": {
    "name": "ipython",
    "version": 3
   },
   "file_extension": ".py",
   "mimetype": "text/x-python",
   "name": "python",
   "nbconvert_exporter": "python",
   "pygments_lexer": "ipython3",
   "version": "3.9.12"
  }
 },
 "nbformat": 4,
 "nbformat_minor": 5
}
