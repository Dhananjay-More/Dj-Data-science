{
 "cells": [
  {
   "cell_type": "raw",
   "id": "e42e3ac1",
   "metadata": {},
   "source": [
    "1.What do you mean by BI? Explain."
   ]
  },
  {
   "cell_type": "raw",
   "id": "cf899d0d",
   "metadata": {},
   "source": [
    "Ans:-\n",
    "    Business intelligence (BI) is software that ingests business data and presents it in user-friendly views \n",
    "    such as reports, dashboards, charts and graphs.BI offers a way for people to examine data to understand \n",
    "    trends and derive insights."
   ]
  },
  {
   "cell_type": "raw",
   "id": "6610278a",
   "metadata": {},
   "source": [
    "2.How Power-BI helps in BI, and how does it help Analysts? Explain."
   ]
  },
  {
   "cell_type": "raw",
   "id": "92903b16",
   "metadata": {},
   "source": [
    "Ans:-\n",
    "    Power BI is a BI and data visualization tool that leverages visual analytics to empower people and \n",
    "    organizations in making the most of their data. The engaging visualizations created in Power BI take\n",
    "    the excel workflow to the next level and help stakeholders make sense of the massive amounts of data available.\n",
    "    Power BI is a business analytics solution that lets you visualize your data and share insights across your\n",
    "    organization, or embed them in your app or website.\n",
    "    With the Analytics pane in Power BI Desktop, you can add dynamic reference lines to visuals, and provide focus\n",
    "    for important trends or insights. The Analytics icon and pane is found in the Visualizations area of Power BI \n",
    "    Desktop. The Analytics pane only appears when you select a visual on the Power BI Desktop canvas."
   ]
  },
  {
   "cell_type": "raw",
   "id": "9c34370e",
   "metadata": {},
   "source": [
    "3.Explain Descriptive analytics?"
   ]
  },
  {
   "cell_type": "raw",
   "id": "7a82544e",
   "metadata": {},
   "source": [
    "Ans:-\n",
    "    Descriptive analytics is a statistical interpretation used to analyze historical data to identify patterns and \n",
    "    relationships. Descriptive analytics seeks to describe an event, phenomenon, or outcome. It helps understand\n",
    "    what has happened in the past and provides businesses the perfect base to track trends.\n",
    "    E.g:- Traffic and Engagement Reports\n",
    "        These reports are created by taking raw data—generated when users interact with your website, advertisements,\n",
    "        or social media content—and using it to compare current metrics to historical metrics and visualize trends."
   ]
  },
  {
   "cell_type": "raw",
   "id": "b9f27123",
   "metadata": {},
   "source": [
    "4.Explain Predictive analytics?"
   ]
  },
  {
   "cell_type": "raw",
   "id": "03332b15",
   "metadata": {},
   "source": [
    "Ans:-\n",
    "    Predictive analytics is the process of using data to forecast future outcomes. The process uses data analysis,\n",
    "    machine learning, artificial intelligence, and statistical models to find patterns that might predict future \n",
    "    behavior.Organizations can use historic and current data to forecast trends and behaviors seconds, days, or \n",
    "    years into the future with a great deal of precision. \n",
    "    E.g:-Fraud detection\n",
    "        Predictive analytics examines all actions on a company’s network in real time to pinpoint abnormalities \n",
    "        that indicate fraud and other vulnerabilities."
   ]
  },
  {
   "cell_type": "raw",
   "id": "7826bdc4",
   "metadata": {},
   "source": [
    "5.Explain perspective analytics?"
   ]
  },
  {
   "cell_type": "raw",
   "id": "3684d6b3",
   "metadata": {},
   "source": [
    "Ans:-\n",
    "    Prescriptive analytics is a form of data analytics that uses past performance and trends to determine what needs\n",
    "    to be done to achieve future goals.\n",
    "    E.g:-TikTok’s “For You” feed is one example of prescriptive analytics in action\n",
    "        if you finish a video, that’s a strong indicator that you’re interested. \n",
    "        Videos are then ranked to determine how likely you’ll be interested in each video and delivered \n",
    "        to each unique ‘For You’ feed."
   ]
  },
  {
   "cell_type": "raw",
   "id": "90d65dbd",
   "metadata": {},
   "source": [
    "6.Write five real-life questions that PowerBi can solve."
   ]
  },
  {
   "cell_type": "raw",
   "id": "911d01e8",
   "metadata": {},
   "source": [
    "Ans:-\n",
    "    1.Product Sales Data Analysis\n",
    "    2.Marketing Campaign Insights Analysis\n",
    "    3.Financial Performance Analysis\n",
    "    4.Healthcare Sales Analysis\n",
    "    5.Anomaly Detection in Credit Card Transactions\n",
    "    "
   ]
  }
 ],
 "metadata": {
  "kernelspec": {
   "display_name": "Python 3 (ipykernel)",
   "language": "python",
   "name": "python3"
  },
  "language_info": {
   "codemirror_mode": {
    "name": "ipython",
    "version": 3
   },
   "file_extension": ".py",
   "mimetype": "text/x-python",
   "name": "python",
   "nbconvert_exporter": "python",
   "pygments_lexer": "ipython3",
   "version": "3.9.12"
  }
 },
 "nbformat": 4,
 "nbformat_minor": 5
}
