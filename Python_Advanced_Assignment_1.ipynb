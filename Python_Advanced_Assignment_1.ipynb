{
 "cells": [
  {
   "cell_type": "raw",
   "id": "b2a37f34",
   "metadata": {},
   "source": [
    "Q1. What is the purpose of Python's OOP?"
   ]
  },
  {
   "cell_type": "raw",
   "id": "7199ac9b",
   "metadata": {},
   "source": [
    "Ans:-\n",
    "    Python's OOP (Object-Oriented Programming) allows the creation of modular, reusable and maintainable code by organizing data and functions into objects. The main purpose of Python's OOP is to provide a way to create code that is easy to understand, modify, and extend. It also allows the creation of complex applications by breaking them down into smaller, more manageable objects that can interact with one another."
   ]
  },
  {
   "cell_type": "raw",
   "id": "357aa350",
   "metadata": {},
   "source": [
    "Q2. Where does an inheritance search look for an attribute?"
   ]
  },
  {
   "cell_type": "raw",
   "id": "8528cddb",
   "metadata": {},
   "source": [
    "Ans:-\n",
    "    In Python's inheritance search, the search for an attribute begins in the instance object itself. If the attribute is not found in the instance object, it looks for the attribute in the class of the instance object. If the attribute is not found in the class, it looks for the attribute in the base class or parent class. The search continues up the hierarchy of classes until the attribute is found or the search is exhausted."
   ]
  },
  {
   "cell_type": "raw",
   "id": "1d65e14f",
   "metadata": {},
   "source": [
    "Q3. How do you distinguish between a class object and an instance object?"
   ]
  },
  {
   "cell_type": "raw",
   "id": "6219c3b7",
   "metadata": {},
   "source": [
    "Ans:-\n",
    "    In Python, a class is a blueprint or template for creating objects. It is a collection of methods and variables that define the behavior of the objects created from the class. An instance object, on the other hand, is a specific object created from a class.\n",
    "\n",
    "To distinguish between a class object and an instance object, we can compare their attributes. The attributes of a class object are shared among all instances created from the class. On the other hand, the attributes of an instance object are unique to that instance and can be different from other instances created from the same class."
   ]
  },
  {
   "cell_type": "raw",
   "id": "cbdfafbc",
   "metadata": {},
   "source": [
    "Q4. What makes the first argument in a class’s method function special?"
   ]
  },
  {
   "cell_type": "raw",
   "id": "2475acc4",
   "metadata": {},
   "source": [
    "Ans:-\n",
    "    In Python, the first argument in a class's method function is always the instance object itself and is conventionally named 'self'. This is a reference to the instance of the class on which the method is being called. It allows the method to access and manipulate the instance variables and methods of the class. The 'self' parameter is required in all instance method functions, and Python automatically passes the instance object as the first argument when the method is called."
   ]
  },
  {
   "cell_type": "raw",
   "id": "3728b1a0",
   "metadata": {},
   "source": [
    "Q5. What is the purpose of the __init__ method?"
   ]
  },
  {
   "cell_type": "raw",
   "id": "a4d77e67",
   "metadata": {},
   "source": [
    "Ans:-\n",
    "    The __init__ method is a special method in Python classes that is called when an instance of the class is created. The purpose of the __init__ method is to initialize the attributes of the instance. It is used to define and set the initial values of the instance variables of a class.\n",
    "\n",
    "The __init__ method takes at least one argument, which is the instance object itself (conventionally named as self), and can also take additional arguments to set the values of instance variables. The __init__ method is optional, but it is commonly used to ensure that the instance is initialized with the required attributes before it can be used."
   ]
  },
  {
   "cell_type": "raw",
   "id": "1942f969",
   "metadata": {},
   "source": [
    "Q6. What is the process for creating a class instance?"
   ]
  },
  {
   "cell_type": "raw",
   "id": "ce2137eb",
   "metadata": {},
   "source": [
    "Ans:-\n",
    "    The process for creating a class instance involves calling the class name followed by parentheses containing any necessary arguments. This creates an object of the class, which is an instance."
   ]
  },
  {
   "cell_type": "raw",
   "id": "6b069268",
   "metadata": {},
   "source": [
    "Q7. What is the process for creating a class?"
   ]
  },
  {
   "cell_type": "raw",
   "id": "45f8aba6",
   "metadata": {},
   "source": [
    "Ans:-\n",
    "    The process for creating a class involves using the \"class\" keyword followed by the class name and a colon. The class body includes any attributes and methods that the class will have."
   ]
  },
  {
   "cell_type": "raw",
   "id": "d33011fa",
   "metadata": {},
   "source": [
    "Q8. How would you define the superclasses of a class?"
   ]
  },
  {
   "cell_type": "raw",
   "id": "734717d8",
   "metadata": {},
   "source": [
    "Ans:-\n",
    "    The superclasses of a class, also known as parent classes or base classes, are defined using inheritance. In Python, a class can inherit from one or more superclasses by including them in parentheses after the class name in the class definition."
   ]
  }
 ],
 "metadata": {
  "kernelspec": {
   "display_name": "Python 3 (ipykernel)",
   "language": "python",
   "name": "python3"
  },
  "language_info": {
   "codemirror_mode": {
    "name": "ipython",
    "version": 3
   },
   "file_extension": ".py",
   "mimetype": "text/x-python",
   "name": "python",
   "nbconvert_exporter": "python",
   "pygments_lexer": "ipython3",
   "version": "3.9.12"
  }
 },
 "nbformat": 4,
 "nbformat_minor": 5
}
