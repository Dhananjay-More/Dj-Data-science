{
 "cells": [
  {
   "cell_type": "raw",
   "id": "7804ddd5",
   "metadata": {},
   "source": [
    "1.\tWrite a Python Program to Display Fibonacci Sequence Using Recursion?\n",
    "Ans:-\n",
    "def fibo(n):\n",
    "    if n<=1:\n",
    "        return 1\n",
    "    else:\n",
    "        return(fibo(n-1)+fibo(n-2))\n",
    "terms=int(input(\"Enter How many terms of fibonacci sequence you want:\"))\n",
    "for i in range(terms):\n",
    "    print(fibo(i))\n",
    "    "
   ]
  },
  {
   "cell_type": "raw",
   "id": "ce801296",
   "metadata": {},
   "source": [
    "2.\tWrite a Python Program to Find Factorial of Number Using Recursion?\n",
    "Ans:-\n",
    "def fact(n):\n",
    "    if n<=1:\n",
    "        return 1\n",
    "    else:\n",
    "        return n*fact(n-1)\n",
    "no=int(input(\"Enter Number to find the factorial:\"))\n",
    "print(\"Factorial of \",no, \"is =\",fact(no))"
   ]
  },
  {
   "cell_type": "raw",
   "id": "d5cfb84b",
   "metadata": {},
   "source": [
    "3.\tWrite a Python Program to calculate your Body Mass Index?\n",
    "Ans:-\n",
    "h=float(input(\"Input your height in Feet: \"))\n",
    "w=float(input(\"Input your weight in Kilogram: \"))\n",
    "bmi=round(w / (h * h), 2)\n",
    "print(\"Your body mass index is: \", bmi)"
   ]
  },
  {
   "cell_type": "raw",
   "id": "385ffebd",
   "metadata": {},
   "source": [
    "4.\tWrite a Python Program to calculate the natural logarithm of any number?\n",
    "Ans:-\n",
    "import math\n",
    "no=int(input(\"Input number to find logarithm: \"))\n",
    "print(\"Logarithm of \",no,\" is =\",math.log10(no))"
   ]
  },
  {
   "cell_type": "raw",
   "id": "b41eedea",
   "metadata": {},
   "source": [
    "5.\tWrite a Python Program for cube sum of first n natural numbers?\n",
    "Ans:-\n",
    "no=int(input(\"Enter Number upto which you want cube sum:\"))\n",
    "csum=0\n",
    "for i in range(1,no+1):\n",
    "    csum=csum+i*i*i\n",
    "print(\"Cube sum of first \",no,\" Natural number is =\",csum)"
   ]
  },
  {
   "cell_type": "code",
   "execution_count": null,
   "id": "fe79f5f0",
   "metadata": {},
   "outputs": [],
   "source": []
  }
 ],
 "metadata": {
  "kernelspec": {
   "display_name": "Python 3 (ipykernel)",
   "language": "python",
   "name": "python3"
  },
  "language_info": {
   "codemirror_mode": {
    "name": "ipython",
    "version": 3
   },
   "file_extension": ".py",
   "mimetype": "text/x-python",
   "name": "python",
   "nbconvert_exporter": "python",
   "pygments_lexer": "ipython3",
   "version": "3.9.12"
  }
 },
 "nbformat": 4,
 "nbformat_minor": 5
}
