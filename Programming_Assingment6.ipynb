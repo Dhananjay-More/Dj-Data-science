{
 "cells": [
  {
   "cell_type": "raw",
   "id": "5db92585",
   "metadata": {},
   "source": [
    "1.\tWrite a Python Program to Display Fibonacci Sequence Using Recursion?"
   ]
  },
  {
   "cell_type": "code",
   "execution_count": 2,
   "id": "b291cd5c",
   "metadata": {},
   "outputs": [
    {
     "name": "stdout",
     "output_type": "stream",
     "text": [
      "Enter How many terms of fibonacci sequence you want:10\n",
      "1\n",
      "1\n",
      "2\n",
      "3\n",
      "5\n",
      "8\n",
      "13\n",
      "21\n",
      "34\n",
      "55\n"
     ]
    }
   ],
   "source": [
    "def fibo(n):\n",
    "    if n<=1:\n",
    "        return 1\n",
    "    else:\n",
    "        return(fibo(n-1)+fibo(n-2))\n",
    "terms=int(input(\"Enter How many terms of fibonacci sequence you want:\"))\n",
    "for i in range(terms):\n",
    "    print(fibo(i))\n",
    "    "
   ]
  },
  {
   "cell_type": "raw",
   "id": "1dd20cfc",
   "metadata": {},
   "source": [
    "2.\tWrite a Python Program to Find Factorial of Number Using Recursion?"
   ]
  },
  {
   "cell_type": "code",
   "execution_count": 4,
   "id": "881ce8cd",
   "metadata": {},
   "outputs": [
    {
     "name": "stdout",
     "output_type": "stream",
     "text": [
      "Enter Number to find the factorial:5\n",
      "Factorial of  5 is = 120\n"
     ]
    }
   ],
   "source": [
    "def fact(n):\n",
    "    if n<=1:\n",
    "        return 1\n",
    "    else:\n",
    "        return n*fact(n-1)\n",
    "no=int(input(\"Enter Number to find the factorial:\"))\n",
    "print(\"Factorial of \",no, \"is =\",fact(no))"
   ]
  },
  {
   "cell_type": "raw",
   "id": "9b32e857",
   "metadata": {},
   "source": [
    "3.\tWrite a Python Program to calculate your Body Mass Index?"
   ]
  },
  {
   "cell_type": "code",
   "execution_count": 5,
   "id": "133231e9",
   "metadata": {},
   "outputs": [
    {
     "name": "stdout",
     "output_type": "stream",
     "text": [
      "Input your height in Feet: 6\n",
      "Input your weight in Kilogram: 65\n",
      "Your body mass index is:  1.81\n"
     ]
    }
   ],
   "source": [
    "h=float(input(\"Input your height in Feet: \"))\n",
    "w=float(input(\"Input your weight in Kilogram: \"))\n",
    "bmi=round(w / (h * h), 2)\n",
    "print(\"Your body mass index is: \", bmi)"
   ]
  },
  {
   "cell_type": "raw",
   "id": "608397e3",
   "metadata": {},
   "source": [
    "4.\tWrite a Python Program to calculate the natural logarithm of any number?"
   ]
  },
  {
   "cell_type": "code",
   "execution_count": 9,
   "id": "a0dc87e0",
   "metadata": {},
   "outputs": [
    {
     "name": "stdout",
     "output_type": "stream",
     "text": [
      "Input number to find logarithm: 15\n",
      "Logarithm of  15  is = 1.1760912590556813\n"
     ]
    }
   ],
   "source": [
    "import math\n",
    "no=int(input(\"Input number to find logarithm: \"))\n",
    "print(\"Logarithm of \",no,\" is =\",math.log10(no))"
   ]
  },
  {
   "cell_type": "raw",
   "id": "5d4b960c",
   "metadata": {},
   "source": [
    "5.\tWrite a Python Program for cube sum of first n natural numbers?"
   ]
  },
  {
   "cell_type": "code",
   "execution_count": 11,
   "id": "aa7b33ff",
   "metadata": {},
   "outputs": [
    {
     "name": "stdout",
     "output_type": "stream",
     "text": [
      "Enter Number upto which you want cube sum:3\n",
      "Cube sum of first  3  Natural number is = 36\n"
     ]
    }
   ],
   "source": [
    "no=int(input(\"Enter Number upto which you want cube sum:\"))\n",
    "csum=0\n",
    "for i in range(1,no+1):\n",
    "    csum=csum+i*i*i\n",
    "print(\"Cube sum of first \",no,\" Natural number is =\",csum)"
   ]
  },
  {
   "cell_type": "code",
   "execution_count": null,
   "id": "fb072aeb",
   "metadata": {},
   "outputs": [],
   "source": []
  }
 ],
 "metadata": {
  "kernelspec": {
   "display_name": "Python 3 (ipykernel)",
   "language": "python",
   "name": "python3"
  },
  "language_info": {
   "codemirror_mode": {
    "name": "ipython",
    "version": 3
   },
   "file_extension": ".py",
   "mimetype": "text/x-python",
   "name": "python",
   "nbconvert_exporter": "python",
   "pygments_lexer": "ipython3",
   "version": "3.9.12"
  }
 },
 "nbformat": 4,
 "nbformat_minor": 5
}
