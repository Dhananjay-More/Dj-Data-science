{
 "cells": [
  {
   "cell_type": "raw",
   "id": "1c13d537",
   "metadata": {},
   "source": [
    "1.\tWrite a Python Program to Add Two Matrices?\n",
    "import numpy as np\n",
    "a=np.array([[1,2,3],[4,5,6],[7,8,9]])\n",
    "b=np.array([[1,2,3],[4,5,6],[7,8,9]])\n",
    "print(\"Addition of Matrices is as follows:\")\n",
    "for i in range(0,len(a)):\n",
    "    for j in range(0,len(a[i])):\n",
    "        c[i][j]=a[i][j]+b[i][j]\n",
    "print(c)"
   ]
  },
  {
   "cell_type": "raw",
   "id": "3cc7ecc8",
   "metadata": {},
   "source": [
    "2.\tWrite a Python Program to Multiply Two Matrices?\n",
    "import numpy as np\n",
    "a=np.array([[1,2,3],[4,5,6],[7,8,9]])\n",
    "b=np.array([[1,2,3],[4,5,6],[7,8,9]])\n",
    "print(\"Multiplication of Matrices is as follows:\")\n",
    "if len(a[0])==len(b):\n",
    "    for i in range(0,len(a)):\n",
    "        for j in range(0,len(b[i])):\n",
    "            c[i][j]=0\n",
    "            for k in range(0,len(b)):\n",
    "                c[i][j]=c[i][j]+a[i][k]*b[k][j]\n",
    "else:\n",
    "    print(\"Can not multiply those two matrix\")\n",
    "print(c)"
   ]
  },
  {
   "cell_type": "raw",
   "id": "1d6db3eb",
   "metadata": {},
   "source": [
    "3.\tWrite a Python Program to Transpose a Matrix?\n",
    "import numpy as np\n",
    "a=np.array([[1,2,3],[4,5,6],[7,8,9]])\n",
    "for i in range(0,len(a)):\n",
    "    for j in range(0,len(a[i])):\n",
    "        c[j][i]=a[i][j]\n",
    "print(\"Transpose a Matrix is as follows:\")\n",
    "print(c)"
   ]
  },
  {
   "cell_type": "raw",
   "id": "66e4200a",
   "metadata": {},
   "source": [
    "4.\tWrite a Python Program to Sort Words in Alphabetic Order?\n",
    "word_list=[]\n",
    "try:\n",
    "    flag=True\n",
    "    while(flag):\n",
    "        word=input(\"Enter world\")\n",
    "        word_list.append(word)\n",
    "        ch=input(\"Do you want to insert another word?(y/n)\")\n",
    "        if ch=='y':\n",
    "            pass\n",
    "        else:\n",
    "            flag=False\n",
    "    Sorted_list=sorted(word_list)\n",
    "    print(\"Words in Alphabetic Order are as follows:\")\n",
    "    print(Sorted_list)\n",
    "except Exception as e:\n",
    "    print(\"Error:\",e)"
   ]
  },
  {
   "cell_type": "raw",
   "id": "45e0cd51",
   "metadata": {},
   "source": [
    "5.\tWrite a Python Program to Remove Punctuation From a String?\n",
    "import string\n",
    "try:\n",
    "    str_with_punc=input(\"Enter string with Punctuation :\")\n",
    "    new_str=str.maketrans(' ',' ',string.punctuation)\n",
    "    str_without_punc=str_with_punc.translate(new_str)\n",
    "    print(\"String after Removing Punctuation :\",str_without_punc)\n",
    "except Exception as e:\n",
    "    print(\"Error:\",e)"
   ]
  },
  {
   "cell_type": "code",
   "execution_count": null,
   "id": "29c78c38",
   "metadata": {},
   "outputs": [],
   "source": []
  }
 ],
 "metadata": {
  "kernelspec": {
   "display_name": "Python 3 (ipykernel)",
   "language": "python",
   "name": "python3"
  },
  "language_info": {
   "codemirror_mode": {
    "name": "ipython",
    "version": 3
   },
   "file_extension": ".py",
   "mimetype": "text/x-python",
   "name": "python",
   "nbconvert_exporter": "python",
   "pygments_lexer": "ipython3",
   "version": "3.9.12"
  }
 },
 "nbformat": 4,
 "nbformat_minor": 5
}
