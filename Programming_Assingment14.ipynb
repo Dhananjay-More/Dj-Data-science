{
 "cells": [
  {
   "cell_type": "raw",
   "id": "e330d958",
   "metadata": {},
   "source": [
    "Question 1:\n",
    "Define a class with a generator which can iterate the numbers, which are divisible by 7, between a given range 0 and n."
   ]
  },
  {
   "cell_type": "raw",
   "id": "3a4a9e17",
   "metadata": {},
   "source": [
    "Ans:-\n",
    "def gen(n):\n",
    "  for i in range(0,n):\n",
    "    if i%7==0:\n",
    "      yield i\n",
    "n = int(input('enter n : '))\n",
    "for i in gen(n):\n",
    "    print(i)"
   ]
  },
  {
   "cell_type": "raw",
   "id": "92aca14f",
   "metadata": {},
   "source": [
    "Question 2:\n",
    "Write a program to compute the frequency of the words from the input. The output should output after sorting the key alphanumerically. \n",
    "Suppose the following input is supplied to the program:\n",
    "New to Python or choosing between Python 2 and Python 3? Read Python 2 or Python 3.\n",
    "Then, the output should be:\n",
    "2:2\n",
    "3.:1\n",
    "3?:1\n",
    "New:1\n",
    "Python:5\n",
    "Read:1\n",
    "and:1\n",
    "between:1\n",
    "choosing:1\n",
    "or:2\n",
    "to:1"
   ]
  },
  {
   "cell_type": "raw",
   "id": "4b8d16e2",
   "metadata": {},
   "source": [
    "Ans:-\n",
    "Sentence = input('Enter the sentence ').split()\n",
    "word = sorted(set(Sentence))\n",
    "for i in word:\n",
    "    print(\"{0}:{1}\".format(i,Sentence.count(i)))"
   ]
  },
  {
   "cell_type": "raw",
   "id": "f44650e9",
   "metadata": {},
   "source": [
    "Question 3:\n",
    "Define a class Person and its two child classes: Male and Female. All classes have a method \"getGender\" which can print \"Male\" for Male class and \"Female\" for Female class."
   ]
  },
  {
   "cell_type": "raw",
   "id": "448bd7bf",
   "metadata": {},
   "source": [
    "Ans:-\n",
    "class Person(object):\n",
    "    def getGender( self ):\n",
    "        return \"None\"\n",
    "\n",
    "class Male( Person ):\n",
    "    def getGender( self ):\n",
    "        return \"Male\"\n",
    "\n",
    "class Female( Person ):\n",
    "    def getGender( self ):\n",
    "        return \"Female\"\n",
    "\n",
    "ob_male = Male()\n",
    "ob_female= Female()\n",
    "print(ob_male.getGender())\n",
    "print(ob_female.getGender())"
   ]
  },
  {
   "cell_type": "raw",
   "id": "de580649",
   "metadata": {},
   "source": [
    "Question 4:\n",
    "Please write a program to generate all sentences where subject is in [\"I\", \"You\"] and verb is in [\"Play\", \"Love\"] and the object is in [\"Hockey\",\"Football\"]."
   ]
  },
  {
   "cell_type": "raw",
   "id": "ab9f528c",
   "metadata": {},
   "source": [
    "Ans:-\n",
    "subject=[\"I\", \"You\"]\n",
    "verb=[\"Play\", \"Love\"]\n",
    "obj=[\"Hockey\",\"Football\"]\n",
    "\n",
    "str_list = [(sub+\" \"+ vb + \" \" + ob) for sub in subject for vb in verb for ob in obj]\n",
    "for sentence in str_list:\n",
    "    print(sentence)"
   ]
  },
  {
   "cell_type": "raw",
   "id": "fa671127",
   "metadata": {},
   "source": [
    "Question 5:\n",
    "Please write a program to compress and decompress the string \"hello world!hello world!hello world!hello world!\"."
   ]
  },
  {
   "cell_type": "raw",
   "id": "c3c6dc64",
   "metadata": {},
   "source": [
    "Ans:-\n",
    "import zlib\n",
    "str = 'hello world!hello world!hello world!hello world!'\n",
    "\n",
    "a = bytes(str, 'utf-8')\n",
    "b = zlib.compress(a)\n",
    "print(b)\n",
    "print(zlib.decompress(b))"
   ]
  },
  {
   "cell_type": "raw",
   "id": "c7ec9415",
   "metadata": {},
   "source": [
    "Question 6:\n",
    "Please write a binary search function which searches an item in a sorted list. The function should return the index of element to be searched in the list."
   ]
  },
  {
   "cell_type": "raw",
   "id": "217a2b98",
   "metadata": {},
   "source": [
    "Ans:-\n",
    "from bisect import bisect_left\n",
    "  \n",
    "def BinarySearch(a, x):\n",
    "    i = bisect_left(a, x)\n",
    "    if i != len(a) and a[i] == x:\n",
    "        return i\n",
    "    else:\n",
    "        return -1 \n",
    "\n",
    "a = [1, 2, 4, 4, 8]\n",
    "x = int(4)\n",
    "res = BinarySearch(a, x)\n",
    "if res == -1:\n",
    "    print(x, \"is absent\")\n",
    "else:\n",
    "    print(\"First occurrence of\", x, \"is present at\", res)"
   ]
  }
 ],
 "metadata": {
  "kernelspec": {
   "display_name": "Python 3 (ipykernel)",
   "language": "python",
   "name": "python3"
  },
  "language_info": {
   "codemirror_mode": {
    "name": "ipython",
    "version": 3
   },
   "file_extension": ".py",
   "mimetype": "text/x-python",
   "name": "python",
   "nbconvert_exporter": "python",
   "pygments_lexer": "ipython3",
   "version": "3.9.12"
  }
 },
 "nbformat": 4,
 "nbformat_minor": 5
}
