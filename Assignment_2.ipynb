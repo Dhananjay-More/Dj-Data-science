{
 "cells": [
  {
   "cell_type": "raw",
   "id": "bc6880d5",
   "metadata": {},
   "source": [
    "1.What are the two values of the Boolean data type? How do you write them?\n",
    "Ans:-\n",
    "      There are True(1) and False(0) values of Boolean data type.\n",
    "\tIt written as True and False  \n"
   ]
  },
  {
   "cell_type": "raw",
   "id": "43d4c1d5",
   "metadata": {},
   "source": [
    "2. What are the three different types of Boolean operators?\n",
    "Ans:- \n",
    " \tand , or, not are the three different type of Boolean operators.\n"
   ]
  },
  {
   "cell_type": "raw",
   "id": "fe35a2eb",
   "metadata": {},
   "source": [
    "3. Make a list of each Boolean operator's truth tables (i.e. every possible combination of Boolean values for the operator and what it evaluate ).\n",
    "Ans:-\n",
    "\tOperand a \tOperand b\ta and b\t\ta or b\n",
    "\tTrue\t\tTrue\t\tTrue\t\tTrue\n",
    "\tTrue\t\tFalse\t\tFalse\t\tTrue\n",
    "\tFalse\t\tTrue\t\tFalse\t\tTrue\n",
    "\tFalse\t\tFalse\t\tFalse\t\tFalse\n",
    "\n",
    "Operand a\t\tnot a\n",
    "True\t\t\tFalse\n",
    "False\t\t\tTrue\n"
   ]
  },
  {
   "cell_type": "raw",
   "id": "d653def0",
   "metadata": {},
   "source": [
    "4. What are the values of the following expressions?\n",
    "Expressions                             \tOutput\n",
    "    (5 > 4) and (3 == 5)\t\t\t\t\tFalse\n",
    "            not (5 > 4)\t\t\t\t\t\tFalse\n",
    "        (5 > 4) or (3 == 5)\t\t\t\t\tTrue\n",
    "not ((5 > 4) or (3 == 5))\t\t\t\t\tFalse\n",
    "(True and True) and (True == False)\t\t\tFalse\n",
    "(not False) or (not True)\t\t\t\t\tTrue\n"
   ]
  },
  {
   "cell_type": "raw",
   "id": "d39f1ecd",
   "metadata": {},
   "source": [
    "5. What are the six comparison operators?\n",
    "Ans:-\n",
    " \tcomparison operators       \t\tSymbol\n",
    "\t\tEqual\t\t\t         \t==\n",
    "\t\tNot equal\t\t          \t!=\n",
    "\t\tGreater than\t\t\t    >\n",
    "\t\tLess than\t\t\t        <\n",
    "\t\tGreater than  or  equal to\t>=\n",
    "\t\tLess than or equal to\t\t<=\n"
   ]
  },
  {
   "cell_type": "raw",
   "id": "82bfb0be",
   "metadata": {},
   "source": [
    "6. How do you tell the difference between the equal to and assignment operators?Describe a condition and when you would use one.\n",
    "Ans:-\n",
    "\tEqual to operator check two operands are same or not with respective value and data type.\n",
    "\t Assignment operator Assigns value of Right hand expression to Left hand variable.\n",
    "1)\tIf n %2 == 0:\n",
    "\t\tPrint(“n is even number”)\n",
    "\t// Here Equal to operator check equality of remainder and 0\n",
    "  2) \tTo assign value 10 to variable we use assignment operator.\n",
    "  \t\tA=10      \t//a is variable     \n"
   ]
  },
  {
   "cell_type": "raw",
   "id": "b3af3f6e",
   "metadata": {},
   "source": [
    "7. Identify the three blocks in this code: if Indentation is not proper it gives IndentationError\n",
    "spam = 0\n",
    "if spam == 10:     //block 1\n",
    "    print('eggs')\n",
    "if spam > 5:       //block 2\n",
    "    print('bacon')\n",
    "else:\t\t       //block 3\n",
    "    print('ham')\n",
    "print('spam')\n",
    "print('spam')\n"
   ]
  },
  {
   "cell_type": "raw",
   "id": "4bdd0bb5",
   "metadata": {},
   "source": [
    "8. Write code that prints Hello if 1 is stored in spam, prints Howdy if 2 is stored in spam, and prints Greetings! if anything else is stored in spam.\n",
    "Ans:-\n",
    " spam=0;\n",
    "if spam==1:\n",
    "    print(\"Hello\")\n",
    "elif spam==2:\n",
    "    print(\"Howdy\")\n",
    "else:\n",
    "    print(\"Greetings!\")\n"
   ]
  },
  {
   "cell_type": "raw",
   "id": "f72711a7",
   "metadata": {},
   "source": [
    "9.If your programme is stuck in an endless loop, what keys you’ll press?\n",
    "Ans:-\n",
    " \tTo break endless loop we have to press  ‘i’ two times.\n"
   ]
  },
  {
   "cell_type": "raw",
   "id": "ee113658",
   "metadata": {},
   "source": [
    "10. How can you tell the difference between break and continue?\n",
    "Ans:-\n",
    "\tBreak statement end the loop and come outside of the  loop while continue statement skips execution of remaining statement from loop and go to beginning of loop(condition) .\n"
   ]
  },
  {
   "cell_type": "raw",
   "id": "69bb1b13",
   "metadata": {},
   "source": [
    "11. In a for loop, what is the difference between range(10), range(0, 10), and range(0, 10, 1)?\n",
    "Ans:-\n",
    "\tIn a for loop there is no difference between range(10), range(0,10) and range(0,10,1).\n",
    "\tAll statement gives value in i from 0 to 9 (0,1,2,3,4,5,6,7,8,9) not include upper limit 10 and having default as well as given jump variable as 1.\n"
   ]
  },
  {
   "cell_type": "raw",
   "id": "13576bae",
   "metadata": {},
   "source": [
    "12. Write a short program that prints the numbers 1 to 10 using a for loop. Then write an equivalent program that prints the numbers 1 to 10 using a while loop.\n",
    "Ans:-\n",
    "1)\tUsing for loop\n",
    "for i in range(1,11):\n",
    "    print(i)\n",
    "2)\tusing while loop\n",
    "i=1\n",
    "while(i<=10):\n",
    "    print(i)\n",
    "    i=i+1\n"
   ]
  },
  {
   "cell_type": "raw",
   "id": "9f1ba666",
   "metadata": {},
   "source": [
    "13. If you had a function named bacon() inside a module named spam, how would you call it after importing spam?\n",
    "Ans:-\n",
    "1.\tfrom spam import *\n",
    "    bacon()\t\t// *  import all function from spam module  then so we can use bacon() here\n",
    "2.\tfrom spam import bacon\n",
    "\tbacon()\t\t// import only bacon function from spam module\n"
   ]
  }
 ],
 "metadata": {
  "kernelspec": {
   "display_name": "Python 3 (ipykernel)",
   "language": "python",
   "name": "python3"
  },
  "language_info": {
   "codemirror_mode": {
    "name": "ipython",
    "version": 3
   },
   "file_extension": ".py",
   "mimetype": "text/x-python",
   "name": "python",
   "nbconvert_exporter": "python",
   "pygments_lexer": "ipython3",
   "version": "3.9.12"
  }
 },
 "nbformat": 4,
 "nbformat_minor": 5
}
